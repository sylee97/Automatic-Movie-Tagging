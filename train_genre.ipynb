{
 "cells": [
  {
   "cell_type": "code",
   "execution_count": 1,
   "metadata": {},
   "outputs": [
    {
     "name": "stderr",
     "output_type": "stream",
     "text": [
      "c:\\Users\\NGN\\anaconda3\\envs\\auto_tagging\\lib\\site-packages\\tqdm\\auto.py:21: TqdmWarning: IProgress not found. Please update jupyter and ipywidgets. See https://ipywidgets.readthedocs.io/en/stable/user_install.html\n",
      "  from .autonotebook import tqdm as notebook_tqdm\n"
     ]
    }
   ],
   "source": [
    "import os\n",
    "import time\n",
    "import numpy as np\n",
    "from PIL import Image\n",
    "from torch.utils.data.dataset import Dataset\n",
    "from tqdm import tqdm\n",
    "from torchvision import transforms\n",
    "from torchvision import models\n",
    "import torch\n",
    "from torch.utils.tensorboard import SummaryWriter\n",
    "from torch import nn\n",
    "from torch.utils.data.dataloader import DataLoader\n",
    "from matplotlib import pyplot as plt\n",
    "from numpy import printoptions\n",
    "import requests\n",
    "import tarfile\n",
    "import random\n",
    "import json\n",
    "import torch.optim as optim"
   ]
  },
  {
   "cell_type": "code",
   "execution_count": 2,
   "metadata": {},
   "outputs": [],
   "source": [
    "# Fix all seeds to make experiments reproducible\n",
    "torch.manual_seed(2024)\n",
    "torch.cuda.manual_seed(2024)\n",
    "np.random.seed(2024)\n",
    "random.seed(2024)\n",
    "torch.backends.cudnn.deterministic = True"
   ]
  },
  {
   "cell_type": "code",
   "execution_count": 3,
   "metadata": {},
   "outputs": [],
   "source": [
    "device = torch.device(\"cuda:0\" if torch.cuda.is_available() else \"cpu\") # device 객체"
   ]
  },
  {
   "cell_type": "code",
   "execution_count": 4,
   "metadata": {},
   "outputs": [],
   "source": [
    "# Simple dataloader and label binarization, \n",
    "# that is converting test labels into binary arrays of length 6\n",
    "# (number of classes) with 1 in places of applicable labels).\n",
    "class MpstDataset(Dataset):\n",
    "    def __init__(self, data_path, anno_path, transforms, split_type):\n",
    "        self.transforms = transforms\n",
    "        self.split_type= split_type\n",
    "        with open(anno_path) as fp:\n",
    "            json_data = json.load(fp)\n",
    "        samples = json_data['samples']\n",
    "        self.classes = json_data['labels']\n",
    "\n",
    "        self.imgs = [] # 이미지 이름\n",
    "        self.annos = [] # 태그 이름\n",
    "        self.annos_idx = []\n",
    "        self.data_path = data_path\n",
    "        print('loading', anno_path)\n",
    "        for sample in samples:\n",
    "            if(sample['genre'])=='Action':\n",
    "                label=0\n",
    "            elif(sample['genre'])=='Comedy':\n",
    "                label=1\n",
    "            elif(sample['genre'])=='Crime':\n",
    "                label=2 \n",
    "            elif(sample['genre'])=='Drama':\n",
    "                label=3\n",
    "            elif(sample['genre'])=='Horror':\n",
    "                label=4    \n",
    "            elif(sample['genre'])=='Romance':\n",
    "                label=5                                       \n",
    "            self.imgs.append(sample['id'])\n",
    "            self.annos.append(sample['genre'])\n",
    "            self.annos_idx.append(label)\n",
    "        for item_id in range(len(self.annos)):\n",
    "            item = self.annos[item_id]\n",
    "            vector = [cls in item for cls in self.classes]\n",
    "            self.annos[item_id] = np.array(vector, dtype=float) # labeling one-hot encoding\n",
    "\n",
    "    def __getitem__(self, item):\n",
    "        anno = self.annos[item] \n",
    "        anno_idx = self.annos_idx[item]   \n",
    "        img_path = os.path.join(self.data_path, self.split_type, self.imgs[item])\n",
    "        img_path += '.png'\n",
    "        img = Image.open(img_path).convert('RGB')\n",
    "        if self.transforms is not None:\n",
    "            img = self.transforms(img)\n",
    "        return img, anno, anno_idx\n",
    "    \n",
    "\n",
    "    def __len__(self):\n",
    "        return len(self.imgs)"
   ]
  },
  {
   "cell_type": "code",
   "execution_count": 5,
   "metadata": {},
   "outputs": [
    {
     "name": "stdout",
     "output_type": "stream",
     "text": [
      "loading E:\\NRF_2022\\MDPI\\Extracted_Data\\genre_972_split\\train\\train.json\n",
      "loading E:\\NRF_2022\\MDPI\\Extracted_Data\\genre_972_split\\val\\val.json\n",
      "train dataset len: 680\n",
      "val dataset len: 146\n"
     ]
    }
   ],
   "source": [
    "import yaml\n",
    "with open('./config/cfg.yaml') as f:\n",
    "    cfg = yaml.safe_load(f)\n",
    "    \n",
    "img_folder = cfg['gr_img']['path']\n",
    "split_train='train'\n",
    "split_val='val'\n",
    "dataset_train = MpstDataset(img_folder, os.path.join(img_folder, 'train', 'train.json'), None, split_train)\n",
    "dataset_val = MpstDataset(img_folder, os.path.join(img_folder, 'val', 'val.json'), None, split_val)\n",
    "print(f\"train dataset len: {len(dataset_train)}\")\n",
    "print(f\"val dataset len: {len(dataset_val)}\")\n",
    "\n",
    "# # A simple function for visualization.\n",
    "# def show_sample(img, binary_img_labels):\n",
    "#     # Convert the binary labels back to the text representation.    \n",
    "#     img_labels = np.array(dataset_val.classes)[np.argwhere(binary_img_labels > 0)[:, 0]]\n",
    "#     plt.imshow(img)\n",
    "#     plt.title(\"{}\".format(', '.join(img_labels)))\n",
    "#     plt.axis('off')\n",
    "#     plt.show()\n",
    "\n",
    "# for sample_id in range(5):\n",
    "#     show_sample(*dataset_val[sample_id])"
   ]
  },
  {
   "cell_type": "code",
   "execution_count": 6,
   "metadata": {},
   "outputs": [
    {
     "name": "stdout",
     "output_type": "stream",
     "text": [
      "Label Tag Distribution (count, class name): [(47, 'Romance'), (98, 'Crime'), (99, 'Horror'), (176, 'Action'), (197, 'Comedy'), (208, 'Drama')]\n"
     ]
    },
    {
     "data": {
      "image/png": "[encoded data removed]",
      "text/plain": [
       "<Figure size 640x480 with 1 Axes>"
      ]
     },
     "metadata": {},
     "output_type": "display_data"
    }
   ],
   "source": [
    "# Calculate label distribution for the entire dataset (train + val)\n",
    "samples = dataset_val.annos + dataset_train.annos\n",
    "samples = np.array(samples)\n",
    "with printoptions(precision=3, suppress=True):\n",
    "    class_counts = np.sum(samples, axis=0)\n",
    "    # Sort labels according to their frequency in the dataset.\n",
    "    sorted_ids = np.array([i[0] for i in sorted(enumerate(class_counts), key=lambda x: x[1])], dtype=int)\n",
    "    print('Label Tag Distribution (count, class name):', list(zip(class_counts[sorted_ids].astype(int), np.array(dataset_val.classes)[sorted_ids])))\n",
    "    # plt.barh(range(len(dataset_val.classes)), width=class_counts[sorted_ids])\n",
    "    plt.barh(range(len(dataset_val.classes)), width=class_counts[sorted_ids])\n",
    "    plt.yticks(range(len(dataset_val.classes)), np.array(dataset_val.classes)[sorted_ids])\n",
    "    plt.gca().margins(y=0)\n",
    "    plt.grid()\n",
    "    plt.title('Label Tag Distribution')\n",
    "    plt.show()"
   ]
  },
  {
   "cell_type": "code",
   "execution_count": 7,
   "metadata": {},
   "outputs": [],
   "source": [
    "# Initialize the training parameters.\n",
    "num_workers = 0 # 8 # Number of CPU processes for data preprocessing\n",
    "lr = 1e-4 # Learning rate\n",
    "batch_size = 6\n",
    "save_freq = 1 # Save checkpoint frequency (epochs)\n",
    "max_epoch_number = 100 # Number of epochs for training \n",
    "\n",
    "mean = [0.485, 0.456, 0.406]\n",
    "std = [0.229, 0.224, 0.225]"
   ]
  },
  {
   "cell_type": "code",
   "execution_count": 8,
   "metadata": {},
   "outputs": [
    {
     "data": {
      "text/html": [
       "\n",
       "      <iframe id=\"tensorboard-frame-2e84496e7857dd86\" width=\"100%\" height=\"800\" frameborder=\"0\">\n",
       "      </iframe>\n",
       "      <script>\n",
       "        (function() {\n",
       "          const frame = document.getElementById(\"tensorboard-frame-2e84496e7857dd86\");\n",
       "          const url = new URL(\"/\", window.location);\n",
       "          const port = 6006;\n",
       "          if (port) {\n",
       "            url.port = port;\n",
       "          }\n",
       "          frame.src = url;\n",
       "        })();\n",
       "      </script>\n",
       "    "
      ],
      "text/plain": [
       "<IPython.core.display.HTML object>"
      ]
     },
     "metadata": {},
     "output_type": "display_data"
    }
   ],
   "source": [
    "# Save path for checkpoints\n",
    "save_path = './ckpt_genre/test1_3'\n",
    "# Save path for logs\n",
    "logdir = './logs_genre/test1_3'\n",
    "\n",
    "# Run tensorboard\n",
    "%load_ext tensorboard\n",
    "%tensorboard --logdir {logdir}"
   ]
  },
  {
   "cell_type": "code",
   "execution_count": 9,
   "metadata": {},
   "outputs": [],
   "source": [
    "def checkpoint_save(model, save_path, epoch):\n",
    "    f = os.path.join(save_path, 'checkpoint-{:06d}.pth'.format(epoch)) # checkpoint-000000.pth\n",
    "    if 'module' in dir(model):\n",
    "        torch.save(model.module.state_dict(), f)\n",
    "    else:\n",
    "        torch.save(model.state_dict(), f)\n",
    "    print('saved checkpoint:', f)"
   ]
  },
  {
   "cell_type": "code",
   "execution_count": 10,
   "metadata": {},
   "outputs": [],
   "source": [
    "transforms_train = transforms.Compose([\n",
    "    transforms.Resize((224, 224)),\n",
    "    # transforms.RandomHorizontalFlip(), # data augmentation\n",
    "    transforms.ToTensor(),\n",
    "    transforms.Normalize([0.485, 0.456, 0.406], [0.229, 0.224, 0.225]) # normalization\n",
    "])\n",
    "\n",
    "transforms_val = transforms.Compose([\n",
    "    transforms.Resize((224, 224)),\n",
    "    transforms.ToTensor(),\n",
    "    transforms.Normalize([0.485, 0.456, 0.406], [0.229, 0.224, 0.225])\n",
    "])"
   ]
  },
  {
   "cell_type": "code",
   "execution_count": 11,
   "metadata": {},
   "outputs": [
    {
     "name": "stdout",
     "output_type": "stream",
     "text": [
      "loading E:\\NRF_2022\\MDPI\\Extracted_Data\\genre_972_split\\val\\val.json\n",
      "loading E:\\NRF_2022\\MDPI\\Extracted_Data\\genre_972_split\\train\\train.json\n",
      "num_train_batches: 114\n",
      "num_val_batches: 25\n"
     ]
    }
   ],
   "source": [
    "\n",
    "img_folder=cfg['gr_img']['path']\n",
    "split_train='train'\n",
    "split_val='val'\n",
    "\n",
    "# Initialize the dataloaders for training.\n",
    "val_annotations = os.path.join(img_folder, 'val', 'val.json')\n",
    "train_annotations = os.path.join(img_folder, 'train','train.json')\n",
    "\n",
    "val_dataset = MpstDataset(img_folder, val_annotations, transforms_val, split_val)\n",
    "train_dataset = MpstDataset(img_folder, train_annotations, transforms_train, split_train)\n",
    "\n",
    "train_loader = DataLoader(train_dataset, batch_size=batch_size, num_workers=num_workers, shuffle=True,\n",
    "                              # drop_last=True\n",
    "                              )\n",
    "val_loader = DataLoader(val_dataset, batch_size=batch_size, num_workers=num_workers)\n",
    "\n",
    "num_train_batches = int(np.ceil(len(train_dataset) / batch_size))\n",
    "num_val_batches = int(np.ceil(len(val_dataset) / batch_size))\n",
    "print(f\"num_train_batches: {num_train_batches}\")\n",
    "print(f\"num_val_batches: {num_val_batches}\")"
   ]
  },
  {
   "cell_type": "code",
   "execution_count": 12,
   "metadata": {},
   "outputs": [
    {
     "name": "stdout",
     "output_type": "stream",
     "text": [
      "tensor([[[[-2.1179, -2.1179, -2.1179,  ..., -2.1179, -2.1179, -2.1179],\n",
      "          [-2.1179, -2.1179, -2.1179,  ..., -2.1179, -2.1179, -2.1179],\n",
      "          [-2.1179, -2.1179, -2.1179,  ..., -2.1179, -2.1179, -2.1179],\n",
      "          ...,\n",
      "          [-1.5185, -0.6281, -0.1828,  ...,  0.6049,  1.3070,  1.1529],\n",
      "          [-1.8782, -1.7583, -1.5528,  ...,  0.6049,  0.8104, -0.0458],\n",
      "          [-1.8782, -1.7583, -1.5528,  ...,  0.6049,  0.8104, -0.0458]],\n",
      "\n",
      "         [[-2.0357, -2.0357, -2.0357,  ..., -2.0357, -2.0357, -2.0357],\n",
      "          [-2.0357, -2.0357, -2.0357,  ..., -2.0357, -2.0357, -2.0357],\n",
      "          [-2.0357, -2.0357, -2.0357,  ..., -2.0357, -2.0357, -2.0357],\n",
      "          ...,\n",
      "          [-1.2829,  1.5882,  2.0609,  ...,  2.2360,  1.8508,  2.2885],\n",
      "          [-1.1779,  1.2556,  1.6232,  ...,  2.4286,  2.4286,  2.4286],\n",
      "          [-1.1779,  1.2556,  1.6232,  ...,  2.4286,  2.4286,  2.4286]],\n",
      "\n",
      "         [[ 0.4265,  0.4265,  0.4265,  ...,  0.4265,  0.4265,  0.4265],\n",
      "          [ 0.4265,  0.4265,  0.4265,  ...,  0.4265,  0.4265,  0.4265],\n",
      "          [ 0.4265,  0.4265,  0.4265,  ...,  0.4265,  0.4265,  0.4265],\n",
      "          ...,\n",
      "          [ 0.2348,  0.8797,  0.5834,  ..., -0.2532, -0.9504, -0.8110],\n",
      "          [ 0.5834,  2.0474,  2.0300,  ..., -0.2707, -0.4798,  0.3916],\n",
      "          [ 0.5834,  2.0474,  2.0300,  ..., -0.2707, -0.4798,  0.3916]]],\n",
      "\n",
      "\n",
      "        [[[-2.1179, -2.1179, -2.1179,  ..., -2.1179, -2.1179, -2.1179],\n",
      "          [-2.1179, -2.1179, -2.1179,  ..., -2.1179, -2.1179, -2.1179],\n",
      "          [-2.1179, -2.1179, -2.1179,  ..., -2.1179, -2.1179, -2.1179],\n",
      "          ...,\n",
      "          [-1.4500,  1.5125,  1.4098,  ...,  0.6049,  1.3070,  1.1529],\n",
      "          [-1.5699,  1.1529,  0.9988,  ...,  0.6049,  0.8104, -0.0458],\n",
      "          [-1.5699,  1.1529,  0.9988,  ...,  0.6049,  0.8104, -0.0458]],\n",
      "\n",
      "         [[-2.0357, -2.0357, -2.0357,  ..., -2.0357, -2.0357, -2.0357],\n",
      "          [-2.0357, -2.0357, -2.0357,  ..., -2.0357, -2.0357, -2.0357],\n",
      "          [-2.0357, -2.0357, -2.0357,  ..., -2.0357, -2.0357, -2.0357],\n",
      "          ...,\n",
      "          [-0.7752,  0.7479,  1.4132,  ...,  2.2360,  1.8508,  2.2885],\n",
      "          [-1.0553,  1.3957,  2.2885,  ...,  2.4286,  2.4286,  2.4286],\n",
      "          [-1.0553,  1.3957,  2.2885,  ...,  2.4286,  2.4286,  2.4286]],\n",
      "\n",
      "         [[ 0.4265,  0.4265,  0.4265,  ...,  0.4265,  0.4265,  0.4265],\n",
      "          [ 0.4265,  0.4265,  0.4265,  ...,  0.4265,  0.4265,  0.4265],\n",
      "          [ 0.4265,  0.4265,  0.4265,  ...,  0.4265,  0.4265,  0.4265],\n",
      "          ...,\n",
      "          [ 1.8905, -1.1247, -1.0376,  ..., -0.2532, -0.9504, -0.8110],\n",
      "          [ 2.0125, -0.7761, -0.6715,  ..., -0.2707, -0.4798,  0.3916],\n",
      "          [ 2.0125, -0.7761, -0.6715,  ..., -0.2707, -0.4798,  0.3916]]],\n",
      "\n",
      "\n",
      "        [[[-2.1179, -2.1179, -2.1179,  ..., -2.1179, -2.1179, -2.1179],\n",
      "          [-2.1179, -2.1179, -2.1179,  ..., -2.1179, -2.1179, -2.1179],\n",
      "          [-2.1179, -2.1179, -2.1179,  ..., -2.1179, -2.1179, -2.1179],\n",
      "          ...,\n",
      "          [-1.7069, -1.7925, -1.8782,  ...,  0.6049,  1.3070,  1.1529],\n",
      "          [-2.1179, -2.1179, -2.1179,  ...,  0.6049,  0.8104, -0.0458],\n",
      "          [-2.1179, -2.1179, -2.1179,  ...,  0.6049,  0.8104, -0.0458]],\n",
      "\n",
      "         [[-2.0357, -2.0357, -2.0357,  ..., -2.0357, -2.0357, -2.0357],\n",
      "          [-2.0357, -2.0357, -2.0357,  ..., -2.0357, -2.0357, -2.0357],\n",
      "          [-2.0357, -2.0357, -2.0357,  ..., -2.0357, -2.0357, -2.0357],\n",
      "          ...,\n",
      "          [ 1.8333,  1.4307,  1.8158,  ...,  2.2360,  1.8508,  2.2885],\n",
      "          [ 0.9755,  0.0126,  1.1155,  ...,  2.4286,  2.4286,  2.4286],\n",
      "          [ 0.9755,  0.0126,  1.1155,  ...,  2.4286,  2.4286,  2.4286]],\n",
      "\n",
      "         [[ 0.4265,  0.4265,  0.4265,  ...,  0.4265,  0.4265,  0.4265],\n",
      "          [ 0.4265,  0.4265,  0.4265,  ...,  0.4265,  0.4265,  0.4265],\n",
      "          [ 0.4265,  0.4265,  0.4265,  ...,  0.4265,  0.4265,  0.4265],\n",
      "          ...,\n",
      "          [ 2.1346,  2.2217,  2.3088,  ..., -0.2532, -0.9504, -0.8110],\n",
      "          [ 2.6400,  2.6400,  2.6226,  ..., -0.2707, -0.4798,  0.3916],\n",
      "          [ 2.6400,  2.6400,  2.6226,  ..., -0.2707, -0.4798,  0.3916]]],\n",
      "\n",
      "\n",
      "        [[[-2.1179, -2.1179, -2.1179,  ..., -2.1179, -2.1179, -2.1179],\n",
      "          [-2.1179, -2.1179, -2.1179,  ..., -2.1179, -2.1179, -2.1179],\n",
      "          [-2.1179, -2.1179, -2.1179,  ..., -2.1179, -2.1179, -2.1179],\n",
      "          ...,\n",
      "          [ 0.6049,  1.9749,  1.3755,  ...,  0.6049,  1.3070,  1.1529],\n",
      "          [ 0.6049,  1.5639,  0.8104,  ...,  0.6049,  0.8104, -0.0458],\n",
      "          [ 0.6049,  1.5639,  0.8104,  ...,  0.6049,  0.8104, -0.0458]],\n",
      "\n",
      "         [[-2.0357, -2.0357, -2.0357,  ..., -2.0357, -2.0357, -2.0357],\n",
      "          [-2.0357, -2.0357, -2.0357,  ..., -2.0357, -2.0357, -2.0357],\n",
      "          [-2.0357, -2.0357, -2.0357,  ..., -2.0357, -2.0357, -2.0357],\n",
      "          ...,\n",
      "          [ 1.0805,  0.4678,  1.1331,  ...,  2.2360,  1.8508,  2.2885],\n",
      "          [ 1.6583,  1.8859,  2.0784,  ...,  2.4286,  2.4286,  2.4286],\n",
      "          [ 1.6583,  1.8859,  2.0784,  ...,  2.4286,  2.4286,  2.4286]],\n",
      "\n",
      "         [[ 0.4265,  0.4265,  0.4265,  ...,  0.4265,  0.4265,  0.4265],\n",
      "          [ 0.4265,  0.4265,  0.4265,  ...,  0.4265,  0.4265,  0.4265],\n",
      "          [ 0.4265,  0.4265,  0.4265,  ...,  0.4265,  0.4265,  0.4265],\n",
      "          ...,\n",
      "          [-0.1312, -1.5604, -0.9678,  ..., -0.2532, -0.9504, -0.8110],\n",
      "          [-0.1312, -1.1944, -0.4101,  ..., -0.2707, -0.4798,  0.3916],\n",
      "          [-0.1312, -1.1944, -0.4101,  ..., -0.2707, -0.4798,  0.3916]]],\n",
      "\n",
      "\n",
      "        [[[-2.1179, -2.1179, -2.1179,  ..., -2.1179, -2.1179, -2.1179],\n",
      "          [-2.1179, -2.1179, -2.1179,  ..., -2.1179, -2.1179, -2.1179],\n",
      "          [-2.1179, -2.1179, -2.1179,  ..., -2.1179, -2.1179, -2.1179],\n",
      "          ...,\n",
      "          [-1.6898, -1.6042, -0.8164,  ...,  0.6049,  1.3070,  1.1529],\n",
      "          [-2.1179, -2.1179, -1.1932,  ...,  0.6049,  0.8104, -0.0458],\n",
      "          [-2.1179, -2.1179, -1.1932,  ...,  0.6049,  0.8104, -0.0458]],\n",
      "\n",
      "         [[-2.0357, -2.0357, -2.0357,  ..., -2.0357, -2.0357, -2.0357],\n",
      "          [-2.0357, -2.0357, -2.0357,  ..., -2.0357, -2.0357, -2.0357],\n",
      "          [-2.0357, -2.0357, -2.0357,  ..., -2.0357, -2.0357, -2.0357],\n",
      "          ...,\n",
      "          [ 2.0959,  1.6408,  1.9209,  ...,  2.2360,  1.8508,  2.2885],\n",
      "          [ 1.6057,  0.5203,  1.2906,  ...,  2.4286,  2.4286,  2.4286],\n",
      "          [ 1.6057,  0.5203,  1.2906,  ...,  2.4286,  2.4286,  2.4286]],\n",
      "\n",
      "         [[ 0.4265,  0.4265,  0.4265,  ...,  0.4265,  0.4265,  0.4265],\n",
      "          [ 0.4265,  0.4265,  0.4265,  ...,  0.4265,  0.4265,  0.4265],\n",
      "          [ 0.4265,  0.4265,  0.4265,  ...,  0.4265,  0.4265,  0.4265],\n",
      "          ...,\n",
      "          [ 2.0997,  2.0125,  1.2108,  ..., -0.2532, -0.9504, -0.8110],\n",
      "          [ 2.6226,  2.6226,  1.6640,  ..., -0.2707, -0.4798,  0.3916],\n",
      "          [ 2.6226,  2.6226,  1.6640,  ..., -0.2707, -0.4798,  0.3916]]],\n",
      "\n",
      "\n",
      "        [[[-2.1179, -2.1179, -2.1179,  ..., -2.1179, -2.1179, -2.1179],\n",
      "          [-2.1179, -2.1179, -2.1179,  ..., -2.1179, -2.1179, -2.1179],\n",
      "          [-2.1179, -2.1179, -2.1179,  ..., -2.1179, -2.1179, -2.1179],\n",
      "          ...,\n",
      "          [ 0.8104,  1.1872,  1.0673,  ...,  0.6049,  1.3070,  1.1529],\n",
      "          [ 0.6563,  0.6563,  0.1768,  ...,  0.6049,  0.8104, -0.0458],\n",
      "          [ 0.6563,  0.6563,  0.1768,  ...,  0.6049,  0.8104, -0.0458]],\n",
      "\n",
      "         [[-2.0357, -2.0357, -2.0357,  ..., -2.0357, -2.0357, -2.0357],\n",
      "          [-2.0357, -2.0357, -2.0357,  ..., -2.0357, -2.0357, -2.0357],\n",
      "          [-2.0357, -2.0357, -2.0357,  ..., -2.0357, -2.0357, -2.0357],\n",
      "          ...,\n",
      "          [ 1.6232,  2.2360,  2.3936,  ...,  2.2360,  1.8508,  2.2885],\n",
      "          [ 2.0434,  2.3060,  2.4286,  ...,  2.4286,  2.4286,  2.4286],\n",
      "          [ 2.0434,  2.3060,  2.4286,  ...,  2.4286,  2.4286,  2.4286]],\n",
      "\n",
      "         [[ 0.4265,  0.4265,  0.4265,  ...,  0.4265,  0.4265,  0.4265],\n",
      "          [ 0.4265,  0.4265,  0.4265,  ...,  0.4265,  0.4265,  0.4265],\n",
      "          [ 0.4265,  0.4265,  0.4265,  ...,  0.4265,  0.4265,  0.4265],\n",
      "          ...,\n",
      "          [-0.4275, -0.8458, -0.7587,  ..., -0.2532, -0.9504, -0.8110],\n",
      "          [-0.2532, -0.2881,  0.1651,  ..., -0.2707, -0.4798,  0.3916],\n",
      "          [-0.2532, -0.2881,  0.1651,  ..., -0.2707, -0.4798,  0.3916]]]])\n",
      "tensor([[0., 0., 0., 1., 0., 0.],\n",
      "        [0., 0., 0., 1., 0., 0.],\n",
      "        [0., 0., 0., 1., 0., 0.],\n",
      "        [0., 0., 0., 0., 0., 1.],\n",
      "        [1., 0., 0., 0., 0., 0.],\n",
      "        [1., 0., 0., 0., 0., 0.]], dtype=torch.float64)\n",
      "tensor([3, 3, 3, 5, 0, 0])\n"
     ]
    }
   ],
   "source": [
    "n1=0\n",
    "# batch load\n",
    "iterator = iter(val_loader)\n",
    "\n",
    "# batch print\n",
    "inputs, classes, c_idx = next(iterator)\n",
    "print(inputs)\n",
    "print(classes)\n",
    "print(c_idx)"
   ]
  },
  {
   "cell_type": "code",
   "execution_count": 13,
   "metadata": {},
   "outputs": [
    {
     "name": "stderr",
     "output_type": "stream",
     "text": [
      "c:\\Users\\NGN\\anaconda3\\envs\\auto_tagging\\lib\\site-packages\\torchvision\\models\\_utils.py:209: UserWarning: The parameter 'pretrained' is deprecated since 0.13 and may be removed in the future, please use 'weights' instead.\n",
      "  f\"The parameter '{pretrained_param}' is deprecated since 0.13 and may be removed in the future, \"\n",
      "c:\\Users\\NGN\\anaconda3\\envs\\auto_tagging\\lib\\site-packages\\torchvision\\models\\_utils.py:223: UserWarning: Arguments other than a weight enum or `None` for 'weights' are deprecated since 0.13 and may be removed in the future. The current behavior is equivalent to passing `weights=ResNet34_Weights.IMAGENET1K_V1`. You can also use `weights=ResNet34_Weights.DEFAULT` to get the most up-to-date weights.\n",
      "  warnings.warn(msg)\n"
     ]
    }
   ],
   "source": [
    "# model = models.vgg19(pretrained=True)\n",
    "# print(model)\n",
    "# num_features = model.classifier[6].in_features\n",
    "# model.classifier[6] = nn.Linear(num_features, 6)\n",
    "# model = model.to(device)\n",
    "model = models.resnet34(pretrained=True)\n",
    "num_features = model.fc.in_features\n",
    "model.fc = nn.Linear(num_features, 6)\n",
    "# model = models.mobilenet_v2(pretrained=True)\n",
    "# num_features = model.classifier[1].in_features\n",
    "# model.classifier[1] = nn.Linear(num_features, 6)\n",
    "# model = model.to(device)\n",
    "# output_=model(inputs.to(device))\n",
    "# print(output_)\n",
    "# _, preds = torch.max(output_, 1)\n",
    "# print(preds)\n",
    "# print(c_idx)\n",
    "# print(preds==c_idx.to(device))"
   ]
  },
  {
   "cell_type": "code",
   "execution_count": 15,
   "metadata": {},
   "outputs": [],
   "source": [
    "import copy\n",
    "\n",
    "def train(model, optimizer, train_loader, val_loader,  \n",
    "          device, logger):\n",
    "    model.to(device)\n",
    " \n",
    "    criterion = nn.CrossEntropyLoss()\n",
    "    best_val_loss = 100.0\n",
    "    best_val_acc = 0.0\n",
    "    \n",
    "    best_acc_model = None\n",
    "    best_loss_model = None\n",
    "    final_model = None\n",
    "    \n",
    "    iteration = 0\n",
    "    best_loss_epoch = 0 \n",
    "\n",
    "    start_time = time.time()\n",
    "    for epoch in range(1, max_epoch_number+1):\n",
    "        \n",
    "        if epoch==1:\n",
    "            best_loss_model = copy.deepcopy(model)\n",
    "            final_model = copy.deepcopy(model)  \n",
    "            \n",
    "        running_corrects = 0\n",
    "        model.train()\n",
    "        train_loss = []\n",
    "        \n",
    "        for imgs, labels, lb_idx in tqdm(iter(train_loader)):\n",
    "            imgs = imgs.float().to(device)\n",
    "            labels = labels.to(device)\n",
    "            lb_idx = lb_idx.to(device)\n",
    "            # print(f\"labels: {labels}\")\n",
    "            optimizer.zero_grad()\n",
    "            output = model(imgs)\n",
    "            _, preds = torch.max(output, 1)\n",
    "            loss = criterion(output, labels.type(torch.float))\n",
    "            batch_loss_value = loss.item()\n",
    "            loss.backward()\n",
    "            optimizer.step()\n",
    "            running_corrects += torch.sum(preds == lb_idx)\n",
    "            # tensorboard-1 \n",
    "            logger.add_scalar('train_loss/iter', batch_loss_value, iteration) # train_loss per iter\n",
    "            train_loss.append(batch_loss_value) # \n",
    "            iteration+=1\n",
    "            \n",
    "        # validation per epoch           \n",
    "        _val_loss  = validation(model, criterion, val_loader, device, logger, iteration)\n",
    "        epoch_acc = running_corrects / len(train_dataset) * 100.\n",
    "        \n",
    "        if _val_loss < best_val_loss: # best_loss model save\n",
    "            best_val_loss = _val_loss\n",
    "            best_loss_model = copy.deepcopy(model)\n",
    "            best_loss_epoch = epoch\n",
    "            checkpoint_save(best_loss_model, save_path, best_loss_epoch)\n",
    "        if epoch_acc > best_val_acc:\n",
    "            best_val_acc = epoch_acc \n",
    "            best_acc_model = copy.deepcopy(model)\n",
    "            best_acc_epoch=epoch\n",
    "            checkpoint_save(best_acc_model, save_path, best_acc_epoch)\n",
    "            \n",
    "       # tensorboard-2: val_loss/epoch\n",
    "        logger.add_scalar('val_loss/epoch' ,  _val_loss, epoch)\n",
    "        _train_loss = np.mean(train_loss)\n",
    "        # tensorboard-3: val_loss/iter\n",
    "        logger.add_scalar('_train_loss/iter', _train_loss, iteration) \n",
    "        # tensorboard-4: val_loss/epoch\n",
    "        logger.add_scalar('_train_loss/epoch', _train_loss, epoch) \n",
    "        \n",
    "        print(f'Epoch [{epoch}], Train Loss : [{_train_loss:.5f}] Val Loss : [{_val_loss:.5f}] ')\n",
    "        print(' Acc: {:.4f}% Time: {:.4f}s'.format( epoch_acc, time.time() - start_time))\n",
    "        final_model=model\n",
    "        \n",
    "    return final_model, epoch,  best_loss_model, best_loss_epoch, best_acc_model, best_acc_epoch\n",
    "\n",
    "def validation(model, criterion, val_loader, device, logger, iteration):\n",
    "    model.eval()\n",
    "    val_loss = []\n",
    "    with torch.no_grad():\n",
    "        for imgs, labels, lb_idx in tqdm(iter(val_loader)):\n",
    "            imgs = imgs.float().to(device)\n",
    "            labels = labels.to(device)\n",
    "            lb_idx = lb_idx.to(device)\n",
    "            probs = model(imgs)\n",
    "            loss = criterion(probs, labels.type(torch.float)) # BCE loss\n",
    "            val_loss.append(loss.item())\n",
    "        _val_loss = np.mean(val_loss) # val_loader loss per batch\n",
    "    \n",
    "    return _val_loss"
   ]
  },
  {
   "cell_type": "code",
   "execution_count": 16,
   "metadata": {},
   "outputs": [
    {
     "name": "stdout",
     "output_type": "stream",
     "text": [
      "./logs_genre/test1_3\n",
      "./ckpt_genre/test1_3\n"
     ]
    }
   ],
   "source": [
    "print(logdir)\n",
    "# Tensoboard logger\n",
    "logger = SummaryWriter(logdir)\n",
    "print(save_path)"
   ]
  },
  {
   "cell_type": "code",
   "execution_count": 17,
   "metadata": {},
   "outputs": [
    {
     "name": "stdout",
     "output_type": "stream",
     "text": [
      "ResNet(\n",
      "  (conv1): Conv2d(3, 64, kernel_size=(7, 7), stride=(2, 2), padding=(3, 3), bias=False)\n",
      "  (bn1): BatchNorm2d(64, eps=1e-05, momentum=0.1, affine=True, track_running_stats=True)\n",
      "  (relu): ReLU(inplace=True)\n",
      "  (maxpool): MaxPool2d(kernel_size=3, stride=2, padding=1, dilation=1, ceil_mode=False)\n",
      "  (layer1): Sequential(\n",
      "    (0): BasicBlock(\n",
      "      (conv1): Conv2d(64, 64, kernel_size=(3, 3), stride=(1, 1), padding=(1, 1), bias=False)\n",
      "      (bn1): BatchNorm2d(64, eps=1e-05, momentum=0.1, affine=True, track_running_stats=True)\n",
      "      (relu): ReLU(inplace=True)\n",
      "      (conv2): Conv2d(64, 64, kernel_size=(3, 3), stride=(1, 1), padding=(1, 1), bias=False)\n",
      "      (bn2): BatchNorm2d(64, eps=1e-05, momentum=0.1, affine=True, track_running_stats=True)\n",
      "    )\n",
      "    (1): BasicBlock(\n",
      "      (conv1): Conv2d(64, 64, kernel_size=(3, 3), stride=(1, 1), padding=(1, 1), bias=False)\n",
      "      (bn1): BatchNorm2d(64, eps=1e-05, momentum=0.1, affine=True, track_running_stats=True)\n",
      "      (relu): ReLU(inplace=True)\n",
      "      (conv2): Conv2d(64, 64, kernel_size=(3, 3), stride=(1, 1), padding=(1, 1), bias=False)\n",
      "      (bn2): BatchNorm2d(64, eps=1e-05, momentum=0.1, affine=True, track_running_stats=True)\n",
      "    )\n",
      "    (2): BasicBlock(\n",
      "      (conv1): Conv2d(64, 64, kernel_size=(3, 3), stride=(1, 1), padding=(1, 1), bias=False)\n",
      "      (bn1): BatchNorm2d(64, eps=1e-05, momentum=0.1, affine=True, track_running_stats=True)\n",
      "      (relu): ReLU(inplace=True)\n",
      "      (conv2): Conv2d(64, 64, kernel_size=(3, 3), stride=(1, 1), padding=(1, 1), bias=False)\n",
      "      (bn2): BatchNorm2d(64, eps=1e-05, momentum=0.1, affine=True, track_running_stats=True)\n",
      "    )\n",
      "  )\n",
      "  (layer2): Sequential(\n",
      "    (0): BasicBlock(\n",
      "      (conv1): Conv2d(64, 128, kernel_size=(3, 3), stride=(2, 2), padding=(1, 1), bias=False)\n",
      "      (bn1): BatchNorm2d(128, eps=1e-05, momentum=0.1, affine=True, track_running_stats=True)\n",
      "      (relu): ReLU(inplace=True)\n",
      "      (conv2): Conv2d(128, 128, kernel_size=(3, 3), stride=(1, 1), padding=(1, 1), bias=False)\n",
      "      (bn2): BatchNorm2d(128, eps=1e-05, momentum=0.1, affine=True, track_running_stats=True)\n",
      "      (downsample): Sequential(\n",
      "        (0): Conv2d(64, 128, kernel_size=(1, 1), stride=(2, 2), bias=False)\n",
      "        (1): BatchNorm2d(128, eps=1e-05, momentum=0.1, affine=True, track_running_stats=True)\n",
      "      )\n",
      "    )\n",
      "    (1): BasicBlock(\n",
      "      (conv1): Conv2d(128, 128, kernel_size=(3, 3), stride=(1, 1), padding=(1, 1), bias=False)\n",
      "      (bn1): BatchNorm2d(128, eps=1e-05, momentum=0.1, affine=True, track_running_stats=True)\n",
      "      (relu): ReLU(inplace=True)\n",
      "      (conv2): Conv2d(128, 128, kernel_size=(3, 3), stride=(1, 1), padding=(1, 1), bias=False)\n",
      "      (bn2): BatchNorm2d(128, eps=1e-05, momentum=0.1, affine=True, track_running_stats=True)\n",
      "    )\n",
      "    (2): BasicBlock(\n",
      "      (conv1): Conv2d(128, 128, kernel_size=(3, 3), stride=(1, 1), padding=(1, 1), bias=False)\n",
      "      (bn1): BatchNorm2d(128, eps=1e-05, momentum=0.1, affine=True, track_running_stats=True)\n",
      "      (relu): ReLU(inplace=True)\n",
      "      (conv2): Conv2d(128, 128, kernel_size=(3, 3), stride=(1, 1), padding=(1, 1), bias=False)\n",
      "      (bn2): BatchNorm2d(128, eps=1e-05, momentum=0.1, affine=True, track_running_stats=True)\n",
      "    )\n",
      "    (3): BasicBlock(\n",
      "      (conv1): Conv2d(128, 128, kernel_size=(3, 3), stride=(1, 1), padding=(1, 1), bias=False)\n",
      "      (bn1): BatchNorm2d(128, eps=1e-05, momentum=0.1, affine=True, track_running_stats=True)\n",
      "      (relu): ReLU(inplace=True)\n",
      "      (conv2): Conv2d(128, 128, kernel_size=(3, 3), stride=(1, 1), padding=(1, 1), bias=False)\n",
      "      (bn2): BatchNorm2d(128, eps=1e-05, momentum=0.1, affine=True, track_running_stats=True)\n",
      "    )\n",
      "  )\n",
      "  (layer3): Sequential(\n",
      "    (0): BasicBlock(\n",
      "      (conv1): Conv2d(128, 256, kernel_size=(3, 3), stride=(2, 2), padding=(1, 1), bias=False)\n",
      "      (bn1): BatchNorm2d(256, eps=1e-05, momentum=0.1, affine=True, track_running_stats=True)\n",
      "      (relu): ReLU(inplace=True)\n",
      "      (conv2): Conv2d(256, 256, kernel_size=(3, 3), stride=(1, 1), padding=(1, 1), bias=False)\n",
      "      (bn2): BatchNorm2d(256, eps=1e-05, momentum=0.1, affine=True, track_running_stats=True)\n",
      "      (downsample): Sequential(\n",
      "        (0): Conv2d(128, 256, kernel_size=(1, 1), stride=(2, 2), bias=False)\n",
      "        (1): BatchNorm2d(256, eps=1e-05, momentum=0.1, affine=True, track_running_stats=True)\n",
      "      )\n",
      "    )\n",
      "    (1): BasicBlock(\n",
      "      (conv1): Conv2d(256, 256, kernel_size=(3, 3), stride=(1, 1), padding=(1, 1), bias=False)\n",
      "      (bn1): BatchNorm2d(256, eps=1e-05, momentum=0.1, affine=True, track_running_stats=True)\n",
      "      (relu): ReLU(inplace=True)\n",
      "      (conv2): Conv2d(256, 256, kernel_size=(3, 3), stride=(1, 1), padding=(1, 1), bias=False)\n",
      "      (bn2): BatchNorm2d(256, eps=1e-05, momentum=0.1, affine=True, track_running_stats=True)\n",
      "    )\n",
      "    (2): BasicBlock(\n",
      "      (conv1): Conv2d(256, 256, kernel_size=(3, 3), stride=(1, 1), padding=(1, 1), bias=False)\n",
      "      (bn1): BatchNorm2d(256, eps=1e-05, momentum=0.1, affine=True, track_running_stats=True)\n",
      "      (relu): ReLU(inplace=True)\n",
      "      (conv2): Conv2d(256, 256, kernel_size=(3, 3), stride=(1, 1), padding=(1, 1), bias=False)\n",
      "      (bn2): BatchNorm2d(256, eps=1e-05, momentum=0.1, affine=True, track_running_stats=True)\n",
      "    )\n",
      "    (3): BasicBlock(\n",
      "      (conv1): Conv2d(256, 256, kernel_size=(3, 3), stride=(1, 1), padding=(1, 1), bias=False)\n",
      "      (bn1): BatchNorm2d(256, eps=1e-05, momentum=0.1, affine=True, track_running_stats=True)\n",
      "      (relu): ReLU(inplace=True)\n",
      "      (conv2): Conv2d(256, 256, kernel_size=(3, 3), stride=(1, 1), padding=(1, 1), bias=False)\n",
      "      (bn2): BatchNorm2d(256, eps=1e-05, momentum=0.1, affine=True, track_running_stats=True)\n",
      "    )\n",
      "    (4): BasicBlock(\n",
      "      (conv1): Conv2d(256, 256, kernel_size=(3, 3), stride=(1, 1), padding=(1, 1), bias=False)\n",
      "      (bn1): BatchNorm2d(256, eps=1e-05, momentum=0.1, affine=True, track_running_stats=True)\n",
      "      (relu): ReLU(inplace=True)\n",
      "      (conv2): Conv2d(256, 256, kernel_size=(3, 3), stride=(1, 1), padding=(1, 1), bias=False)\n",
      "      (bn2): BatchNorm2d(256, eps=1e-05, momentum=0.1, affine=True, track_running_stats=True)\n",
      "    )\n",
      "    (5): BasicBlock(\n",
      "      (conv1): Conv2d(256, 256, kernel_size=(3, 3), stride=(1, 1), padding=(1, 1), bias=False)\n",
      "      (bn1): BatchNorm2d(256, eps=1e-05, momentum=0.1, affine=True, track_running_stats=True)\n",
      "      (relu): ReLU(inplace=True)\n",
      "      (conv2): Conv2d(256, 256, kernel_size=(3, 3), stride=(1, 1), padding=(1, 1), bias=False)\n",
      "      (bn2): BatchNorm2d(256, eps=1e-05, momentum=0.1, affine=True, track_running_stats=True)\n",
      "    )\n",
      "  )\n",
      "  (layer4): Sequential(\n",
      "    (0): BasicBlock(\n",
      "      (conv1): Conv2d(256, 512, kernel_size=(3, 3), stride=(2, 2), padding=(1, 1), bias=False)\n",
      "      (bn1): BatchNorm2d(512, eps=1e-05, momentum=0.1, affine=True, track_running_stats=True)\n",
      "      (relu): ReLU(inplace=True)\n",
      "      (conv2): Conv2d(512, 512, kernel_size=(3, 3), stride=(1, 1), padding=(1, 1), bias=False)\n",
      "      (bn2): BatchNorm2d(512, eps=1e-05, momentum=0.1, affine=True, track_running_stats=True)\n",
      "      (downsample): Sequential(\n",
      "        (0): Conv2d(256, 512, kernel_size=(1, 1), stride=(2, 2), bias=False)\n",
      "        (1): BatchNorm2d(512, eps=1e-05, momentum=0.1, affine=True, track_running_stats=True)\n",
      "      )\n",
      "    )\n",
      "    (1): BasicBlock(\n",
      "      (conv1): Conv2d(512, 512, kernel_size=(3, 3), stride=(1, 1), padding=(1, 1), bias=False)\n",
      "      (bn1): BatchNorm2d(512, eps=1e-05, momentum=0.1, affine=True, track_running_stats=True)\n",
      "      (relu): ReLU(inplace=True)\n",
      "      (conv2): Conv2d(512, 512, kernel_size=(3, 3), stride=(1, 1), padding=(1, 1), bias=False)\n",
      "      (bn2): BatchNorm2d(512, eps=1e-05, momentum=0.1, affine=True, track_running_stats=True)\n",
      "    )\n",
      "    (2): BasicBlock(\n",
      "      (conv1): Conv2d(512, 512, kernel_size=(3, 3), stride=(1, 1), padding=(1, 1), bias=False)\n",
      "      (bn1): BatchNorm2d(512, eps=1e-05, momentum=0.1, affine=True, track_running_stats=True)\n",
      "      (relu): ReLU(inplace=True)\n",
      "      (conv2): Conv2d(512, 512, kernel_size=(3, 3), stride=(1, 1), padding=(1, 1), bias=False)\n",
      "      (bn2): BatchNorm2d(512, eps=1e-05, momentum=0.1, affine=True, track_running_stats=True)\n",
      "    )\n",
      "  )\n",
      "  (avgpool): AdaptiveAvgPool2d(output_size=(1, 1))\n",
      "  (fc): Linear(in_features=512, out_features=6, bias=True)\n",
      ")\n"
     ]
    }
   ],
   "source": [
    "# Initialize the model\n",
    "# model = models.resnet34(pretrained=True)\n",
    "# model = models.mobilenet_v2(pretrained=True)\n",
    "# num_features = model.classifier[1].in_features\n",
    "# model.classifier[1] = nn.Linear(num_features, 6)\n",
    "# num_features = model.classifier[6].in_features\n",
    "# model.classifier[6] = nn.Linear(num_features, 6)\n",
    "model = model.to(device)\n",
    "criterion = nn.CrossEntropyLoss()\n",
    "optimizer = optim.SGD(model.parameters(), lr=0.001, momentum=0.9)\n",
    "print(model)"
   ]
  },
  {
   "cell_type": "code",
   "execution_count": null,
   "metadata": {},
   "outputs": [],
   "source": [
    "num_features = model.fc.in_features\n",
    "model.fc = nn.Linear(num_features, 6)"
   ]
  },
  {
   "cell_type": "code",
   "execution_count": null,
   "metadata": {},
   "outputs": [],
   "source": [
    "genre_ckpt_path=cfg['genre_ckpt']['path']\n",
    "print(genre_ckpt_path)\n",
    "load_dir = genre_ckpt_path + '\\\\test1_2\\\\checkpoint-000002.pth'\n",
    "print(load_dir)"
   ]
  },
  {
   "cell_type": "code",
   "execution_count": null,
   "metadata": {},
   "outputs": [],
   "source": [
    "# 저장된 ckpt를 불러와서 inference를 수행하는 경우\n",
    "test_model = model\n",
    "test_model = test_model.to(device)\n",
    "\n",
    "test_model.load_state_dict(torch.load(load_dir ))\n",
    "\n",
    "test_model.eval()"
   ]
  },
  {
   "cell_type": "code",
   "execution_count": 18,
   "metadata": {},
   "outputs": [],
   "source": [
    "# Switch model to the training mode and move it to GPU.\n",
    "model.train()\n",
    "\n",
    "# If more than one GPU is available we can use both to speed up the training.\n",
    "if torch.cuda.device_count() > 1:\n",
    "    model = nn.DataParallel(model)"
   ]
  },
  {
   "cell_type": "code",
   "execution_count": 19,
   "metadata": {},
   "outputs": [],
   "source": [
    "os.makedirs(save_path, exist_ok=True)"
   ]
  },
  {
   "cell_type": "code",
   "execution_count": 20,
   "metadata": {},
   "outputs": [
    {
     "name": "stderr",
     "output_type": "stream",
     "text": [
      "100%|██████████| 114/114 [00:12<00:00,  8.97it/s]\n",
      "100%|██████████| 25/25 [00:01<00:00, 17.54it/s]\n"
     ]
    },
    {
     "name": "stdout",
     "output_type": "stream",
     "text": [
      "saved checkpoint: ./ckpt_genre/test1_3\\checkpoint-000001.pth\n",
      "saved checkpoint: ./ckpt_genre/test1_3\\checkpoint-000001.pth\n",
      "Epoch [1], Train Loss : [1.92213] Val Loss : [2.13326] \n",
      " Acc: 24.4118% Time: 15.7860s\n"
     ]
    },
    {
     "name": "stderr",
     "output_type": "stream",
     "text": [
      "100%|██████████| 114/114 [00:11<00:00, 10.15it/s]\n",
      "100%|██████████| 25/25 [00:01<00:00, 14.89it/s]\n"
     ]
    },
    {
     "name": "stdout",
     "output_type": "stream",
     "text": [
      "saved checkpoint: ./ckpt_genre/test1_3\\checkpoint-000002.pth\n",
      "Epoch [2], Train Loss : [1.76835] Val Loss : [2.21832] \n",
      " Acc: 30.8824% Time: 28.8750s\n"
     ]
    },
    {
     "name": "stderr",
     "output_type": "stream",
     "text": [
      "100%|██████████| 114/114 [00:11<00:00, 10.01it/s]\n",
      "100%|██████████| 25/25 [00:01<00:00, 15.37it/s]\n"
     ]
    },
    {
     "name": "stdout",
     "output_type": "stream",
     "text": [
      "saved checkpoint: ./ckpt_genre/test1_3\\checkpoint-000003.pth\n",
      "saved checkpoint: ./ckpt_genre/test1_3\\checkpoint-000003.pth\n",
      "Epoch [3], Train Loss : [1.42133] Val Loss : [1.88254] \n",
      " Acc: 42.6471% Time: 42.2260s\n"
     ]
    },
    {
     "name": "stderr",
     "output_type": "stream",
     "text": [
      "100%|██████████| 114/114 [00:11<00:00, 10.00it/s]\n",
      "100%|██████████| 25/25 [00:01<00:00, 15.80it/s]\n"
     ]
    },
    {
     "name": "stdout",
     "output_type": "stream",
     "text": [
      "saved checkpoint: ./ckpt_genre/test1_3\\checkpoint-000004.pth\n",
      "Epoch [4], Train Loss : [1.31241] Val Loss : [1.94335] \n",
      " Acc: 52.6471% Time: 55.4040s\n"
     ]
    },
    {
     "name": "stderr",
     "output_type": "stream",
     "text": [
      "100%|██████████| 114/114 [00:11<00:00, 10.02it/s]\n",
      "100%|██████████| 25/25 [00:01<00:00, 17.32it/s]\n"
     ]
    },
    {
     "name": "stdout",
     "output_type": "stream",
     "text": [
      "saved checkpoint: ./ckpt_genre/test1_3\\checkpoint-000005.pth\n",
      "Epoch [5], Train Loss : [1.01594] Val Loss : [2.33790] \n",
      " Acc: 61.4706% Time: 68.3870s\n"
     ]
    },
    {
     "name": "stderr",
     "output_type": "stream",
     "text": [
      "100%|██████████| 114/114 [00:11<00:00, 10.04it/s]\n",
      "100%|██████████| 25/25 [00:01<00:00, 17.12it/s]\n"
     ]
    },
    {
     "name": "stdout",
     "output_type": "stream",
     "text": [
      "saved checkpoint: ./ckpt_genre/test1_3\\checkpoint-000006.pth\n",
      "Epoch [6], Train Loss : [0.66472] Val Loss : [3.11175] \n",
      " Acc: 76.4706% Time: 81.3620s\n"
     ]
    },
    {
     "name": "stderr",
     "output_type": "stream",
     "text": [
      "100%|██████████| 114/114 [00:11<00:00, 10.04it/s]\n",
      "100%|██████████| 25/25 [00:01<00:00, 17.32it/s]\n"
     ]
    },
    {
     "name": "stdout",
     "output_type": "stream",
     "text": [
      "saved checkpoint: ./ckpt_genre/test1_3\\checkpoint-000007.pth\n",
      "Epoch [7], Train Loss : [0.62409] Val Loss : [2.27416] \n",
      " Acc: 78.3824% Time: 94.3240s\n"
     ]
    },
    {
     "name": "stderr",
     "output_type": "stream",
     "text": [
      "100%|██████████| 114/114 [00:11<00:00,  9.97it/s]\n",
      "100%|██████████| 25/25 [00:01<00:00, 16.17it/s]\n"
     ]
    },
    {
     "name": "stdout",
     "output_type": "stream",
     "text": [
      "saved checkpoint: ./ckpt_genre/test1_3\\checkpoint-000008.pth\n",
      "Epoch [8], Train Loss : [0.49165] Val Loss : [2.92017] \n",
      " Acc: 83.0882% Time: 107.4630s\n"
     ]
    },
    {
     "name": "stderr",
     "output_type": "stream",
     "text": [
      "100%|██████████| 114/114 [00:11<00:00,  9.94it/s]\n",
      "100%|██████████| 25/25 [00:01<00:00, 17.68it/s]\n"
     ]
    },
    {
     "name": "stdout",
     "output_type": "stream",
     "text": [
      "Epoch [9], Train Loss : [0.54513] Val Loss : [2.84388] \n",
      " Acc: 80.7353% Time: 120.3600s\n"
     ]
    },
    {
     "name": "stderr",
     "output_type": "stream",
     "text": [
      "100%|██████████| 114/114 [00:11<00:00, 10.02it/s]\n",
      "100%|██████████| 25/25 [00:01<00:00, 17.37it/s]\n"
     ]
    },
    {
     "name": "stdout",
     "output_type": "stream",
     "text": [
      "saved checkpoint: ./ckpt_genre/test1_3\\checkpoint-000010.pth\n",
      "Epoch [10], Train Loss : [0.37485] Val Loss : [2.79211] \n",
      " Acc: 87.9412% Time: 133.3490s\n"
     ]
    },
    {
     "name": "stderr",
     "output_type": "stream",
     "text": [
      "100%|██████████| 114/114 [00:11<00:00, 10.13it/s]\n",
      "100%|██████████| 25/25 [00:01<00:00, 16.74it/s]\n"
     ]
    },
    {
     "name": "stdout",
     "output_type": "stream",
     "text": [
      "saved checkpoint: ./ckpt_genre/test1_3\\checkpoint-000011.pth\n",
      "Epoch [11], Train Loss : [0.28901] Val Loss : [3.47047] \n",
      " Acc: 89.4118% Time: 146.2810s\n"
     ]
    },
    {
     "name": "stderr",
     "output_type": "stream",
     "text": [
      "100%|██████████| 114/114 [00:11<00:00,  9.85it/s]\n",
      "100%|██████████| 25/25 [00:01<00:00, 19.04it/s]\n"
     ]
    },
    {
     "name": "stdout",
     "output_type": "stream",
     "text": [
      "saved checkpoint: ./ckpt_genre/test1_3\\checkpoint-000012.pth\n",
      "Epoch [12], Train Loss : [0.30092] Val Loss : [2.79260] \n",
      " Acc: 90.4412% Time: 159.3340s\n"
     ]
    },
    {
     "name": "stderr",
     "output_type": "stream",
     "text": [
      "100%|██████████| 114/114 [00:10<00:00, 10.47it/s]\n",
      "100%|██████████| 25/25 [00:01<00:00, 18.98it/s]\n"
     ]
    },
    {
     "name": "stdout",
     "output_type": "stream",
     "text": [
      "saved checkpoint: ./ckpt_genre/test1_3\\checkpoint-000013.pth\n",
      "Epoch [13], Train Loss : [0.25994] Val Loss : [2.96574] \n",
      " Acc: 90.7353% Time: 171.7020s\n"
     ]
    },
    {
     "name": "stderr",
     "output_type": "stream",
     "text": [
      "100%|██████████| 114/114 [00:10<00:00, 10.71it/s]\n",
      "100%|██████████| 25/25 [00:01<00:00, 18.30it/s]\n"
     ]
    },
    {
     "name": "stdout",
     "output_type": "stream",
     "text": [
      "Epoch [14], Train Loss : [0.29120] Val Loss : [2.88969] \n",
      " Acc: 89.5588% Time: 183.7250s\n"
     ]
    },
    {
     "name": "stderr",
     "output_type": "stream",
     "text": [
      "100%|██████████| 114/114 [00:10<00:00, 10.73it/s]\n",
      "100%|██████████| 25/25 [00:01<00:00, 18.87it/s]\n"
     ]
    },
    {
     "name": "stdout",
     "output_type": "stream",
     "text": [
      "saved checkpoint: ./ckpt_genre/test1_3\\checkpoint-000015.pth\n",
      "Epoch [15], Train Loss : [0.18845] Val Loss : [2.79630] \n",
      " Acc: 93.0882% Time: 195.8290s\n"
     ]
    },
    {
     "name": "stderr",
     "output_type": "stream",
     "text": [
      "100%|██████████| 114/114 [00:10<00:00, 10.67it/s]\n",
      "100%|██████████| 25/25 [00:01<00:00, 18.88it/s]\n"
     ]
    },
    {
     "name": "stdout",
     "output_type": "stream",
     "text": [
      "saved checkpoint: ./ckpt_genre/test1_3\\checkpoint-000016.pth\n",
      "Epoch [16], Train Loss : [0.19010] Val Loss : [3.43733] \n",
      " Acc: 93.5294% Time: 207.9810s\n"
     ]
    },
    {
     "name": "stderr",
     "output_type": "stream",
     "text": [
      "100%|██████████| 114/114 [00:10<00:00, 10.78it/s]\n",
      "100%|██████████| 25/25 [00:01<00:00, 19.04it/s]\n"
     ]
    },
    {
     "name": "stdout",
     "output_type": "stream",
     "text": [
      "Epoch [17], Train Loss : [0.21486] Val Loss : [2.99687] \n",
      " Acc: 92.9412% Time: 219.8800s\n"
     ]
    },
    {
     "name": "stderr",
     "output_type": "stream",
     "text": [
      "100%|██████████| 114/114 [00:10<00:00, 10.78it/s]\n",
      "100%|██████████| 25/25 [00:01<00:00, 18.60it/s]\n"
     ]
    },
    {
     "name": "stdout",
     "output_type": "stream",
     "text": [
      "Epoch [18], Train Loss : [0.26361] Val Loss : [2.55006] \n",
      " Acc: 90.1471% Time: 231.8080s\n"
     ]
    },
    {
     "name": "stderr",
     "output_type": "stream",
     "text": [
      "100%|██████████| 114/114 [00:11<00:00,  9.87it/s]\n",
      "100%|██████████| 25/25 [00:01<00:00, 17.96it/s]\n"
     ]
    },
    {
     "name": "stdout",
     "output_type": "stream",
     "text": [
      "saved checkpoint: ./ckpt_genre/test1_3\\checkpoint-000019.pth\n",
      "Epoch [19], Train Loss : [0.09830] Val Loss : [3.04755] \n",
      " Acc: 96.4706% Time: 244.9160s\n"
     ]
    },
    {
     "name": "stderr",
     "output_type": "stream",
     "text": [
      "100%|██████████| 114/114 [00:10<00:00, 10.57it/s]\n",
      "100%|██████████| 25/25 [00:01<00:00, 19.90it/s]\n"
     ]
    },
    {
     "name": "stdout",
     "output_type": "stream",
     "text": [
      "saved checkpoint: ./ckpt_genre/test1_3\\checkpoint-000020.pth\n",
      "Epoch [20], Train Loss : [0.10755] Val Loss : [3.25328] \n",
      " Acc: 96.9118% Time: 257.0980s\n"
     ]
    },
    {
     "name": "stderr",
     "output_type": "stream",
     "text": [
      "100%|██████████| 114/114 [00:10<00:00, 11.29it/s]\n",
      "100%|██████████| 25/25 [00:01<00:00, 19.89it/s]\n"
     ]
    },
    {
     "name": "stdout",
     "output_type": "stream",
     "text": [
      "Epoch [21], Train Loss : [0.11779] Val Loss : [2.83742] \n",
      " Acc: 95.8824% Time: 268.4590s\n"
     ]
    },
    {
     "name": "stderr",
     "output_type": "stream",
     "text": [
      "100%|██████████| 114/114 [00:10<00:00, 11.29it/s]\n",
      "100%|██████████| 25/25 [00:01<00:00, 20.18it/s]\n"
     ]
    },
    {
     "name": "stdout",
     "output_type": "stream",
     "text": [
      "Epoch [22], Train Loss : [0.12982] Val Loss : [2.85688] \n",
      " Acc: 96.3235% Time: 279.8020s\n"
     ]
    },
    {
     "name": "stderr",
     "output_type": "stream",
     "text": [
      "100%|██████████| 114/114 [00:10<00:00, 11.27it/s]\n",
      "100%|██████████| 25/25 [00:01<00:00, 19.73it/s]\n"
     ]
    },
    {
     "name": "stdout",
     "output_type": "stream",
     "text": [
      "saved checkpoint: ./ckpt_genre/test1_3\\checkpoint-000023.pth\n",
      "Epoch [23], Train Loss : [0.05921] Val Loss : [2.92017] \n",
      " Acc: 98.2353% Time: 291.3810s\n"
     ]
    },
    {
     "name": "stderr",
     "output_type": "stream",
     "text": [
      "100%|██████████| 114/114 [00:10<00:00, 11.29it/s]\n",
      "100%|██████████| 25/25 [00:01<00:00, 19.10it/s]\n"
     ]
    },
    {
     "name": "stdout",
     "output_type": "stream",
     "text": [
      "saved checkpoint: ./ckpt_genre/test1_3\\checkpoint-000024.pth\n",
      "Epoch [24], Train Loss : [0.04450] Val Loss : [3.51541] \n",
      " Acc: 98.5294% Time: 302.9550s\n"
     ]
    },
    {
     "name": "stderr",
     "output_type": "stream",
     "text": [
      "100%|██████████| 114/114 [00:10<00:00, 11.24it/s]\n",
      "100%|██████████| 25/25 [00:01<00:00, 19.78it/s]\n"
     ]
    },
    {
     "name": "stdout",
     "output_type": "stream",
     "text": [
      "Epoch [25], Train Loss : [0.12975] Val Loss : [2.88178] \n",
      " Acc: 96.7647% Time: 314.3700s\n"
     ]
    },
    {
     "name": "stderr",
     "output_type": "stream",
     "text": [
      "100%|██████████| 114/114 [00:10<00:00, 11.14it/s]\n",
      "100%|██████████| 25/25 [00:01<00:00, 19.95it/s]\n"
     ]
    },
    {
     "name": "stdout",
     "output_type": "stream",
     "text": [
      "Epoch [26], Train Loss : [0.07556] Val Loss : [3.25721] \n",
      " Acc: 98.2353% Time: 325.8670s\n"
     ]
    },
    {
     "name": "stderr",
     "output_type": "stream",
     "text": [
      "100%|██████████| 114/114 [00:10<00:00, 11.12it/s]\n",
      "100%|██████████| 25/25 [00:01<00:00, 20.39it/s]\n"
     ]
    },
    {
     "name": "stdout",
     "output_type": "stream",
     "text": [
      "saved checkpoint: ./ckpt_genre/test1_3\\checkpoint-000027.pth\n",
      "Epoch [27], Train Loss : [0.04767] Val Loss : [2.92371] \n",
      " Acc: 98.8235% Time: 337.5050s\n"
     ]
    },
    {
     "name": "stderr",
     "output_type": "stream",
     "text": [
      "100%|██████████| 114/114 [00:10<00:00, 11.09it/s]\n",
      "100%|██████████| 25/25 [00:01<00:00, 19.58it/s]\n"
     ]
    },
    {
     "name": "stdout",
     "output_type": "stream",
     "text": [
      "Epoch [28], Train Loss : [0.08761] Val Loss : [2.97373] \n",
      " Acc: 96.9118% Time: 349.0710s\n"
     ]
    },
    {
     "name": "stderr",
     "output_type": "stream",
     "text": [
      "100%|██████████| 114/114 [00:10<00:00, 11.06it/s]\n",
      "100%|██████████| 25/25 [00:01<00:00, 19.65it/s]\n"
     ]
    },
    {
     "name": "stdout",
     "output_type": "stream",
     "text": [
      "Epoch [29], Train Loss : [0.14473] Val Loss : [2.99250] \n",
      " Acc: 95.2941% Time: 360.6600s\n"
     ]
    },
    {
     "name": "stderr",
     "output_type": "stream",
     "text": [
      "100%|██████████| 114/114 [00:10<00:00, 11.12it/s]\n",
      "100%|██████████| 25/25 [00:01<00:00, 19.87it/s]\n"
     ]
    },
    {
     "name": "stdout",
     "output_type": "stream",
     "text": [
      "Epoch [30], Train Loss : [0.17553] Val Loss : [3.07400] \n",
      " Acc: 95.5882% Time: 372.1830s\n"
     ]
    },
    {
     "name": "stderr",
     "output_type": "stream",
     "text": [
      "100%|██████████| 114/114 [00:10<00:00, 10.99it/s]\n",
      "100%|██████████| 25/25 [00:01<00:00, 19.14it/s]\n"
     ]
    },
    {
     "name": "stdout",
     "output_type": "stream",
     "text": [
      "Epoch [31], Train Loss : [0.13622] Val Loss : [3.30147] \n",
      " Acc: 96.3235% Time: 383.8760s\n"
     ]
    },
    {
     "name": "stderr",
     "output_type": "stream",
     "text": [
      "100%|██████████| 114/114 [00:10<00:00, 10.61it/s]\n",
      "100%|██████████| 25/25 [00:01<00:00, 16.79it/s]\n"
     ]
    },
    {
     "name": "stdout",
     "output_type": "stream",
     "text": [
      "saved checkpoint: ./ckpt_genre/test1_3\\checkpoint-000032.pth\n",
      "Epoch [32], Train Loss : [0.03873] Val Loss : [3.05769] \n",
      " Acc: 98.9706% Time: 396.2840s\n"
     ]
    },
    {
     "name": "stderr",
     "output_type": "stream",
     "text": [
      "100%|██████████| 114/114 [00:10<00:00, 10.78it/s]\n",
      "100%|██████████| 25/25 [00:01<00:00, 19.79it/s]\n"
     ]
    },
    {
     "name": "stdout",
     "output_type": "stream",
     "text": [
      "Epoch [33], Train Loss : [0.05913] Val Loss : [3.08138] \n",
      " Acc: 98.2353% Time: 408.1360s\n"
     ]
    },
    {
     "name": "stderr",
     "output_type": "stream",
     "text": [
      "100%|██████████| 114/114 [00:10<00:00, 11.03it/s]\n",
      "100%|██████████| 25/25 [00:01<00:00, 19.19it/s]\n"
     ]
    },
    {
     "name": "stdout",
     "output_type": "stream",
     "text": [
      "Epoch [34], Train Loss : [0.08148] Val Loss : [3.07697] \n",
      " Acc: 98.2353% Time: 419.7820s\n"
     ]
    },
    {
     "name": "stderr",
     "output_type": "stream",
     "text": [
      "100%|██████████| 114/114 [00:11<00:00,  9.96it/s]\n",
      "100%|██████████| 25/25 [00:01<00:00, 18.66it/s]\n"
     ]
    },
    {
     "name": "stdout",
     "output_type": "stream",
     "text": [
      "Epoch [35], Train Loss : [0.07124] Val Loss : [3.04052] \n",
      " Acc: 97.3529% Time: 432.5790s\n"
     ]
    },
    {
     "name": "stderr",
     "output_type": "stream",
     "text": [
      "100%|██████████| 114/114 [00:10<00:00, 10.55it/s]\n",
      "100%|██████████| 25/25 [00:01<00:00, 17.82it/s]\n"
     ]
    },
    {
     "name": "stdout",
     "output_type": "stream",
     "text": [
      "Epoch [36], Train Loss : [0.03655] Val Loss : [2.79778] \n",
      " Acc: 98.8235% Time: 444.7930s\n"
     ]
    },
    {
     "name": "stderr",
     "output_type": "stream",
     "text": [
      "100%|██████████| 114/114 [00:11<00:00, 10.18it/s]\n",
      "100%|██████████| 25/25 [00:01<00:00, 16.94it/s]\n"
     ]
    },
    {
     "name": "stdout",
     "output_type": "stream",
     "text": [
      "saved checkpoint: ./ckpt_genre/test1_3\\checkpoint-000037.pth\n",
      "Epoch [37], Train Loss : [0.02146] Val Loss : [2.96684] \n",
      " Acc: 99.1176% Time: 457.6220s\n"
     ]
    },
    {
     "name": "stderr",
     "output_type": "stream",
     "text": [
      "100%|██████████| 114/114 [00:10<00:00, 10.37it/s]\n",
      "100%|██████████| 25/25 [00:01<00:00, 18.71it/s]\n"
     ]
    },
    {
     "name": "stdout",
     "output_type": "stream",
     "text": [
      "Epoch [38], Train Loss : [0.02571] Val Loss : [3.42408] \n",
      " Acc: 98.9706% Time: 469.9610s\n"
     ]
    },
    {
     "name": "stderr",
     "output_type": "stream",
     "text": [
      "100%|██████████| 114/114 [00:10<00:00, 10.66it/s]\n",
      "100%|██████████| 25/25 [00:01<00:00, 18.88it/s]\n"
     ]
    },
    {
     "name": "stdout",
     "output_type": "stream",
     "text": [
      "Epoch [39], Train Loss : [0.01913] Val Loss : [3.36338] \n",
      " Acc: 99.1176% Time: 481.9930s\n"
     ]
    },
    {
     "name": "stderr",
     "output_type": "stream",
     "text": [
      "100%|██████████| 114/114 [00:10<00:00, 10.53it/s]\n",
      "100%|██████████| 25/25 [00:01<00:00, 17.61it/s]\n"
     ]
    },
    {
     "name": "stdout",
     "output_type": "stream",
     "text": [
      "Epoch [40], Train Loss : [0.04161] Val Loss : [3.29355] \n",
      " Acc: 98.3824% Time: 494.2430s\n"
     ]
    },
    {
     "name": "stderr",
     "output_type": "stream",
     "text": [
      "100%|██████████| 114/114 [00:10<00:00, 10.54it/s]\n",
      "100%|██████████| 25/25 [00:01<00:00, 17.81it/s]\n"
     ]
    },
    {
     "name": "stdout",
     "output_type": "stream",
     "text": [
      "saved checkpoint: ./ckpt_genre/test1_3\\checkpoint-000041.pth\n",
      "Epoch [41], Train Loss : [0.01681] Val Loss : [3.45098] \n",
      " Acc: 99.5588% Time: 506.6770s\n"
     ]
    },
    {
     "name": "stderr",
     "output_type": "stream",
     "text": [
      "100%|██████████| 114/114 [00:10<00:00, 10.54it/s]\n",
      "100%|██████████| 25/25 [00:01<00:00, 18.98it/s]\n"
     ]
    },
    {
     "name": "stdout",
     "output_type": "stream",
     "text": [
      "Epoch [42], Train Loss : [0.04614] Val Loss : [3.32563] \n",
      " Acc: 99.2647% Time: 518.8210s\n"
     ]
    },
    {
     "name": "stderr",
     "output_type": "stream",
     "text": [
      "100%|██████████| 114/114 [00:10<00:00, 10.52it/s]\n",
      "100%|██████████| 25/25 [00:01<00:00, 19.28it/s]\n"
     ]
    },
    {
     "name": "stdout",
     "output_type": "stream",
     "text": [
      "Epoch [43], Train Loss : [0.04166] Val Loss : [3.17335] \n",
      " Acc: 98.8235% Time: 530.9640s\n"
     ]
    },
    {
     "name": "stderr",
     "output_type": "stream",
     "text": [
      "100%|██████████| 114/114 [00:10<00:00, 10.58it/s]\n",
      "100%|██████████| 25/25 [00:01<00:00, 17.88it/s]\n"
     ]
    },
    {
     "name": "stdout",
     "output_type": "stream",
     "text": [
      "Epoch [44], Train Loss : [0.06496] Val Loss : [2.99449] \n",
      " Acc: 98.5294% Time: 543.1520s\n"
     ]
    },
    {
     "name": "stderr",
     "output_type": "stream",
     "text": [
      "100%|██████████| 114/114 [00:10<00:00, 10.48it/s]\n",
      "100%|██████████| 25/25 [00:01<00:00, 18.75it/s]\n"
     ]
    },
    {
     "name": "stdout",
     "output_type": "stream",
     "text": [
      "Epoch [45], Train Loss : [0.04446] Val Loss : [2.81902] \n",
      " Acc: 98.9706% Time: 555.3730s\n"
     ]
    },
    {
     "name": "stderr",
     "output_type": "stream",
     "text": [
      "100%|██████████| 114/114 [00:11<00:00, 10.33it/s]\n",
      "100%|██████████| 25/25 [00:01<00:00, 17.93it/s]\n"
     ]
    },
    {
     "name": "stdout",
     "output_type": "stream",
     "text": [
      "Epoch [46], Train Loss : [0.03063] Val Loss : [3.02235] \n",
      " Acc: 99.1176% Time: 567.8120s\n"
     ]
    },
    {
     "name": "stderr",
     "output_type": "stream",
     "text": [
      "100%|██████████| 114/114 [00:10<00:00, 10.39it/s]\n",
      "100%|██████████| 25/25 [00:01<00:00, 17.71it/s]\n"
     ]
    },
    {
     "name": "stdout",
     "output_type": "stream",
     "text": [
      "Epoch [47], Train Loss : [0.03889] Val Loss : [2.81392] \n",
      " Acc: 98.5294% Time: 580.2090s\n"
     ]
    },
    {
     "name": "stderr",
     "output_type": "stream",
     "text": [
      "100%|██████████| 114/114 [00:10<00:00, 10.42it/s]\n",
      "100%|██████████| 25/25 [00:01<00:00, 18.87it/s]\n"
     ]
    },
    {
     "name": "stdout",
     "output_type": "stream",
     "text": [
      "Epoch [48], Train Loss : [0.01613] Val Loss : [3.39365] \n",
      " Acc: 99.5588% Time: 592.4810s\n"
     ]
    },
    {
     "name": "stderr",
     "output_type": "stream",
     "text": [
      "100%|██████████| 114/114 [00:11<00:00, 10.36it/s]\n",
      "100%|██████████| 25/25 [00:01<00:00, 18.56it/s]\n"
     ]
    },
    {
     "name": "stdout",
     "output_type": "stream",
     "text": [
      "Epoch [49], Train Loss : [0.02981] Val Loss : [3.47083] \n",
      " Acc: 99.1176% Time: 604.8450s\n"
     ]
    },
    {
     "name": "stderr",
     "output_type": "stream",
     "text": [
      "100%|██████████| 114/114 [00:10<00:00, 10.40it/s]\n",
      "100%|██████████| 25/25 [00:01<00:00, 18.75it/s]\n"
     ]
    },
    {
     "name": "stdout",
     "output_type": "stream",
     "text": [
      "Epoch [50], Train Loss : [0.02762] Val Loss : [3.51490] \n",
      " Acc: 99.2647% Time: 617.1470s\n"
     ]
    },
    {
     "name": "stderr",
     "output_type": "stream",
     "text": [
      "100%|██████████| 114/114 [00:10<00:00, 10.39it/s]\n",
      "100%|██████████| 25/25 [00:01<00:00, 17.62it/s]\n"
     ]
    },
    {
     "name": "stdout",
     "output_type": "stream",
     "text": [
      "saved checkpoint: ./ckpt_genre/test1_3\\checkpoint-000051.pth\n",
      "Epoch [51], Train Loss : [0.00530] Val Loss : [3.64542] \n",
      " Acc: 100.0000% Time: 629.7020s\n"
     ]
    },
    {
     "name": "stderr",
     "output_type": "stream",
     "text": [
      "100%|██████████| 114/114 [00:11<00:00, 10.35it/s]\n",
      "100%|██████████| 25/25 [00:01<00:00, 18.81it/s]\n"
     ]
    },
    {
     "name": "stdout",
     "output_type": "stream",
     "text": [
      "Epoch [52], Train Loss : [0.00616] Val Loss : [3.56584] \n",
      " Acc: 99.8529% Time: 642.0560s\n"
     ]
    },
    {
     "name": "stderr",
     "output_type": "stream",
     "text": [
      "100%|██████████| 114/114 [00:10<00:00, 10.38it/s]\n",
      "100%|██████████| 25/25 [00:01<00:00, 18.63it/s]\n"
     ]
    },
    {
     "name": "stdout",
     "output_type": "stream",
     "text": [
      "Epoch [53], Train Loss : [0.00580] Val Loss : [3.59389] \n",
      " Acc: 99.7059% Time: 654.3900s\n"
     ]
    },
    {
     "name": "stderr",
     "output_type": "stream",
     "text": [
      "100%|██████████| 114/114 [00:10<00:00, 10.37it/s]\n",
      "100%|██████████| 25/25 [00:01<00:00, 17.42it/s]\n"
     ]
    },
    {
     "name": "stdout",
     "output_type": "stream",
     "text": [
      "Epoch [54], Train Loss : [0.01280] Val Loss : [3.45977] \n",
      " Acc: 99.2647% Time: 666.8340s\n"
     ]
    },
    {
     "name": "stderr",
     "output_type": "stream",
     "text": [
      "100%|██████████| 114/114 [00:10<00:00, 10.39it/s]\n",
      "100%|██████████| 25/25 [00:01<00:00, 18.46it/s]\n"
     ]
    },
    {
     "name": "stdout",
     "output_type": "stream",
     "text": [
      "Epoch [55], Train Loss : [0.02195] Val Loss : [3.67100] \n",
      " Acc: 99.5588% Time: 679.1710s\n"
     ]
    },
    {
     "name": "stderr",
     "output_type": "stream",
     "text": [
      "100%|██████████| 114/114 [00:11<00:00,  9.97it/s]\n",
      "100%|██████████| 25/25 [00:01<00:00, 18.61it/s]\n"
     ]
    },
    {
     "name": "stdout",
     "output_type": "stream",
     "text": [
      "Epoch [56], Train Loss : [0.00583] Val Loss : [3.67544] \n",
      " Acc: 99.8529% Time: 691.9590s\n"
     ]
    },
    {
     "name": "stderr",
     "output_type": "stream",
     "text": [
      "100%|██████████| 114/114 [00:11<00:00, 10.31it/s]\n",
      "100%|██████████| 25/25 [00:01<00:00, 18.40it/s]\n"
     ]
    },
    {
     "name": "stdout",
     "output_type": "stream",
     "text": [
      "Epoch [57], Train Loss : [0.00546] Val Loss : [3.62525] \n",
      " Acc: 99.7059% Time: 704.3810s\n"
     ]
    },
    {
     "name": "stderr",
     "output_type": "stream",
     "text": [
      "100%|██████████| 114/114 [00:10<00:00, 10.50it/s]\n",
      "100%|██████████| 25/25 [00:01<00:00, 18.44it/s]\n"
     ]
    },
    {
     "name": "stdout",
     "output_type": "stream",
     "text": [
      "Epoch [58], Train Loss : [0.02058] Val Loss : [3.52474] \n",
      " Acc: 99.7059% Time: 716.6030s\n"
     ]
    },
    {
     "name": "stderr",
     "output_type": "stream",
     "text": [
      "100%|██████████| 114/114 [00:10<00:00, 10.44it/s]\n",
      "100%|██████████| 25/25 [00:01<00:00, 18.56it/s]\n"
     ]
    },
    {
     "name": "stdout",
     "output_type": "stream",
     "text": [
      "Epoch [59], Train Loss : [0.04471] Val Loss : [3.92443] \n",
      " Acc: 99.1176% Time: 728.8840s\n"
     ]
    },
    {
     "name": "stderr",
     "output_type": "stream",
     "text": [
      "100%|██████████| 114/114 [00:10<00:00, 10.49it/s]\n",
      "100%|██████████| 25/25 [00:01<00:00, 18.80it/s]\n"
     ]
    },
    {
     "name": "stdout",
     "output_type": "stream",
     "text": [
      "Epoch [60], Train Loss : [0.01741] Val Loss : [3.95014] \n",
      " Acc: 99.4118% Time: 741.0910s\n"
     ]
    },
    {
     "name": "stderr",
     "output_type": "stream",
     "text": [
      "100%|██████████| 114/114 [00:10<00:00, 10.47it/s]\n",
      "100%|██████████| 25/25 [00:01<00:00, 17.25it/s]\n"
     ]
    },
    {
     "name": "stdout",
     "output_type": "stream",
     "text": [
      "Epoch [61], Train Loss : [0.02485] Val Loss : [3.55265] \n",
      " Acc: 99.1176% Time: 753.4360s\n"
     ]
    },
    {
     "name": "stderr",
     "output_type": "stream",
     "text": [
      "100%|██████████| 114/114 [00:10<00:00, 10.43it/s]\n",
      "100%|██████████| 25/25 [00:01<00:00, 19.01it/s]\n"
     ]
    },
    {
     "name": "stdout",
     "output_type": "stream",
     "text": [
      "Epoch [62], Train Loss : [0.03479] Val Loss : [3.18557] \n",
      " Acc: 98.3824% Time: 765.6910s\n"
     ]
    },
    {
     "name": "stderr",
     "output_type": "stream",
     "text": [
      "100%|██████████| 114/114 [00:10<00:00, 10.50it/s]\n",
      "100%|██████████| 25/25 [00:01<00:00, 18.97it/s]\n"
     ]
    },
    {
     "name": "stdout",
     "output_type": "stream",
     "text": [
      "Epoch [63], Train Loss : [0.02708] Val Loss : [3.30886] \n",
      " Acc: 98.6765% Time: 777.8830s\n"
     ]
    },
    {
     "name": "stderr",
     "output_type": "stream",
     "text": [
      "100%|██████████| 114/114 [00:10<00:00, 10.50it/s]\n",
      "100%|██████████| 25/25 [00:01<00:00, 18.73it/s]\n"
     ]
    },
    {
     "name": "stdout",
     "output_type": "stream",
     "text": [
      "Epoch [64], Train Loss : [0.04365] Val Loss : [3.76175] \n",
      " Acc: 98.8235% Time: 790.0830s\n"
     ]
    },
    {
     "name": "stderr",
     "output_type": "stream",
     "text": [
      "100%|██████████| 114/114 [00:10<00:00, 10.43it/s]\n",
      "100%|██████████| 25/25 [00:01<00:00, 18.93it/s]\n"
     ]
    },
    {
     "name": "stdout",
     "output_type": "stream",
     "text": [
      "Epoch [65], Train Loss : [0.07921] Val Loss : [3.37071] \n",
      " Acc: 98.5294% Time: 802.3480s\n"
     ]
    },
    {
     "name": "stderr",
     "output_type": "stream",
     "text": [
      "100%|██████████| 114/114 [00:10<00:00, 10.42it/s]\n",
      "100%|██████████| 25/25 [00:01<00:00, 18.94it/s]\n"
     ]
    },
    {
     "name": "stdout",
     "output_type": "stream",
     "text": [
      "Epoch [66], Train Loss : [0.03668] Val Loss : [3.44373] \n",
      " Acc: 98.9706% Time: 814.6180s\n"
     ]
    },
    {
     "name": "stderr",
     "output_type": "stream",
     "text": [
      "100%|██████████| 114/114 [00:10<00:00, 10.48it/s]\n",
      "100%|██████████| 25/25 [00:01<00:00, 18.37it/s]\n"
     ]
    },
    {
     "name": "stdout",
     "output_type": "stream",
     "text": [
      "Epoch [67], Train Loss : [0.04847] Val Loss : [3.42318] \n",
      " Acc: 98.9706% Time: 826.8630s\n"
     ]
    },
    {
     "name": "stderr",
     "output_type": "stream",
     "text": [
      "100%|██████████| 114/114 [00:11<00:00, 10.28it/s]\n",
      "100%|██████████| 25/25 [00:01<00:00, 17.59it/s]\n"
     ]
    },
    {
     "name": "stdout",
     "output_type": "stream",
     "text": [
      "Epoch [68], Train Loss : [0.01206] Val Loss : [3.43773] \n",
      " Acc: 99.5588% Time: 839.3860s\n"
     ]
    },
    {
     "name": "stderr",
     "output_type": "stream",
     "text": [
      "100%|██████████| 114/114 [00:11<00:00, 10.24it/s]\n",
      "100%|██████████| 25/25 [00:01<00:00, 18.87it/s]\n"
     ]
    },
    {
     "name": "stdout",
     "output_type": "stream",
     "text": [
      "Epoch [69], Train Loss : [0.03789] Val Loss : [3.51473] \n",
      " Acc: 98.8235% Time: 851.8570s\n"
     ]
    },
    {
     "name": "stderr",
     "output_type": "stream",
     "text": [
      "100%|██████████| 114/114 [00:10<00:00, 10.41it/s]\n",
      "100%|██████████| 25/25 [00:01<00:00, 18.18it/s]\n"
     ]
    },
    {
     "name": "stdout",
     "output_type": "stream",
     "text": [
      "Epoch [70], Train Loss : [0.01448] Val Loss : [3.62996] \n",
      " Acc: 99.5588% Time: 864.1890s\n"
     ]
    },
    {
     "name": "stderr",
     "output_type": "stream",
     "text": [
      "100%|██████████| 114/114 [00:11<00:00, 10.13it/s]\n",
      "100%|██████████| 25/25 [00:01<00:00, 18.78it/s]\n"
     ]
    },
    {
     "name": "stdout",
     "output_type": "stream",
     "text": [
      "Epoch [71], Train Loss : [0.00677] Val Loss : [3.32356] \n",
      " Acc: 99.7059% Time: 876.7810s\n"
     ]
    },
    {
     "name": "stderr",
     "output_type": "stream",
     "text": [
      "100%|██████████| 114/114 [00:11<00:00, 10.28it/s]\n",
      "100%|██████████| 25/25 [00:01<00:00, 19.08it/s]\n"
     ]
    },
    {
     "name": "stdout",
     "output_type": "stream",
     "text": [
      "Epoch [72], Train Loss : [0.00859] Val Loss : [3.25711] \n",
      " Acc: 99.7059% Time: 889.1930s\n"
     ]
    },
    {
     "name": "stderr",
     "output_type": "stream",
     "text": [
      "100%|██████████| 114/114 [00:11<00:00, 10.23it/s]\n",
      "100%|██████████| 25/25 [00:01<00:00, 19.20it/s]\n"
     ]
    },
    {
     "name": "stdout",
     "output_type": "stream",
     "text": [
      "Epoch [73], Train Loss : [0.00404] Val Loss : [3.52995] \n",
      " Acc: 99.7059% Time: 901.6480s\n"
     ]
    },
    {
     "name": "stderr",
     "output_type": "stream",
     "text": [
      "100%|██████████| 114/114 [00:11<00:00, 10.25it/s]\n",
      "100%|██████████| 25/25 [00:01<00:00, 18.18it/s]\n"
     ]
    },
    {
     "name": "stdout",
     "output_type": "stream",
     "text": [
      "Epoch [74], Train Loss : [0.00390] Val Loss : [3.56304] \n",
      " Acc: 99.8529% Time: 914.1560s\n"
     ]
    },
    {
     "name": "stderr",
     "output_type": "stream",
     "text": [
      "100%|██████████| 114/114 [00:11<00:00, 10.11it/s]\n",
      "100%|██████████| 25/25 [00:01<00:00, 18.02it/s]\n"
     ]
    },
    {
     "name": "stdout",
     "output_type": "stream",
     "text": [
      "Epoch [75], Train Loss : [0.00544] Val Loss : [3.57078] \n",
      " Acc: 99.7059% Time: 926.8250s\n"
     ]
    },
    {
     "name": "stderr",
     "output_type": "stream",
     "text": [
      "100%|██████████| 114/114 [00:11<00:00, 10.30it/s]\n",
      "100%|██████████| 25/25 [00:01<00:00, 18.55it/s]\n"
     ]
    },
    {
     "name": "stdout",
     "output_type": "stream",
     "text": [
      "Epoch [76], Train Loss : [0.02421] Val Loss : [3.65863] \n",
      " Acc: 99.2647% Time: 939.2470s\n"
     ]
    },
    {
     "name": "stderr",
     "output_type": "stream",
     "text": [
      "100%|██████████| 114/114 [00:11<00:00, 10.21it/s]\n",
      "100%|██████████| 25/25 [00:01<00:00, 18.12it/s]\n"
     ]
    },
    {
     "name": "stdout",
     "output_type": "stream",
     "text": [
      "Epoch [77], Train Loss : [0.02518] Val Loss : [3.54299] \n",
      " Acc: 98.8235% Time: 951.8040s\n"
     ]
    },
    {
     "name": "stderr",
     "output_type": "stream",
     "text": [
      "100%|██████████| 114/114 [00:11<00:00, 10.00it/s]\n",
      "100%|██████████| 25/25 [00:01<00:00, 17.24it/s]\n"
     ]
    },
    {
     "name": "stdout",
     "output_type": "stream",
     "text": [
      "Epoch [78], Train Loss : [0.05682] Val Loss : [3.76443] \n",
      " Acc: 98.9706% Time: 964.6670s\n"
     ]
    },
    {
     "name": "stderr",
     "output_type": "stream",
     "text": [
      "100%|██████████| 114/114 [00:10<00:00, 10.42it/s]\n",
      "100%|██████████| 25/25 [00:01<00:00, 18.90it/s]\n"
     ]
    },
    {
     "name": "stdout",
     "output_type": "stream",
     "text": [
      "Epoch [79], Train Loss : [0.01423] Val Loss : [3.38699] \n",
      " Acc: 99.4118% Time: 976.9440s\n"
     ]
    },
    {
     "name": "stderr",
     "output_type": "stream",
     "text": [
      "100%|██████████| 114/114 [00:11<00:00, 10.33it/s]\n",
      "100%|██████████| 25/25 [00:01<00:00, 18.91it/s]\n"
     ]
    },
    {
     "name": "stdout",
     "output_type": "stream",
     "text": [
      "Epoch [80], Train Loss : [0.02577] Val Loss : [3.44400] \n",
      " Acc: 99.4118% Time: 989.3110s\n"
     ]
    },
    {
     "name": "stderr",
     "output_type": "stream",
     "text": [
      "100%|██████████| 114/114 [00:11<00:00,  9.91it/s]\n",
      "100%|██████████| 25/25 [00:01<00:00, 18.78it/s]\n"
     ]
    },
    {
     "name": "stdout",
     "output_type": "stream",
     "text": [
      "Epoch [81], Train Loss : [0.02306] Val Loss : [3.43218] \n",
      " Acc: 99.7059% Time: 1002.1620s\n"
     ]
    },
    {
     "name": "stderr",
     "output_type": "stream",
     "text": [
      "100%|██████████| 114/114 [00:10<00:00, 10.41it/s]\n",
      "100%|██████████| 25/25 [00:01<00:00, 18.63it/s]\n"
     ]
    },
    {
     "name": "stdout",
     "output_type": "stream",
     "text": [
      "Epoch [82], Train Loss : [0.05956] Val Loss : [3.23741] \n",
      " Acc: 98.9706% Time: 1014.4690s\n"
     ]
    },
    {
     "name": "stderr",
     "output_type": "stream",
     "text": [
      "100%|██████████| 114/114 [00:11<00:00, 10.35it/s]\n",
      "100%|██████████| 25/25 [00:01<00:00, 18.46it/s]\n"
     ]
    },
    {
     "name": "stdout",
     "output_type": "stream",
     "text": [
      "Epoch [83], Train Loss : [0.04653] Val Loss : [3.31297] \n",
      " Acc: 98.8235% Time: 1026.8520s\n"
     ]
    },
    {
     "name": "stderr",
     "output_type": "stream",
     "text": [
      "100%|██████████| 114/114 [00:11<00:00, 10.01it/s]\n",
      "100%|██████████| 25/25 [00:01<00:00, 17.96it/s]\n"
     ]
    },
    {
     "name": "stdout",
     "output_type": "stream",
     "text": [
      "Epoch [84], Train Loss : [0.00912] Val Loss : [3.41472] \n",
      " Acc: 99.5588% Time: 1039.6400s\n"
     ]
    },
    {
     "name": "stderr",
     "output_type": "stream",
     "text": [
      "100%|██████████| 114/114 [00:12<00:00,  9.43it/s]\n",
      "100%|██████████| 25/25 [00:01<00:00, 15.29it/s]\n"
     ]
    },
    {
     "name": "stdout",
     "output_type": "stream",
     "text": [
      "Epoch [85], Train Loss : [0.01285] Val Loss : [3.44206] \n",
      " Acc: 99.7059% Time: 1053.3750s\n"
     ]
    },
    {
     "name": "stderr",
     "output_type": "stream",
     "text": [
      "100%|██████████| 114/114 [00:11<00:00,  9.53it/s]\n",
      "100%|██████████| 25/25 [00:01<00:00, 17.39it/s]\n"
     ]
    },
    {
     "name": "stdout",
     "output_type": "stream",
     "text": [
      "Epoch [86], Train Loss : [0.00932] Val Loss : [3.42332] \n",
      " Acc: 99.7059% Time: 1066.7830s\n"
     ]
    },
    {
     "name": "stderr",
     "output_type": "stream",
     "text": [
      "100%|██████████| 114/114 [00:11<00:00,  9.51it/s]\n",
      "100%|██████████| 25/25 [00:01<00:00, 17.37it/s]\n"
     ]
    },
    {
     "name": "stdout",
     "output_type": "stream",
     "text": [
      "Epoch [87], Train Loss : [0.02765] Val Loss : [3.65315] \n",
      " Acc: 99.7059% Time: 1080.2240s\n"
     ]
    },
    {
     "name": "stderr",
     "output_type": "stream",
     "text": [
      "100%|██████████| 114/114 [00:11<00:00, 10.11it/s]\n",
      "100%|██████████| 25/25 [00:01<00:00, 18.50it/s]\n"
     ]
    },
    {
     "name": "stdout",
     "output_type": "stream",
     "text": [
      "Epoch [88], Train Loss : [0.06792] Val Loss : [3.51923] \n",
      " Acc: 98.2353% Time: 1092.8640s\n"
     ]
    },
    {
     "name": "stderr",
     "output_type": "stream",
     "text": [
      "100%|██████████| 114/114 [00:10<00:00, 10.41it/s]\n",
      "100%|██████████| 25/25 [00:01<00:00, 19.35it/s]\n"
     ]
    },
    {
     "name": "stdout",
     "output_type": "stream",
     "text": [
      "Epoch [89], Train Loss : [0.01106] Val Loss : [3.30484] \n",
      " Acc: 99.4118% Time: 1105.1210s\n"
     ]
    },
    {
     "name": "stderr",
     "output_type": "stream",
     "text": [
      "100%|██████████| 114/114 [00:10<00:00, 10.38it/s]\n",
      "100%|██████████| 25/25 [00:01<00:00, 18.94it/s]\n"
     ]
    },
    {
     "name": "stdout",
     "output_type": "stream",
     "text": [
      "Epoch [90], Train Loss : [0.00983] Val Loss : [3.68145] \n",
      " Acc: 99.2647% Time: 1117.4320s\n"
     ]
    },
    {
     "name": "stderr",
     "output_type": "stream",
     "text": [
      "100%|██████████| 114/114 [00:10<00:00, 10.43it/s]\n",
      "100%|██████████| 25/25 [00:01<00:00, 18.84it/s]\n"
     ]
    },
    {
     "name": "stdout",
     "output_type": "stream",
     "text": [
      "Epoch [91], Train Loss : [0.03560] Val Loss : [3.58009] \n",
      " Acc: 99.2647% Time: 1129.6970s\n"
     ]
    },
    {
     "name": "stderr",
     "output_type": "stream",
     "text": [
      "100%|██████████| 114/114 [00:11<00:00, 10.04it/s]\n",
      "100%|██████████| 25/25 [00:01<00:00, 18.40it/s]\n"
     ]
    },
    {
     "name": "stdout",
     "output_type": "stream",
     "text": [
      "Epoch [92], Train Loss : [0.00936] Val Loss : [3.39400] \n",
      " Acc: 99.5588% Time: 1142.4150s\n"
     ]
    },
    {
     "name": "stderr",
     "output_type": "stream",
     "text": [
      "100%|██████████| 114/114 [00:11<00:00, 10.15it/s]\n",
      "100%|██████████| 25/25 [00:01<00:00, 18.60it/s]\n"
     ]
    },
    {
     "name": "stdout",
     "output_type": "stream",
     "text": [
      "Epoch [93], Train Loss : [0.01416] Val Loss : [3.49848] \n",
      " Acc: 99.1176% Time: 1155.0060s\n"
     ]
    },
    {
     "name": "stderr",
     "output_type": "stream",
     "text": [
      "100%|██████████| 114/114 [00:11<00:00, 10.33it/s]\n",
      "100%|██████████| 25/25 [00:01<00:00, 18.55it/s]\n"
     ]
    },
    {
     "name": "stdout",
     "output_type": "stream",
     "text": [
      "Epoch [94], Train Loss : [0.01328] Val Loss : [3.38627] \n",
      " Acc: 99.5588% Time: 1167.4030s\n"
     ]
    },
    {
     "name": "stderr",
     "output_type": "stream",
     "text": [
      "100%|██████████| 114/114 [00:11<00:00, 10.33it/s]\n",
      "100%|██████████| 25/25 [00:01<00:00, 18.84it/s]\n"
     ]
    },
    {
     "name": "stdout",
     "output_type": "stream",
     "text": [
      "Epoch [95], Train Loss : [0.02585] Val Loss : [3.79101] \n",
      " Acc: 99.1176% Time: 1179.7760s\n"
     ]
    },
    {
     "name": "stderr",
     "output_type": "stream",
     "text": [
      "100%|██████████| 114/114 [00:11<00:00, 10.35it/s]\n",
      "100%|██████████| 25/25 [00:01<00:00, 18.33it/s]\n"
     ]
    },
    {
     "name": "stdout",
     "output_type": "stream",
     "text": [
      "Epoch [96], Train Loss : [0.02052] Val Loss : [3.49725] \n",
      " Acc: 99.2647% Time: 1192.1650s\n"
     ]
    },
    {
     "name": "stderr",
     "output_type": "stream",
     "text": [
      "100%|██████████| 114/114 [00:11<00:00, 10.06it/s]\n",
      "100%|██████████| 25/25 [00:01<00:00, 18.75it/s]\n"
     ]
    },
    {
     "name": "stdout",
     "output_type": "stream",
     "text": [
      "Epoch [97], Train Loss : [0.01757] Val Loss : [3.44444] \n",
      " Acc: 99.4118% Time: 1204.8390s\n"
     ]
    },
    {
     "name": "stderr",
     "output_type": "stream",
     "text": [
      "100%|██████████| 114/114 [00:11<00:00, 10.32it/s]\n",
      "100%|██████████| 25/25 [00:01<00:00, 16.31it/s]\n"
     ]
    },
    {
     "name": "stdout",
     "output_type": "stream",
     "text": [
      "Epoch [98], Train Loss : [0.00639] Val Loss : [3.58531] \n",
      " Acc: 99.8529% Time: 1217.4330s\n"
     ]
    },
    {
     "name": "stderr",
     "output_type": "stream",
     "text": [
      "100%|██████████| 114/114 [00:11<00:00,  9.94it/s]\n",
      "100%|██████████| 25/25 [00:01<00:00, 18.49it/s]\n"
     ]
    },
    {
     "name": "stdout",
     "output_type": "stream",
     "text": [
      "Epoch [99], Train Loss : [0.00699] Val Loss : [3.63264] \n",
      " Acc: 99.5588% Time: 1230.2700s\n"
     ]
    },
    {
     "name": "stderr",
     "output_type": "stream",
     "text": [
      "100%|██████████| 114/114 [00:11<00:00, 10.32it/s]\n",
      "100%|██████████| 25/25 [00:01<00:00, 18.71it/s]"
     ]
    },
    {
     "name": "stdout",
     "output_type": "stream",
     "text": [
      "Epoch [100], Train Loss : [0.00867] Val Loss : [3.78983] \n",
      " Acc: 99.5588% Time: 1242.6570s\n"
     ]
    },
    {
     "name": "stderr",
     "output_type": "stream",
     "text": [
      "\n"
     ]
    }
   ],
   "source": [
    "final_model, epoch, best_loss_model, best_loss_epoch, best_acc_model, best_acc_epoch \\\n",
    "= train(model, optimizer, train_loader, val_loader, \n",
    "        device, logger=logger)"
   ]
  },
  {
   "cell_type": "code",
   "execution_count": 22,
   "metadata": {},
   "outputs": [
    {
     "name": "stdout",
     "output_type": "stream",
     "text": [
      "./ckpt_genre/test1_3\n"
     ]
    }
   ],
   "source": [
    "print(save_path)"
   ]
  },
  {
   "cell_type": "code",
   "execution_count": 23,
   "metadata": {},
   "outputs": [
    {
     "name": "stdout",
     "output_type": "stream",
     "text": [
      "saved checkpoint: ./ckpt_genre/test1_3\\checkpoint-000100.pth\n"
     ]
    }
   ],
   "source": [
    "checkpoint_save(model, save_path, epoch)"
   ]
  },
  {
   "cell_type": "code",
   "execution_count": 24,
   "metadata": {},
   "outputs": [
    {
     "name": "stdout",
     "output_type": "stream",
     "text": [
      "loading E:\\NRF_2022\\MDPI\\Extracted_Data\\genre_972_split\\test\\test.json\n"
     ]
    }
   ],
   "source": [
    "# Run inference on the test data\n",
    "# test preprocessing\n",
    "from torchvision import transforms\n",
    "import os\n",
    "\n",
    "test_transform = transforms.Compose([\n",
    "    transforms.Resize((256, 256)),\n",
    "    transforms.ToTensor(),\n",
    "    transforms.Normalize(mean, std)\n",
    "])\n",
    "split_test='test'\n",
    "\n",
    "img_folder=cfg['gr_img']['path']\n",
    "split_test='test'\n",
    "\n",
    "test_annotations = os.path.join(img_folder, 'test', 'test.json')\n",
    "test_dataset = MpstDataset(img_folder, test_annotations, test_transform, split_test)\n",
    "test_dataloader = DataLoader(test_dataset, batch_size=batch_size, \n",
    "                                num_workers=num_workers)\n"
   ]
  },
  {
   "cell_type": "code",
   "execution_count": 25,
   "metadata": {},
   "outputs": [
    {
     "name": "stdout",
     "output_type": "stream",
     "text": [
      "Label distribution (count, class name): [(9, 'Romance'), (10, 'Horror'), (19, 'Crime'), (32, 'Comedy'), (36, 'Action'), (39, 'Drama')]\n"
     ]
    },
    {
     "data": {
      "image/png": "[encoded data removed]",
      "text/plain": [
       "<Figure size 640x480 with 1 Axes>"
      ]
     },
     "metadata": {},
     "output_type": "display_data"
    }
   ],
   "source": [
    "# Calculate label distribution for the entire dataset (train + val)\n",
    "samples = test_dataset.annos\n",
    "samples = np.array(samples)\n",
    "with printoptions(precision=3, suppress=True):\n",
    "    class_counts = np.sum(samples, axis=0)\n",
    "    # Sort labels according to their frequency in the dataset.\n",
    "    sorted_ids = np.array([i[0] for i in sorted(enumerate(class_counts), key=lambda x: x[1])], dtype=int)\n",
    "    print('Label distribution (count, class name):', list(zip(class_counts[sorted_ids].astype(int), np.array(test_dataset.classes)[sorted_ids])))\n",
    "    # plt.barh(range(len(dataset_val.classes)), width=class_counts[sorted_ids])\n",
    "    plt.barh(range(len(test_dataset.classes)), width=class_counts[sorted_ids])\n",
    "    plt.yticks(range(len(test_dataset.classes)), np.array(test_dataset.classes)[sorted_ids])\n",
    "    plt.gca().margins(y=0)\n",
    "    plt.grid()\n",
    "    plt.title('Label distribution')\n",
    "    plt.show()"
   ]
  },
  {
   "cell_type": "code",
   "execution_count": 26,
   "metadata": {},
   "outputs": [
    {
     "name": "stdout",
     "output_type": "stream",
     "text": [
      "146\n"
     ]
    }
   ],
   "source": [
    "print(len(test_dataset))"
   ]
  },
  {
   "cell_type": "code",
   "execution_count": 28,
   "metadata": {},
   "outputs": [
    {
     "name": "stdout",
     "output_type": "stream",
     "text": [
      "C:\\Users\\NGN\\dev\\automatic_movie_tagging\\result\\genre\n",
      "51\n",
      "3\n"
     ]
    }
   ],
   "source": [
    "save_rt_path=cfg['genre_result']['path']\n",
    "print(save_rt_path)\n",
    "print(best_acc_epoch)\n",
    "print(best_loss_epoch)"
   ]
  },
  {
   "cell_type": "code",
   "execution_count": 29,
   "metadata": {},
   "outputs": [
    {
     "name": "stdout",
     "output_type": "stream",
     "text": [
      "filename: tt0111257, [Prediction]: Comedy, (Answer): Action\n",
      "filename: tt0111280, [Prediction]: Comedy, (Answer): Action\n",
      "filename: tt0111282, [Prediction]: Action, (Answer): Action\n",
      "filename: tt0111323, [Prediction]: Action, (Answer): Action\n",
      "filename: tt0111419, [Prediction]: Action, (Answer): Action\n",
      "filename: tt0111438, [Prediction]: Action, (Answer): Crime\n",
      "filename: tt0111477, [Prediction]: Comedy, (Answer): Action\n",
      "filename: tt0111503, [Prediction]: Action, (Answer): Action\n",
      "filename: tt0111732, [Prediction]: Action, (Answer): Drama\n",
      "filename: tt0111742, [Prediction]: Horror, (Answer): Drama\n",
      "filename: tt0111756, [Prediction]: Drama, (Answer): Action\n",
      "filename: tt0112281, [Prediction]: Comedy, (Answer): Comedy\n",
      "filename: tt0112302, [Prediction]: Comedy, (Answer): Action\n",
      "filename: tt0112362, [Prediction]: Drama, (Answer): Romance\n",
      "filename: tt0112365, [Prediction]: Drama, (Answer): Romance\n",
      "filename: tt0112384, [Prediction]: Drama, (Answer): Drama\n",
      "filename: tt0112401, [Prediction]: Comedy, (Answer): Crime\n",
      "filename: tt0112443, [Prediction]: Drama, (Answer): Crime\n",
      "filename: tt0112462, [Prediction]: Drama, (Answer): Action\n",
      "filename: tt0112471, [Prediction]: Action, (Answer): Romance\n",
      "filename: tt0112508, [Prediction]: Comedy, (Answer): Comedy\n",
      "filename: tt0112536, [Prediction]: Action, (Answer): Action\n",
      "filename: tt0112537, [Prediction]: Comedy, (Answer): Romance\n",
      "filename: tt0112573, [Prediction]: Comedy, (Answer): Drama\n",
      "filename: tt0112641, [Prediction]: Comedy, (Answer): Crime\n",
      "filename: tt0112642, [Prediction]: Drama, (Answer): Comedy\n",
      "filename: tt0112681, [Prediction]: Comedy, (Answer): Crime\n",
      "filename: tt0112688, [Prediction]: Drama, (Answer): Crime\n",
      "filename: tt0112697, [Prediction]: Comedy, (Answer): Comedy\n",
      "filename: tt0112722, [Prediction]: Drama, (Answer): Drama\n",
      "filename: tt0112740, [Prediction]: Action, (Answer): Action\n",
      "filename: tt0112792, [Prediction]: Drama, (Answer): Drama\n",
      "filename: tt0112851, [Prediction]: Drama, (Answer): Action\n",
      "filename: tt0112857, [Prediction]: Action, (Answer): Crime\n",
      "filename: tt0112896, [Prediction]: Romance, (Answer): Horror\n",
      "filename: tt0112950, [Prediction]: Comedy, (Answer): Drama\n",
      "filename: tt0113071, [Prediction]: Comedy, (Answer): Action\n",
      "filename: tt0113089, [Prediction]: Drama, (Answer): Drama\n",
      "filename: tt0113097, [Prediction]: Action, (Answer): Romance\n",
      "filename: tt0113114, [Prediction]: Comedy, (Answer): Drama\n",
      "filename: tt0113161, [Prediction]: Comedy, (Answer): Comedy\n",
      "filename: tt0113189, [Prediction]: Horror, (Answer): Action\n",
      "filename: tt0113228, [Prediction]: Comedy, (Answer): Comedy\n",
      "filename: tt0113243, [Prediction]: Action, (Answer): Crime\n",
      "filename: tt0113253, [Prediction]: Comedy, (Answer): Horror\n",
      "filename: tt0113277, [Prediction]: Action, (Answer): Action\n",
      "filename: tt0113303, [Prediction]: Drama, (Answer): Horror\n",
      "filename: tt0113305, [Prediction]: Action, (Answer): Crime\n",
      "filename: tt0113321, [Prediction]: Drama, (Answer): Comedy\n",
      "filename: tt0113347, [Prediction]: Comedy, (Answer): Drama\n",
      "filename: tt0113409, [Prediction]: Drama, (Answer): Drama\n",
      "filename: tt0113443, [Prediction]: Drama, (Answer): Drama\n",
      "filename: tt0113481, [Prediction]: Action, (Answer): Action\n",
      "filename: tt0113492, [Prediction]: Action, (Answer): Crime\n",
      "filename: tt0113501, [Prediction]: Action, (Answer): Action\n",
      "filename: tt0113540, [Prediction]: Action, (Answer): Drama\n",
      "filename: tt0113552, [Prediction]: Action, (Answer): Crime\n",
      "filename: tt0113617, [Prediction]: Comedy, (Answer): Action\n",
      "filename: tt0113627, [Prediction]: Comedy, (Answer): Drama\n",
      "filename: tt0113636, [Prediction]: Comedy, (Answer): Horror\n",
      "filename: tt0113677, [Prediction]: Drama, (Answer): Comedy\n",
      "filename: tt0113690, [Prediction]: Horror, (Answer): Horror\n",
      "filename: tt0113729, [Prediction]: Horror, (Answer): Romance\n",
      "filename: tt0113749, [Prediction]: Comedy, (Answer): Comedy\n",
      "filename: tt0113820, [Prediction]: Action, (Answer): Action\n",
      "filename: tt0113862, [Prediction]: Action, (Answer): Drama\n",
      "filename: tt0113870, [Prediction]: Comedy, (Answer): Drama\n",
      "filename: tt0113896, [Prediction]: Drama, (Answer): Drama\n",
      "filename: tt0113967, [Prediction]: Drama, (Answer): Crime\n",
      "filename: tt0113986, [Prediction]: Comedy, (Answer): Comedy\n",
      "filename: tt0113987, [Prediction]: Drama, (Answer): Drama\n",
      "filename: tt0114011, [Prediction]: Drama, (Answer): Drama\n",
      "filename: tt0114069, [Prediction]: Crime, (Answer): Action\n",
      "filename: tt0114148, [Prediction]: Action, (Answer): Action\n",
      "filename: tt0114168, [Prediction]: Drama, (Answer): Drama\n",
      "filename: tt0114272, [Prediction]: Drama, (Answer): Drama\n",
      "filename: tt0114279, [Prediction]: Comedy, (Answer): Drama\n",
      "filename: tt0114287, [Prediction]: Drama, (Answer): Drama\n",
      "filename: tt0114319, [Prediction]: Comedy, (Answer): Comedy\n",
      "filename: tt0114323, [Prediction]: Crime, (Answer): Drama\n",
      "filename: tt0114367, [Prediction]: Comedy, (Answer): Horror\n",
      "filename: tt0114436, [Prediction]: Comedy, (Answer): Drama\n",
      "filename: tt0114550, [Prediction]: Comedy, (Answer): Drama\n",
      "filename: tt0114558, [Prediction]: Drama, (Answer): Crime\n",
      "filename: tt0114576, [Prediction]: Drama, (Answer): Action\n",
      "filename: tt0114594, [Prediction]: Comedy, (Answer): Comedy\n",
      "filename: tt0114609, [Prediction]: Comedy, (Answer): Crime\n",
      "filename: tt0114614, [Prediction]: Comedy, (Answer): Comedy\n",
      "filename: tt0114660, [Prediction]: Comedy, (Answer): Drama\n",
      "filename: tt0114671, [Prediction]: Comedy, (Answer): Drama\n",
      "filename: tt0114694, [Prediction]: Comedy, (Answer): Comedy\n",
      "filename: tt0114702, [Prediction]: Drama, (Answer): Drama\n",
      "filename: tt0114709, [Prediction]: Drama, (Answer): Comedy\n",
      "filename: tt0114720, [Prediction]: Comedy, (Answer): Action\n",
      "filename: tt0114746, [Prediction]: Drama, (Answer): Action\n",
      "filename: tt0114781, [Prediction]: Drama, (Answer): Horror\n",
      "filename: tt0114787, [Prediction]: Drama, (Answer): Drama\n",
      "filename: tt0114852, [Prediction]: Action, (Answer): Horror\n",
      "filename: tt0114857, [Prediction]: Comedy, (Answer): Crime\n",
      "filename: tt0114885, [Prediction]: Drama, (Answer): Drama\n",
      "filename: tt0114898, [Prediction]: Horror, (Answer): Action\n",
      "filename: tt0114906, [Prediction]: Comedy, (Answer): Comedy\n",
      "filename: tt0114924, [Prediction]: Comedy, (Answer): Romance\n",
      "filename: tt0114938, [Prediction]: Comedy, (Answer): Action\n",
      "filename: tt0115438, [Prediction]: Action, (Answer): Crime\n",
      "filename: tt0115624, [Prediction]: Action, (Answer): Action\n",
      "filename: tt0115639, [Prediction]: Drama, (Answer): Comedy\n",
      "filename: tt0115640, [Prediction]: Drama, (Answer): Comedy\n",
      "filename: tt0115641, [Prediction]: Comedy, (Answer): Comedy\n",
      "filename: tt0115644, [Prediction]: Drama, (Answer): Romance\n",
      "filename: tt0115710, [Prediction]: Action, (Answer): Crime\n",
      "filename: tt0115714, [Prediction]: Comedy, (Answer): Action\n",
      "filename: tt0115734, [Prediction]: Comedy, (Answer): Comedy\n",
      "filename: tt0115744, [Prediction]: Comedy, (Answer): Drama\n",
      "filename: tt0115886, [Prediction]: Comedy, (Answer): Comedy\n",
      "filename: tt0115906, [Prediction]: Comedy, (Answer): Comedy\n",
      "filename: tt0115956, [Prediction]: Drama, (Answer): Action\n",
      "filename: tt0115964, [Prediction]: Comedy, (Answer): Drama\n",
      "filename: tt0116126, [Prediction]: Comedy, (Answer): Comedy\n",
      "filename: tt0116130, [Prediction]: Drama, (Answer): Comedy\n",
      "filename: tt0116147, [Prediction]: Action, (Answer): Action\n",
      "filename: tt0116213, [Prediction]: Drama, (Answer): Action\n",
      "filename: tt0116225, [Prediction]: Comedy, (Answer): Action\n",
      "filename: tt0116253, [Prediction]: Action, (Answer): Action\n",
      "filename: tt0116259, [Prediction]: Crime, (Answer): Drama\n",
      "filename: tt0116282, [Prediction]: Comedy, (Answer): Crime\n",
      "filename: tt0116287, [Prediction]: Comedy, (Answer): Horror\n",
      "filename: tt0116289, [Prediction]: Comedy, (Answer): Comedy\n",
      "filename: tt0116311, [Prediction]: Comedy, (Answer): Comedy\n",
      "filename: tt0116329, [Prediction]: Comedy, (Answer): Drama\n",
      "filename: tt0116361, [Prediction]: Comedy, (Answer): Crime\n",
      "filename: tt0116367, [Prediction]: Comedy, (Answer): Action\n",
      "filename: tt0116483, [Prediction]: Comedy, (Answer): Comedy\n",
      "filename: tt0116488, [Prediction]: Action, (Answer): Comedy\n",
      "filename: tt0116493, [Prediction]: Action, (Answer): Comedy\n",
      "filename: tt0116508, [Prediction]: Action, (Answer): Drama\n",
      "filename: tt0116514, [Prediction]: Drama, (Answer): Horror\n",
      "filename: tt0116531, [Prediction]: Comedy, (Answer): Comedy\n",
      "filename: tt0116571, [Prediction]: Comedy, (Answer): Comedy\n",
      "filename: tt0116594, [Prediction]: Comedy, (Answer): Drama\n",
      "filename: tt0116607, [Prediction]: Drama, (Answer): Drama\n",
      "filename: tt0116629, [Prediction]: Action, (Answer): Action\n",
      "filename: tt0116683, [Prediction]: Action, (Answer): Action\n",
      "filename: tt0116695, [Prediction]: Drama, (Answer): Romance\n",
      "filename: tt0116705, [Prediction]: Comedy, (Answer): Comedy\n",
      "filename: tt0116722, [Prediction]: Comedy, (Answer): Drama\n",
      "[Test Phase] Acc: 38.3562% Time: 1.7800s\n",
      "146\n"
     ]
    }
   ],
   "source": [
    "import numpy\n",
    "import pandas as pd\n",
    "\n",
    "# test_model.eval()\n",
    "model.eval()\n",
    "start_time = time.time()\n",
    "name = []\n",
    "predictions = []\n",
    "true_data = []\n",
    "meta_tagger = pd.DataFrame()\n",
    "\n",
    "fc_name = save_rt_path + '\\\\' + 'resnet_3_e100.csv'\n",
    "with torch.no_grad():\n",
    "    running_loss = 0.\n",
    "    running_corrects = 0\n",
    "    idx = 0\n",
    "    for inputs, labels, lb_idx in test_dataloader:\n",
    "        inputs = inputs.to(device)\n",
    "        lb_idx = lb_idx.to(device)\n",
    "        # print(f\"labels:{labels}\")\n",
    "        # name.append(test_dataloader.dataset.samples[idx])\n",
    "        outputs=model(inputs)\n",
    "        # outputs = test_model(inputs)\n",
    "        # print(f\"outputs size:{outputs.size()}\") # ([6, 1000])\n",
    "        # print(f\"outputs:{outputs}\")\n",
    "        _, preds = torch.max(outputs, 1) # 입력된 tensor의 dim=1을 기준으로 최댓값 반환\n",
    "        # print(f\"preds:{preds}\") # preds:tensor([4, 4, 1, 1, 2, 2], device='cuda:0')\n",
    "        # loss = criterion(outputs, labels)\n",
    "\n",
    "        # running_loss += loss.item() * inputs.size(0)\n",
    "        running_corrects += torch.sum(preds == lb_idx)\n",
    "        \n",
    "\n",
    "        class_names=['Action', 'Comedy', 'Crime', 'Drama', 'Horror', 'Romance']\n",
    "        \n",
    "        for i in range(len(preds)):\n",
    "            print(f'filename: {test_dataset.imgs[idx]}, [Prediction]: {class_names[preds[i]]}, (Answer): {class_names[lb_idx[i]]}')\n",
    "            # 결과 시각화  \n",
    "            # imshow(inputs.cpu().data[i], title='Prediction: ' + class_names[preds[i]])\n",
    "            name.append(test_dataset.imgs[idx])\n",
    "            predictions.append(class_names[preds[i]])\n",
    "            \n",
    "            true_data.append(class_names[lb_idx[i]])\n",
    "            idx+=1\n",
    "\n",
    "    # epoch_loss = running_loss / len(test_dataset)\n",
    "    epoch_acc = running_corrects / len(test_dataset) * 100.\n",
    "    print('[Test Phase] Acc: {:.4f}% Time: {:.4f}s'.format(epoch_acc, time.time() - start_time))\n",
    "    print(idx)\n",
    "\n",
    "meta_tagger['title'] = pd.Series(name)\n",
    "meta_tagger['Prediction Genre'] = pd.Series(predictions)\n",
    "meta_tagger['Real Genre'] = pd.Series(true_data)\n",
    "meta_tagger.to_csv(fc_name, encoding='utf-8-sig', index=True)"
   ]
  },
  {
   "cell_type": "code",
   "execution_count": null,
   "metadata": {},
   "outputs": [],
   "source": []
  }
 ],
 "metadata": {
  "kernelspec": {
   "display_name": "auto_tagging",
   "language": "python",
   "name": "python3"
  },
  "language_info": {
   "codemirror_mode": {
    "name": "ipython",
    "version": 3
   },
   "file_extension": ".py",
   "mimetype": "text/x-python",
   "name": "python",
   "nbconvert_exporter": "python",
   "pygments_lexer": "ipython3",
   "version": "3.7.16"
  }
 },
 "nbformat": 4,
 "nbformat_minor": 2
}
