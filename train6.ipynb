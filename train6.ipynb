{
 "cells": [
  {
   "cell_type": "code",
   "execution_count": null,
   "metadata": {},
   "outputs": [],
   "source": [
    "# ASL Loss \n",
    "# validation에서 best_accuracy_model이 아닌 best_cor_model을 찾도록 수정\n",
    "\n",
    "# val의 prob>0.5 으로 설정\n",
    "# test21"
   ]
  },
  {
   "cell_type": "code",
   "execution_count": 1,
   "metadata": {},
   "outputs": [
    {
     "name": "stderr",
     "output_type": "stream",
     "text": [
      "c:\\Users\\NGN\\anaconda3\\envs\\auto_tagging\\lib\\site-packages\\tqdm\\auto.py:21: TqdmWarning: IProgress not found. Please update jupyter and ipywidgets. See https://ipywidgets.readthedocs.io/en/stable/user_install.html\n",
      "  from .autonotebook import tqdm as notebook_tqdm\n"
     ]
    }
   ],
   "source": [
    "import os\n",
    "import time\n",
    "import numpy as np\n",
    "from PIL import Image\n",
    "from torch.utils.data.dataset import Dataset\n",
    "from tqdm import tqdm\n",
    "from torchvision import transforms\n",
    "from torchvision import models\n",
    "import torch\n",
    "from torch.utils.tensorboard import SummaryWriter\n",
    "from sklearn.metrics import precision_score, recall_score, f1_score, accuracy_score, classification_report\n",
    "from torch import nn\n",
    "from torch.utils.data.dataloader import DataLoader\n",
    "from matplotlib import pyplot as plt\n",
    "from numpy import printoptions\n",
    "import requests\n",
    "import tarfile\n",
    "import random\n",
    "import json\n",
    "from shutil import copyfile\n",
    "from torchsummary import summary \n",
    "from loss_functions.as_loss import AsymmetricLoss"
   ]
  },
  {
   "cell_type": "code",
   "execution_count": 2,
   "metadata": {},
   "outputs": [],
   "source": [
    "# Fix all seeds to make experiments reproducible\n",
    "torch.manual_seed(2024)\n",
    "torch.cuda.manual_seed(2024)\n",
    "np.random.seed(2024)\n",
    "random.seed(2024)\n",
    "torch.backends.cudnn.deterministic = True"
   ]
  },
  {
   "cell_type": "code",
   "execution_count": 3,
   "metadata": {},
   "outputs": [],
   "source": [
    "# Simple dataloader and label binarization, \n",
    "# that is converting test labels into binary arrays of length 71 \n",
    "# (number of classes) with 1 in places of applicable labels).\n",
    "class MpstDataset(Dataset):\n",
    "    def __init__(self, data_path, anno_path, transforms, split_type):\n",
    "        self.transforms = transforms\n",
    "        self.split_type= split_type\n",
    "        with open(anno_path) as fp:\n",
    "            json_data = json.load(fp)\n",
    "        samples = json_data['samples']\n",
    "        self.classes = json_data['labels']\n",
    "\n",
    "        self.imgs = [] # 이미지 이름\n",
    "        self.annos = [] # 태그 이름\n",
    "        self.data_path = data_path\n",
    "        print('loading', anno_path)\n",
    "        for sample in samples:\n",
    "            self.imgs.append(sample['image_name'])\n",
    "            self.annos.append(sample['image_labels'])\n",
    "        for item_id in range(len(self.annos)):\n",
    "            item = self.annos[item_id]\n",
    "            vector = [cls in item for cls in self.classes]\n",
    "            self.annos[item_id] = np.array(vector, dtype=float) # labeling one-hot encoding\n",
    "\n",
    "    def __getitem__(self, item):\n",
    "        anno = self.annos[item]    \n",
    "        img_path = os.path.join(self.data_path, self.split_type, self.imgs[item])\n",
    "        img_path += '.png'\n",
    "        img = Image.open(img_path).convert('RGB')\n",
    "        if self.transforms is not None:\n",
    "            img = self.transforms(img)\n",
    "        return img, anno\n",
    "\n",
    "    def __len__(self):\n",
    "        return len(self.imgs)"
   ]
  },
  {
   "cell_type": "code",
   "execution_count": 4,
   "metadata": {},
   "outputs": [
    {
     "name": "stdout",
     "output_type": "stream",
     "text": [
      "loading E:\\NRF_2022\\MDPI\\Extracted_Data\\new_stft_935_split\\val\\val.json\n",
      "loading E:\\NRF_2022\\MDPI\\Extracted_Data\\new_stft_935_split\\train\\train.json\n"
     ]
    }
   ],
   "source": [
    "# Let's take a look at the data we have. To do it we need to load the dataset without augmentations.\n",
    "img_folder='E:\\\\NRF_2022\\\\MDPI\\\\Extracted_Data\\\\new_stft_935_split'\n",
    "split_train='train'\n",
    "split_val='val'\n",
    "dataset_val = MpstDataset(img_folder, os.path.join(img_folder, 'val', 'val.json'), None, split_val)\n",
    "dataset_train = MpstDataset(img_folder, os.path.join(img_folder, 'train', 'train.json'), None, split_train)\n",
    "\n",
    "# A simple function for visualization.\n",
    "def show_sample(img, binary_img_labels):\n",
    "    # Convert the binary labels back to the text representation.    \n",
    "    img_labels = np.array(dataset_val.classes)[np.argwhere(binary_img_labels > 0)[:, 0]]\n",
    "    plt.imshow(img)\n",
    "    plt.title(\"{}\".format(', '.join(img_labels)))\n",
    "    plt.axis('off')\n",
    "    plt.show()\n",
    "\n",
    "# for sample_id in range(5):\n",
    "#     show_sample(*dataset_val[sample_id])"
   ]
  },
  {
   "cell_type": "code",
   "execution_count": 5,
   "metadata": {},
   "outputs": [
    {
     "name": "stdout",
     "output_type": "stream",
     "text": [
      "Label distribution (count, class name): [(0, 'christian film'), (0, 'non fiction'), (1, 'autobiographical'), (2, 'thought-provoking'), (2, 'western'), (2, 'magical realism'), (4, 'suicidal'), (5, 'adult comedy'), (5, 'whimsical'), (5, 'feel-good'), (6, 'historical fiction'), (6, 'clever'), (7, 'queer'), (8, 'pornographic'), (8, 'brainwashing'), (8, 'blaxploitation'), (9, 'plot twist'), (10, 'intrigue'), (10, 'home movie'), (11, 'allegory'), (11, 'anti war'), (12, 'cute'), (12, 'haunting'), (12, 'comic'), (12, 'grindhouse film'), (14, 'sentimental'), (14, 'stupid'), (14, 'inspiring'), (14, 'alternate history'), (15, 'philosophical'), (16, 'claustrophobic'), (17, 'avant garde'), (18, 'psychological'), (18, 'bleak'), (18, 'alternate reality'), (18, 'depressing'), (19, 'realism'), (20, 'storytelling'), (24, 'cruelty'), (25, 'absurd'), (26, 'melodrama'), (26, 'sci-fi'), (28, 'historical'), (31, 'prank'), (33, 'paranormal'), (40, 'fantasy'), (48, 'boring'), (50, 'gothic'), (50, 'dramatic'), (51, 'tragedy'), (53, 'sadist'), (53, 'dark'), (56, 'atmospheric'), (58, 'insanity'), (59, 'horror'), (61, 'mystery'), (80, 'entertaining'), (83, 'satire'), (91, 'action'), (93, 'neo noir'), (94, 'good versus evil'), (104, 'humor'), (116, 'psychedelic'), (117, 'suspenseful'), (143, 'flashback'), (175, 'revenge'), (180, 'romantic'), (220, 'comedy'), (323, 'violence'), (362, 'murder'), (417, 'cult')]\n"
     ]
    },
    {
     "data": {
      "image/png": "[encoded data removed]",
      "text/plain": [
       "<Figure size 640x480 with 1 Axes>"
      ]
     },
     "metadata": {},
     "output_type": "display_data"
    }
   ],
   "source": [
    "# Calculate label distribution for the entire dataset (train + val)\n",
    "samples = dataset_val.annos + dataset_train.annos\n",
    "samples = np.array(samples)\n",
    "with printoptions(precision=3, suppress=True):\n",
    "    class_counts = np.sum(samples, axis=0)\n",
    "    # Sort labels according to their frequency in the dataset.\n",
    "    sorted_ids = np.array([i[0] for i in sorted(enumerate(class_counts), key=lambda x: x[1])], dtype=int)\n",
    "    print('Label distribution (count, class name):', list(zip(class_counts[sorted_ids].astype(int), np.array(dataset_val.classes)[sorted_ids])))\n",
    "    # plt.barh(range(len(dataset_val.classes)), width=class_counts[sorted_ids])\n",
    "    plt.barh(range(len(dataset_val.classes)), width=class_counts[sorted_ids])\n",
    "    plt.yticks(range(len(dataset_val.classes)), np.array(dataset_val.classes)[sorted_ids])\n",
    "    plt.gca().margins(y=0)\n",
    "    plt.grid()\n",
    "    plt.title('Label distribution')\n",
    "    plt.show()"
   ]
  },
  {
   "cell_type": "code",
   "execution_count": 5,
   "metadata": {},
   "outputs": [],
   "source": [
    "# Use the torchvision's implementation of ResNeXt, \n",
    "# but add FC layer for a different number of classes (71)\n",
    "# and a Sigmoid instead of a default Softmax.\n",
    "class Resnet50(nn.Module):\n",
    "    def __init__(self, n_classes):\n",
    "        super().__init__()\n",
    "        resnet = models.resnet50(pretrained=True)\n",
    "        resnet.fc = nn.Sequential(\n",
    "            # nn.Dropout(p=0.3),\n",
    "            nn.Linear(in_features=resnet.fc.in_features, out_features=n_classes)\n",
    "        )\n",
    "        self.base_model = resnet\n",
    "        # self.sigm = nn.Sigmoid()\n",
    "\n",
    "    def forward(self, x):\n",
    "        return self.base_model(x)\n",
    "        # return self.sigm(self.base_model(x))"
   ]
  },
  {
   "cell_type": "code",
   "execution_count": 6,
   "metadata": {},
   "outputs": [],
   "source": [
    "# Use threshold to define predicted labels \n",
    "# and invoke sklearn's metrics with different averaging strategies.\n",
    "def calculate_metrics(pred, target, threshold=0.5):\n",
    "    pred = np.array(pred > threshold, dtype=float)\n",
    "    return {'micro/precision': precision_score(y_true=target, y_pred=pred, average='micro'),\n",
    "            'micro/recall': recall_score(y_true=target, y_pred=pred, average='micro'),\n",
    "            'micro/f1': f1_score(y_true=target, y_pred=pred, average='micro'),\n",
    "            \n",
    "            'macro/precision': precision_score(y_true=target, y_pred=pred, average='macro'),\n",
    "            'macro/recall': recall_score(y_true=target, y_pred=pred, average='macro'),\n",
    "            'macro/f1': f1_score(y_true=target, y_pred=pred, average='macro'),\n",
    "            \n",
    "            # 'samples/precision': precision_score(y_true=target, y_pred=pred, average='samples'),\n",
    "            # 'samples/recall': recall_score(y_true=target, y_pred=pred, average='samples'),\n",
    "            # 'samples/f1': f1_score(y_true=target, y_pred=pred, average='samples'),\n",
    "            \n",
    "            'weighted/precision': precision_score(y_true=target, y_pred=pred, average='weighted'),\n",
    "            'weighted/recall': recall_score(y_true=target, y_pred=pred, average='weighted'),\n",
    "            'weighted/f1': f1_score(y_true=target, y_pred=pred, average='weighted'),\n",
    "            \n",
    "            'accuracy': accuracy_score(y_true=target, y_pred=pred)\n",
    "            }"
   ]
  },
  {
   "cell_type": "code",
   "execution_count": 7,
   "metadata": {},
   "outputs": [],
   "source": [
    "# Initialize the training parameters.\n",
    "num_workers = 0 # 8 # Number of CPU processes for data preprocessing\n",
    "lr = 1e-4 # Learning rate\n",
    "batch_size = 32\n",
    "save_freq = 1 # Save checkpoint frequency (epochs)\n",
    "val_freq = 200 # Test model frequency (iterations)\n",
    "max_epoch_number = 100 # Number of epochs for training \n",
    "# Note: on the small subset of data overfitting happens after 30-35 epochs\n",
    "\n",
    "mean = [0.485, 0.456, 0.406]\n",
    "std = [0.229, 0.224, 0.225]\n",
    "\n",
    "device = torch.device('cuda')\n"
   ]
  },
  {
   "cell_type": "code",
   "execution_count": 8,
   "metadata": {},
   "outputs": [
    {
     "data": {
      "text/plain": [
       "Launching TensorBoard..."
      ]
     },
     "metadata": {},
     "output_type": "display_data"
    }
   ],
   "source": [
    "# Save path for checkpoints\n",
    "save_path = './checkpoints/test21'\n",
    "# Save path for logs\n",
    "logdir = './logs/test21'\n",
    "\n",
    "# Run tensorboard\n",
    "%load_ext tensorboard\n",
    "%tensorboard --logdir {logdir}"
   ]
  },
  {
   "cell_type": "code",
   "execution_count": 9,
   "metadata": {},
   "outputs": [],
   "source": [
    "# Here is an auxiliary function for checkpoint saving.\n",
    "def checkpoint_save(model, save_path, epoch):\n",
    "    f = os.path.join(save_path, 'checkpoint-{:06d}.pth'.format(epoch)) # checkpoint-000000.pth\n",
    "    if 'module' in dir(model):\n",
    "        torch.save(model.module.state_dict(), f)\n",
    "    else:\n",
    "        torch.save(model.state_dict(), f)\n",
    "    print('saved checkpoint:', f)"
   ]
  },
  {
   "cell_type": "code",
   "execution_count": 10,
   "metadata": {},
   "outputs": [
    {
     "name": "stdout",
     "output_type": "stream",
     "text": [
      "(123.675, 116.28, 103.53)\n"
     ]
    }
   ],
   "source": [
    "# val preprocessing\n",
    "val_transform = transforms.Compose([\n",
    "    transforms.Resize((256, 256)),\n",
    "    transforms.ToTensor(),\n",
    "    transforms.Normalize(mean, std)\n",
    "])\n",
    "print(tuple(np.array(np.array(mean)*255).tolist()))\n",
    "\n",
    "# Train preprocessing\n",
    "train_transform = transforms.Compose([\n",
    "    transforms.Resize((256, 256)),\n",
    "    # transforms.RandomHorizontalFlip(),\n",
    "    # transforms.ColorJitter(),\n",
    "    # transforms.RandomAffine(degrees=20, translate=(0.2, 0.2), scale=(0.5, 1.5),\n",
    "    #                         shear=None, \n",
    "    #                         # resample=False, \n",
    "    #                         # fillcolor=tuple(np.array(np.array(mean)*255).astype(int).tolist())),\n",
    "    #                         fill=tuple(np.array(np.array(mean)*255).astype(int).tolist())),\n",
    "    transforms.ToTensor(),\n",
    "    transforms.Normalize(mean, std)\n",
    "])"
   ]
  },
  {
   "cell_type": "code",
   "execution_count": 11,
   "metadata": {},
   "outputs": [
    {
     "name": "stdout",
     "output_type": "stream",
     "text": [
      "loading E:\\NRF_2022\\MDPI\\Extracted_Data\\new_stft_935_split\\val\\val.json\n",
      "loading E:\\NRF_2022\\MDPI\\Extracted_Data\\new_stft_935_split\\train\\train.json\n",
      "21\n"
     ]
    }
   ],
   "source": [
    "img_folder='E:\\\\NRF_2022\\\\MDPI\\\\Extracted_Data\\\\new_stft_935_split'\n",
    "split_train='train'\n",
    "split_val='val'\n",
    "\n",
    "# Initialize the dataloaders for training.\n",
    "val_annotations = os.path.join(img_folder, 'val', 'val.json')\n",
    "train_annotations = os.path.join(img_folder, 'train', 'train.json')\n",
    "\n",
    "val_dataset = MpstDataset(img_folder, val_annotations, val_transform, split_val)\n",
    "train_dataset = MpstDataset(img_folder, train_annotations, train_transform, split_train)\n",
    "\n",
    "train_loader = DataLoader(train_dataset, batch_size=batch_size, num_workers=num_workers, shuffle=True,\n",
    "                              # drop_last=True\n",
    "                              )\n",
    "val_loader = DataLoader(val_dataset, batch_size=batch_size, num_workers=num_workers)\n",
    "\n",
    "num_train_batches = int(np.ceil(len(train_dataset) / batch_size))\n",
    "print(num_train_batches)"
   ]
  },
  {
   "cell_type": "code",
   "execution_count": 12,
   "metadata": {},
   "outputs": [],
   "source": [
    "# test에서 사용할 지표\n",
    "# def cor_rate(pred, gt):\n",
    "#     pd_cnt=0\n",
    "#     cor_cnt=0\n",
    "#     for i in range(len(pred)):\n",
    "#         if(pred[i]==1):\n",
    "#             pd_cnt+=1\n",
    "#             if(gt[i]==1):\n",
    "#                 cor_cnt+=1\n",
    "#     cor_rate=round(cor_cnt/pd_cnt,5)\n",
    "#     return cor_rate\n",
    "def cor_rate(pred, gt):\n",
    "    pd_cnt=0\n",
    "    cor_cnt=0\n",
    "    for i in range(len(pred)):\n",
    "        for j in range(len(pred)):\n",
    "            if(pred[i][j]==True):\n",
    "                pd_cnt+=1\n",
    "                if(gt[i][j]==1):\n",
    "                    cor_cnt+=1\n",
    "    if pd_cnt==0:\n",
    "        return 0\n",
    "    cor_rate=round(cor_cnt/pd_cnt,4)\n",
    "    return cor_rate"
   ]
  },
  {
   "cell_type": "code",
   "execution_count": 17,
   "metadata": {},
   "outputs": [],
   "source": [
    "import copy\n",
    "\n",
    "def train(model, optimizer, train_loader, val_loader, \n",
    "          scheduler, \n",
    "          device, logger):\n",
    "    model.to(device)\n",
    "    # criterion = nn.MultiLabelSoftMarginLoss().to(device)\n",
    "    criterion = AsymmetricLoss(gamma_neg=4, gamma_pos=1, clip=0.05, disable_torch_grad_focal_loss=True)\n",
    "    \n",
    "    best_val_acc = 0\n",
    "    best_val_loss = 1\n",
    "    best_val_corrate = 0 \n",
    "    \n",
    "    best_loss_model = None\n",
    "    best_acc_model = None\n",
    "    best_cor_model = None\n",
    "    final_model = None\n",
    "    \n",
    "    iteration = 0\n",
    "    best_loss_epoch = 0 \n",
    "    best_cor_epoch = 0\n",
    "    best_acc_epoch = 0 \n",
    "    for epoch in range(1, max_epoch_number+1):\n",
    "        \n",
    "        model.train()\n",
    "        train_loss = []\n",
    "        for imgs, labels in tqdm(iter(train_loader)):\n",
    "            imgs = imgs.float().to(device)\n",
    "            labels = labels.to(device)\n",
    "            \n",
    "            optimizer.zero_grad()\n",
    "            \n",
    "            output = model(imgs)\n",
    "            loss = criterion(output, labels.type(torch.float))\n",
    "            batch_loss_value = loss.item()\n",
    "            \n",
    "            \n",
    "            loss.backward()\n",
    "            optimizer.step()\n",
    "            # tensorboard\n",
    "            logger.add_scalar('train_loss/iter', batch_loss_value, iteration) # iteration 마다 train_loss를 기록\n",
    "            train_loss.append(batch_loss_value) # \n",
    "            iteration+=1\n",
    "            \n",
    "        # epoch 마다 검증            \n",
    "        _val_loss, _val_acc, _val_cor_rate = validation(model, criterion, val_loader, device, logger, iteration)\n",
    "        \n",
    "       # tensorboard-2: val_loss/epoch\n",
    "        logger.add_scalar('val_loss/epoch' ,  _val_loss, epoch)\n",
    "       # tensorboard-3: val_acc/epoch\n",
    "        logger.add_scalar('val_acc/epoch' , _val_acc, epoch)\n",
    "\n",
    "        # tensorboard-6: val_cor_rate/epoch\n",
    "        logger.add_scalar('val_cor_rate/epoch', _val_cor_rate, epoch) \n",
    "\n",
    "        _train_loss = np.mean(train_loss)\n",
    "        # tensorboard-4: val_loss/iter\n",
    "        logger.add_scalar('_train_loss/iter', _train_loss, iteration) \n",
    "        # tensorboard-5: val_loss/epoch\n",
    "        logger.add_scalar('_train_loss/epoch', _train_loss, epoch) \n",
    "        \n",
    "        print(f'Epoch [{epoch}], Train Loss : [{_train_loss:.5f}] \\\n",
    "              Val Loss : [{_val_loss:.5f}] Val ACC : [{_val_acc:.5f}] Val Cor_Rate: [{_val_cor_rate:.5f}]')\n",
    "        \n",
    "        # if scheduler is not None:\n",
    "        #     scheduler.step(_val_acc)\n",
    "            \n",
    "        # if best_val_acc < _val_acc: # 현재 _val_acc가 best_val_acc보다 크면,\n",
    "        #     best_val_acc = _val_acc\n",
    "        #     best_acc_model = copy.deepcopy(model)\n",
    "        #     best_acc_epoch = epoch\n",
    "        #     checkpoint_save(best_acc_model, save_path, best_acc_epoch)\n",
    "            \n",
    "        if epoch==1:\n",
    "            best_acc_model = copy.deepcopy(model)\n",
    "            best_cor_model = copy.deepcopy(model)\n",
    "            final_model = copy.deepcopy(model)  \n",
    "            \n",
    "        if best_val_loss > _val_loss: # 현재 _val_loss가 best_val_loss보다 작으면,\n",
    "            best_val_loss = _val_loss\n",
    "            best_loss_model = copy.deepcopy(model)\n",
    "            best_loss_epoch = epoch\n",
    "            checkpoint_save(best_loss_model, save_path, best_loss_epoch)\n",
    "        \n",
    "        if best_val_corrate < _val_cor_rate: # 현재 _var_cor_rate가 best_val_corrate보다 크다면,\n",
    "            best_val_corrate = _val_cor_rate\n",
    "            best_cor_model = copy.deepcopy(model)\n",
    "            best_cor_epoch = epoch\n",
    "            checkpoint_save(best_cor_model, save_path, best_cor_epoch)\n",
    "\n",
    "\n",
    "        final_model=model\n",
    "        \n",
    "    return final_model, epoch, best_cor_model, best_cor_epoch, best_loss_model, best_loss_epoch\n",
    "\n",
    "def validation(model, criterion, val_loader, device, logger, iteration):\n",
    "    model.eval()\n",
    "    val_loss = []\n",
    "    val_acc = []\n",
    "    val_cor_rate = [] \n",
    "    with torch.no_grad():\n",
    "        for imgs, labels in tqdm(iter(val_loader)):\n",
    "            imgs = imgs.float().to(device)\n",
    "            labels = labels.to(device)\n",
    "            \n",
    "            probs = model(imgs)\n",
    "            \n",
    "            loss = criterion(probs, labels.type(torch.float)) # bce loss\n",
    "            \n",
    "            probs  = probs.cpu().detach().numpy()\n",
    "            labels = labels.cpu().detach().numpy()\n",
    "            # preds = probs > 0.3\n",
    "            # preds = probs > 0.4\n",
    "            preds = probs > 0.5\n",
    "            batch_acc = (labels == preds).mean()\n",
    "            cor_rate_value = cor_rate(preds, labels)\n",
    "            \n",
    "            val_acc.append(batch_acc)\n",
    "            val_loss.append(loss.item())\n",
    "            val_cor_rate.append(cor_rate_value)\n",
    "            logger.add_scalar('val_acc/iter' ,  batch_acc, iteration)\n",
    "            # logger.add_scalar('val_loss/iter' , loss.item(), iteration)\n",
    "\n",
    "        \n",
    "        _val_loss = np.mean(val_loss) # val_loader batch마다 기록\n",
    "        _val_acc = np.mean(val_acc)\n",
    "        _val_cor_rate = np.mean(val_cor_rate)\n",
    "    \n",
    "    return _val_loss, _val_acc, _val_cor_rate"
   ]
  },
  {
   "cell_type": "code",
   "execution_count": 18,
   "metadata": {},
   "outputs": [
    {
     "name": "stdout",
     "output_type": "stream",
     "text": [
      "./logs/test21\n"
     ]
    }
   ],
   "source": [
    "print(logdir)"
   ]
  },
  {
   "cell_type": "code",
   "execution_count": 19,
   "metadata": {},
   "outputs": [],
   "source": [
    "# Tensoboard logger\n",
    "logger = SummaryWriter(logdir)"
   ]
  },
  {
   "cell_type": "code",
   "execution_count": 20,
   "metadata": {},
   "outputs": [
    {
     "name": "stdout",
     "output_type": "stream",
     "text": [
      "./checkpoints/test21\n"
     ]
    }
   ],
   "source": [
    "print(save_path)"
   ]
  },
  {
   "cell_type": "code",
   "execution_count": 21,
   "metadata": {},
   "outputs": [
    {
     "name": "stderr",
     "output_type": "stream",
     "text": [
      "c:\\Users\\NGN\\anaconda3\\envs\\auto_tagging\\lib\\site-packages\\torchvision\\models\\_utils.py:209: UserWarning: The parameter 'pretrained' is deprecated since 0.13 and may be removed in the future, please use 'weights' instead.\n",
      "  f\"The parameter '{pretrained_param}' is deprecated since 0.13 and may be removed in the future, \"\n",
      "c:\\Users\\NGN\\anaconda3\\envs\\auto_tagging\\lib\\site-packages\\torchvision\\models\\_utils.py:223: UserWarning: Arguments other than a weight enum or `None` for 'weights' are deprecated since 0.13 and may be removed in the future. The current behavior is equivalent to passing `weights=ResNet50_Weights.IMAGENET1K_V1`. You can also use `weights=ResNet50_Weights.DEFAULT` to get the most up-to-date weights.\n",
      "  warnings.warn(msg)\n"
     ]
    }
   ],
   "source": [
    "# Initialize the model\n",
    "model = Resnet50(len(train_dataset.classes))\n",
    "model = model.to(device)\n",
    "# print(summary(model, (3, 256, 256), batch_size=32))\n",
    "# print(model)\n",
    "\n",
    "# Switch model to the training mode and move it to GPU.\n",
    "model.train()\n",
    "model = model.to(device)\n",
    "\n",
    "optimizer = torch.optim.Adam(model.parameters(), lr=lr)\n",
    "scheduler = torch.optim.lr_scheduler.ReduceLROnPlateau(optimizer, mode='max', factor=0.5, patience=2,threshold_mode='abs',min_lr=1e-8, verbose=True)\n",
    "\n",
    "# If more than one GPU is available we can use both to speed up the training.\n",
    "if torch.cuda.device_count() > 1:\n",
    "    model = nn.DataParallel(model)\n"
   ]
  },
  {
   "cell_type": "code",
   "execution_count": 22,
   "metadata": {},
   "outputs": [],
   "source": [
    "os.makedirs(save_path, exist_ok=True)"
   ]
  },
  {
   "cell_type": "code",
   "execution_count": 23,
   "metadata": {},
   "outputs": [
    {
     "name": "stderr",
     "output_type": "stream",
     "text": [
      "  0%|          | 0/21 [00:00<?, ?it/s]"
     ]
    },
    {
     "name": "stderr",
     "output_type": "stream",
     "text": [
      "100%|██████████| 21/21 [05:33<00:00, 15.86s/it]\n",
      "100%|██████████| 6/6 [00:23<00:00,  3.87s/it]\n"
     ]
    },
    {
     "name": "stdout",
     "output_type": "stream",
     "text": [
      "Epoch [1], Train Loss : [85.87616]               Val Loss : [74.93736] Val ACC : [0.92992] Val Cor_Rate: [0.37627]\n",
      "saved checkpoint: ./checkpoints/test21\\checkpoint-000001.pth\n"
     ]
    },
    {
     "name": "stderr",
     "output_type": "stream",
     "text": [
      "100%|██████████| 21/21 [05:10<00:00, 14.77s/it]\n",
      "100%|██████████| 6/6 [00:24<00:00,  4.02s/it]\n"
     ]
    },
    {
     "name": "stdout",
     "output_type": "stream",
     "text": [
      "Epoch [2], Train Loss : [68.34588]               Val Loss : [77.12275] Val ACC : [0.92878] Val Cor_Rate: [0.38522]\n",
      "saved checkpoint: ./checkpoints/test21\\checkpoint-000002.pth\n"
     ]
    },
    {
     "name": "stderr",
     "output_type": "stream",
     "text": [
      "100%|██████████| 21/21 [05:17<00:00, 15.10s/it]\n",
      "100%|██████████| 6/6 [00:23<00:00,  3.96s/it]\n"
     ]
    },
    {
     "name": "stdout",
     "output_type": "stream",
     "text": [
      "Epoch [3], Train Loss : [57.13636]               Val Loss : [75.52843] Val ACC : [0.92951] Val Cor_Rate: [0.38605]\n",
      "saved checkpoint: ./checkpoints/test21\\checkpoint-000003.pth\n"
     ]
    },
    {
     "name": "stderr",
     "output_type": "stream",
     "text": [
      "100%|██████████| 21/21 [05:11<00:00, 14.83s/it]\n",
      "100%|██████████| 6/6 [00:23<00:00,  3.92s/it]\n"
     ]
    },
    {
     "name": "stdout",
     "output_type": "stream",
     "text": [
      "Epoch [4], Train Loss : [42.05575]               Val Loss : [76.29421] Val ACC : [0.93114] Val Cor_Rate: [0.38808]\n",
      "saved checkpoint: ./checkpoints/test21\\checkpoint-000004.pth\n"
     ]
    },
    {
     "name": "stderr",
     "output_type": "stream",
     "text": [
      "100%|██████████| 21/21 [05:09<00:00, 14.73s/it]\n",
      "100%|██████████| 6/6 [00:23<00:00,  3.91s/it]\n"
     ]
    },
    {
     "name": "stdout",
     "output_type": "stream",
     "text": [
      "Epoch [5], Train Loss : [31.57877]               Val Loss : [85.37442] Val ACC : [0.92286] Val Cor_Rate: [0.34457]\n"
     ]
    },
    {
     "name": "stderr",
     "output_type": "stream",
     "text": [
      "100%|██████████| 21/21 [05:12<00:00, 14.90s/it]\n",
      "100%|██████████| 6/6 [00:21<00:00,  3.65s/it]\n"
     ]
    },
    {
     "name": "stdout",
     "output_type": "stream",
     "text": [
      "Epoch [6], Train Loss : [23.57318]               Val Loss : [82.46436] Val ACC : [0.93086] Val Cor_Rate: [0.37195]\n"
     ]
    },
    {
     "name": "stderr",
     "output_type": "stream",
     "text": [
      "100%|██████████| 21/21 [05:12<00:00, 14.90s/it]\n",
      "100%|██████████| 6/6 [00:24<00:00,  4.08s/it]\n"
     ]
    },
    {
     "name": "stdout",
     "output_type": "stream",
     "text": [
      "Epoch [7], Train Loss : [16.83086]               Val Loss : [88.86479] Val ACC : [0.92672] Val Cor_Rate: [0.35365]\n"
     ]
    },
    {
     "name": "stderr",
     "output_type": "stream",
     "text": [
      "100%|██████████| 21/21 [05:10<00:00, 14.78s/it]\n",
      "100%|██████████| 6/6 [00:24<00:00,  4.03s/it]\n"
     ]
    },
    {
     "name": "stdout",
     "output_type": "stream",
     "text": [
      "Epoch [8], Train Loss : [12.95240]               Val Loss : [90.67008] Val ACC : [0.93054] Val Cor_Rate: [0.37258]\n"
     ]
    },
    {
     "name": "stderr",
     "output_type": "stream",
     "text": [
      "100%|██████████| 21/21 [05:09<00:00, 14.72s/it]\n",
      "100%|██████████| 6/6 [00:24<00:00,  4.05s/it]\n"
     ]
    },
    {
     "name": "stdout",
     "output_type": "stream",
     "text": [
      "Epoch [9], Train Loss : [9.84465]               Val Loss : [93.88435] Val ACC : [0.92954] Val Cor_Rate: [0.38108]\n"
     ]
    },
    {
     "name": "stderr",
     "output_type": "stream",
     "text": [
      "100%|██████████| 21/21 [04:56<00:00, 14.14s/it]\n",
      "100%|██████████| 6/6 [00:22<00:00,  3.72s/it]\n"
     ]
    },
    {
     "name": "stdout",
     "output_type": "stream",
     "text": [
      "Epoch [10], Train Loss : [7.94825]               Val Loss : [97.31957] Val ACC : [0.93124] Val Cor_Rate: [0.38385]\n"
     ]
    },
    {
     "name": "stderr",
     "output_type": "stream",
     "text": [
      "100%|██████████| 21/21 [04:43<00:00, 13.50s/it]\n",
      "100%|██████████| 6/6 [00:22<00:00,  3.80s/it]\n"
     ]
    },
    {
     "name": "stdout",
     "output_type": "stream",
     "text": [
      "Epoch [11], Train Loss : [6.49984]               Val Loss : [102.23329] Val ACC : [0.93343] Val Cor_Rate: [0.41162]\n",
      "saved checkpoint: ./checkpoints/test21\\checkpoint-000011.pth\n"
     ]
    },
    {
     "name": "stderr",
     "output_type": "stream",
     "text": [
      "100%|██████████| 21/21 [04:53<00:00, 13.97s/it]\n",
      "100%|██████████| 6/6 [00:23<00:00,  3.98s/it]\n"
     ]
    },
    {
     "name": "stdout",
     "output_type": "stream",
     "text": [
      "Epoch [12], Train Loss : [5.24253]               Val Loss : [103.85330] Val ACC : [0.92761] Val Cor_Rate: [0.36050]\n"
     ]
    },
    {
     "name": "stderr",
     "output_type": "stream",
     "text": [
      "100%|██████████| 21/21 [04:37<00:00, 13.23s/it]\n",
      "100%|██████████| 6/6 [00:34<00:00,  5.71s/it]\n"
     ]
    },
    {
     "name": "stdout",
     "output_type": "stream",
     "text": [
      "Epoch [13], Train Loss : [4.44248]               Val Loss : [106.95049] Val ACC : [0.92942] Val Cor_Rate: [0.36942]\n"
     ]
    },
    {
     "name": "stderr",
     "output_type": "stream",
     "text": [
      "100%|██████████| 21/21 [05:57<00:00, 17.04s/it]\n",
      "100%|██████████| 6/6 [00:28<00:00,  4.79s/it]\n"
     ]
    },
    {
     "name": "stdout",
     "output_type": "stream",
     "text": [
      "Epoch [14], Train Loss : [3.71613]               Val Loss : [108.33486] Val ACC : [0.92900] Val Cor_Rate: [0.36860]\n"
     ]
    },
    {
     "name": "stderr",
     "output_type": "stream",
     "text": [
      "100%|██████████| 21/21 [06:57<00:00, 19.88s/it]\n",
      "100%|██████████| 6/6 [00:30<00:00,  5.15s/it]\n"
     ]
    },
    {
     "name": "stdout",
     "output_type": "stream",
     "text": [
      "Epoch [15], Train Loss : [3.38038]               Val Loss : [111.53393] Val ACC : [0.93004] Val Cor_Rate: [0.36683]\n"
     ]
    },
    {
     "name": "stderr",
     "output_type": "stream",
     "text": [
      "100%|██████████| 21/21 [07:02<00:00, 20.11s/it]\n",
      "100%|██████████| 6/6 [00:29<00:00,  4.87s/it]\n"
     ]
    },
    {
     "name": "stdout",
     "output_type": "stream",
     "text": [
      "Epoch [16], Train Loss : [2.86091]               Val Loss : [112.57499] Val ACC : [0.92782] Val Cor_Rate: [0.35242]\n"
     ]
    },
    {
     "name": "stderr",
     "output_type": "stream",
     "text": [
      "100%|██████████| 21/21 [06:57<00:00, 19.88s/it]\n",
      "100%|██████████| 6/6 [00:36<00:00,  6.14s/it]\n"
     ]
    },
    {
     "name": "stdout",
     "output_type": "stream",
     "text": [
      "Epoch [17], Train Loss : [2.57922]               Val Loss : [114.86312] Val ACC : [0.92947] Val Cor_Rate: [0.37395]\n"
     ]
    },
    {
     "name": "stderr",
     "output_type": "stream",
     "text": [
      "100%|██████████| 21/21 [06:58<00:00, 19.92s/it]\n",
      "100%|██████████| 6/6 [00:30<00:00,  5.10s/it]\n"
     ]
    },
    {
     "name": "stdout",
     "output_type": "stream",
     "text": [
      "Epoch [18], Train Loss : [2.25778]               Val Loss : [116.66871] Val ACC : [0.92829] Val Cor_Rate: [0.36033]\n"
     ]
    },
    {
     "name": "stderr",
     "output_type": "stream",
     "text": [
      "100%|██████████| 21/21 [06:47<00:00, 19.41s/it]\n",
      "100%|██████████| 6/6 [00:31<00:00,  5.19s/it]\n"
     ]
    },
    {
     "name": "stdout",
     "output_type": "stream",
     "text": [
      "Epoch [19], Train Loss : [2.01222]               Val Loss : [117.00328] Val ACC : [0.92890] Val Cor_Rate: [0.36107]\n"
     ]
    },
    {
     "name": "stderr",
     "output_type": "stream",
     "text": [
      "100%|██████████| 21/21 [08:22<00:00, 23.93s/it]\n",
      "100%|██████████| 6/6 [00:37<00:00,  6.17s/it]\n"
     ]
    },
    {
     "name": "stdout",
     "output_type": "stream",
     "text": [
      "Epoch [20], Train Loss : [1.84331]               Val Loss : [121.07004] Val ACC : [0.92726] Val Cor_Rate: [0.35382]\n"
     ]
    },
    {
     "name": "stderr",
     "output_type": "stream",
     "text": [
      "100%|██████████| 21/21 [08:12<00:00, 23.44s/it]\n",
      "100%|██████████| 6/6 [00:38<00:00,  6.38s/it]\n"
     ]
    },
    {
     "name": "stdout",
     "output_type": "stream",
     "text": [
      "Epoch [21], Train Loss : [1.68847]               Val Loss : [121.46477] Val ACC : [0.92891] Val Cor_Rate: [0.35535]\n"
     ]
    },
    {
     "name": "stderr",
     "output_type": "stream",
     "text": [
      "100%|██████████| 21/21 [08:41<00:00, 24.85s/it]\n",
      "100%|██████████| 6/6 [00:40<00:00,  6.73s/it]\n"
     ]
    },
    {
     "name": "stdout",
     "output_type": "stream",
     "text": [
      "Epoch [22], Train Loss : [1.50157]               Val Loss : [124.06581] Val ACC : [0.92905] Val Cor_Rate: [0.35880]\n"
     ]
    },
    {
     "name": "stderr",
     "output_type": "stream",
     "text": [
      "100%|██████████| 21/21 [08:00<00:00, 22.88s/it]\n",
      "100%|██████████| 6/6 [00:30<00:00,  5.12s/it]\n"
     ]
    },
    {
     "name": "stdout",
     "output_type": "stream",
     "text": [
      "Epoch [23], Train Loss : [1.45218]               Val Loss : [125.91206] Val ACC : [0.92715] Val Cor_Rate: [0.35538]\n"
     ]
    },
    {
     "name": "stderr",
     "output_type": "stream",
     "text": [
      "100%|██████████| 21/21 [07:59<00:00, 22.85s/it]\n",
      "100%|██████████| 6/6 [00:37<00:00,  6.31s/it]\n"
     ]
    },
    {
     "name": "stdout",
     "output_type": "stream",
     "text": [
      "Epoch [24], Train Loss : [1.33301]               Val Loss : [127.10949] Val ACC : [0.92923] Val Cor_Rate: [0.36730]\n"
     ]
    },
    {
     "name": "stderr",
     "output_type": "stream",
     "text": [
      "100%|██████████| 21/21 [08:33<00:00, 24.46s/it]\n",
      "100%|██████████| 6/6 [00:35<00:00,  5.96s/it]\n"
     ]
    },
    {
     "name": "stdout",
     "output_type": "stream",
     "text": [
      "Epoch [25], Train Loss : [1.27895]               Val Loss : [127.44664] Val ACC : [0.92716] Val Cor_Rate: [0.34288]\n"
     ]
    },
    {
     "name": "stderr",
     "output_type": "stream",
     "text": [
      "100%|██████████| 21/21 [07:10<00:00, 20.52s/it]\n",
      "100%|██████████| 6/6 [00:31<00:00,  5.25s/it]\n"
     ]
    },
    {
     "name": "stdout",
     "output_type": "stream",
     "text": [
      "Epoch [26], Train Loss : [1.21674]               Val Loss : [128.95578] Val ACC : [0.92829] Val Cor_Rate: [0.36083]\n"
     ]
    },
    {
     "name": "stderr",
     "output_type": "stream",
     "text": [
      "100%|██████████| 21/21 [08:13<00:00, 23.49s/it]\n",
      "100%|██████████| 6/6 [00:36<00:00,  6.14s/it]\n"
     ]
    },
    {
     "name": "stdout",
     "output_type": "stream",
     "text": [
      "Epoch [27], Train Loss : [1.12666]               Val Loss : [130.50425] Val ACC : [0.92893] Val Cor_Rate: [0.35335]\n"
     ]
    },
    {
     "name": "stderr",
     "output_type": "stream",
     "text": [
      "100%|██████████| 21/21 [07:47<00:00, 22.25s/it]\n",
      "100%|██████████| 6/6 [00:36<00:00,  6.02s/it]\n"
     ]
    },
    {
     "name": "stdout",
     "output_type": "stream",
     "text": [
      "Epoch [28], Train Loss : [1.11079]               Val Loss : [131.21141] Val ACC : [0.92814] Val Cor_Rate: [0.36060]\n"
     ]
    },
    {
     "name": "stderr",
     "output_type": "stream",
     "text": [
      "100%|██████████| 21/21 [07:14<00:00, 20.69s/it]\n",
      "100%|██████████| 6/6 [00:32<00:00,  5.46s/it]\n"
     ]
    },
    {
     "name": "stdout",
     "output_type": "stream",
     "text": [
      "Epoch [29], Train Loss : [1.05652]               Val Loss : [130.27946] Val ACC : [0.92833] Val Cor_Rate: [0.35245]\n"
     ]
    },
    {
     "name": "stderr",
     "output_type": "stream",
     "text": [
      "100%|██████████| 21/21 [06:25<00:00, 18.37s/it]\n",
      "100%|██████████| 6/6 [00:17<00:00,  2.93s/it]\n"
     ]
    },
    {
     "name": "stdout",
     "output_type": "stream",
     "text": [
      "Epoch [30], Train Loss : [1.06287]               Val Loss : [131.18950] Val ACC : [0.92864] Val Cor_Rate: [0.37008]\n"
     ]
    },
    {
     "name": "stderr",
     "output_type": "stream",
     "text": [
      "100%|██████████| 21/21 [03:49<00:00, 10.95s/it]\n",
      "100%|██████████| 6/6 [00:16<00:00,  2.82s/it]\n"
     ]
    },
    {
     "name": "stdout",
     "output_type": "stream",
     "text": [
      "Epoch [31], Train Loss : [0.98546]               Val Loss : [133.22579] Val ACC : [0.92758] Val Cor_Rate: [0.34840]\n"
     ]
    },
    {
     "name": "stderr",
     "output_type": "stream",
     "text": [
      "100%|██████████| 21/21 [03:53<00:00, 11.13s/it]\n",
      "100%|██████████| 6/6 [00:16<00:00,  2.78s/it]\n"
     ]
    },
    {
     "name": "stdout",
     "output_type": "stream",
     "text": [
      "Epoch [32], Train Loss : [0.92738]               Val Loss : [137.03405] Val ACC : [0.92765] Val Cor_Rate: [0.35403]\n"
     ]
    },
    {
     "name": "stderr",
     "output_type": "stream",
     "text": [
      "100%|██████████| 21/21 [03:50<00:00, 10.97s/it]\n",
      "100%|██████████| 6/6 [00:16<00:00,  2.70s/it]\n"
     ]
    },
    {
     "name": "stdout",
     "output_type": "stream",
     "text": [
      "Epoch [33], Train Loss : [0.83109]               Val Loss : [136.99566] Val ACC : [0.92938] Val Cor_Rate: [0.36998]\n"
     ]
    },
    {
     "name": "stderr",
     "output_type": "stream",
     "text": [
      "100%|██████████| 21/21 [04:00<00:00, 11.43s/it]\n",
      "100%|██████████| 6/6 [00:17<00:00,  2.86s/it]\n"
     ]
    },
    {
     "name": "stdout",
     "output_type": "stream",
     "text": [
      "Epoch [34], Train Loss : [0.93199]               Val Loss : [135.38184] Val ACC : [0.92938] Val Cor_Rate: [0.36645]\n"
     ]
    },
    {
     "name": "stderr",
     "output_type": "stream",
     "text": [
      "100%|██████████| 21/21 [03:54<00:00, 11.18s/it]\n",
      "100%|██████████| 6/6 [00:18<00:00,  3.07s/it]\n"
     ]
    },
    {
     "name": "stdout",
     "output_type": "stream",
     "text": [
      "Epoch [35], Train Loss : [0.82527]               Val Loss : [135.68182] Val ACC : [0.92773] Val Cor_Rate: [0.35197]\n"
     ]
    },
    {
     "name": "stderr",
     "output_type": "stream",
     "text": [
      "100%|██████████| 21/21 [03:49<00:00, 10.94s/it]\n",
      "100%|██████████| 6/6 [00:16<00:00,  2.82s/it]\n"
     ]
    },
    {
     "name": "stdout",
     "output_type": "stream",
     "text": [
      "Epoch [36], Train Loss : [0.85236]               Val Loss : [139.45926] Val ACC : [0.92904] Val Cor_Rate: [0.36635]\n"
     ]
    },
    {
     "name": "stderr",
     "output_type": "stream",
     "text": [
      "100%|██████████| 21/21 [03:51<00:00, 11.01s/it]\n",
      "100%|██████████| 6/6 [00:16<00:00,  2.72s/it]\n"
     ]
    },
    {
     "name": "stdout",
     "output_type": "stream",
     "text": [
      "Epoch [37], Train Loss : [1.38953]               Val Loss : [139.31146] Val ACC : [0.92598] Val Cor_Rate: [0.32355]\n"
     ]
    },
    {
     "name": "stderr",
     "output_type": "stream",
     "text": [
      "100%|██████████| 21/21 [03:50<00:00, 10.95s/it]\n",
      "100%|██████████| 6/6 [00:16<00:00,  2.71s/it]\n"
     ]
    },
    {
     "name": "stdout",
     "output_type": "stream",
     "text": [
      "Epoch [38], Train Loss : [4.10127]               Val Loss : [156.64285] Val ACC : [0.92128] Val Cor_Rate: [0.34315]\n"
     ]
    },
    {
     "name": "stderr",
     "output_type": "stream",
     "text": [
      "100%|██████████| 21/21 [03:49<00:00, 10.95s/it]\n",
      "100%|██████████| 6/6 [00:17<00:00,  2.93s/it]\n"
     ]
    },
    {
     "name": "stdout",
     "output_type": "stream",
     "text": [
      "Epoch [39], Train Loss : [24.38974]               Val Loss : [186.81516] Val ACC : [0.89796] Val Cor_Rate: [0.25152]\n"
     ]
    },
    {
     "name": "stderr",
     "output_type": "stream",
     "text": [
      "100%|██████████| 21/21 [03:46<00:00, 10.77s/it]\n",
      "100%|██████████| 6/6 [00:17<00:00,  2.94s/it]\n"
     ]
    },
    {
     "name": "stdout",
     "output_type": "stream",
     "text": [
      "Epoch [40], Train Loss : [45.40979]               Val Loss : [131.69489] Val ACC : [0.86175] Val Cor_Rate: [0.20987]\n"
     ]
    },
    {
     "name": "stderr",
     "output_type": "stream",
     "text": [
      "100%|██████████| 21/21 [04:05<00:00, 11.69s/it]\n",
      "100%|██████████| 6/6 [00:19<00:00,  3.25s/it]\n"
     ]
    },
    {
     "name": "stdout",
     "output_type": "stream",
     "text": [
      "Epoch [41], Train Loss : [29.19862]               Val Loss : [117.54789] Val ACC : [0.91517] Val Cor_Rate: [0.30968]\n"
     ]
    },
    {
     "name": "stderr",
     "output_type": "stream",
     "text": [
      "100%|██████████| 21/21 [04:05<00:00, 11.69s/it]\n",
      "100%|██████████| 6/6 [00:16<00:00,  2.74s/it]\n"
     ]
    },
    {
     "name": "stdout",
     "output_type": "stream",
     "text": [
      "Epoch [42], Train Loss : [12.31871]               Val Loss : [114.08861] Val ACC : [0.92895] Val Cor_Rate: [0.35602]\n"
     ]
    },
    {
     "name": "stderr",
     "output_type": "stream",
     "text": [
      "100%|██████████| 21/21 [03:55<00:00, 11.21s/it]\n",
      "100%|██████████| 6/6 [00:22<00:00,  3.82s/it]\n"
     ]
    },
    {
     "name": "stdout",
     "output_type": "stream",
     "text": [
      "Epoch [43], Train Loss : [5.43341]               Val Loss : [122.64473] Val ACC : [0.92519] Val Cor_Rate: [0.34132]\n"
     ]
    },
    {
     "name": "stderr",
     "output_type": "stream",
     "text": [
      "100%|██████████| 21/21 [04:02<00:00, 11.56s/it]\n",
      "100%|██████████| 6/6 [00:15<00:00,  2.64s/it]\n"
     ]
    },
    {
     "name": "stdout",
     "output_type": "stream",
     "text": [
      "Epoch [44], Train Loss : [3.01363]               Val Loss : [124.95751] Val ACC : [0.92664] Val Cor_Rate: [0.35308]\n"
     ]
    },
    {
     "name": "stderr",
     "output_type": "stream",
     "text": [
      "100%|██████████| 21/21 [03:53<00:00, 11.11s/it]\n",
      "100%|██████████| 6/6 [00:15<00:00,  2.62s/it]\n"
     ]
    },
    {
     "name": "stdout",
     "output_type": "stream",
     "text": [
      "Epoch [45], Train Loss : [2.05167]               Val Loss : [126.23343] Val ACC : [0.92890] Val Cor_Rate: [0.36615]\n"
     ]
    },
    {
     "name": "stderr",
     "output_type": "stream",
     "text": [
      "100%|██████████| 21/21 [03:55<00:00, 11.22s/it]\n",
      "100%|██████████| 6/6 [00:17<00:00,  2.91s/it]\n"
     ]
    },
    {
     "name": "stdout",
     "output_type": "stream",
     "text": [
      "Epoch [46], Train Loss : [1.63454]               Val Loss : [128.53720] Val ACC : [0.92869] Val Cor_Rate: [0.36515]\n"
     ]
    },
    {
     "name": "stderr",
     "output_type": "stream",
     "text": [
      "100%|██████████| 21/21 [03:39<00:00, 10.44s/it]\n",
      "100%|██████████| 6/6 [00:15<00:00,  2.63s/it]\n"
     ]
    },
    {
     "name": "stdout",
     "output_type": "stream",
     "text": [
      "Epoch [47], Train Loss : [1.60038]               Val Loss : [131.56521] Val ACC : [0.92923] Val Cor_Rate: [0.37235]\n"
     ]
    },
    {
     "name": "stderr",
     "output_type": "stream",
     "text": [
      "100%|██████████| 21/21 [03:40<00:00, 10.51s/it]\n",
      "100%|██████████| 6/6 [00:17<00:00,  2.88s/it]\n"
     ]
    },
    {
     "name": "stdout",
     "output_type": "stream",
     "text": [
      "Epoch [48], Train Loss : [1.31732]               Val Loss : [134.03304] Val ACC : [0.92838] Val Cor_Rate: [0.36297]\n"
     ]
    },
    {
     "name": "stderr",
     "output_type": "stream",
     "text": [
      "100%|██████████| 21/21 [03:41<00:00, 10.53s/it]\n",
      "100%|██████████| 6/6 [00:15<00:00,  2.64s/it]\n"
     ]
    },
    {
     "name": "stdout",
     "output_type": "stream",
     "text": [
      "Epoch [49], Train Loss : [1.19611]               Val Loss : [136.48943] Val ACC : [0.92849] Val Cor_Rate: [0.36963]\n"
     ]
    },
    {
     "name": "stderr",
     "output_type": "stream",
     "text": [
      "100%|██████████| 21/21 [03:48<00:00, 10.90s/it]\n",
      "100%|██████████| 6/6 [00:25<00:00,  4.17s/it]\n"
     ]
    },
    {
     "name": "stdout",
     "output_type": "stream",
     "text": [
      "Epoch [50], Train Loss : [1.07910]               Val Loss : [137.76568] Val ACC : [0.92629] Val Cor_Rate: [0.35000]\n"
     ]
    },
    {
     "name": "stderr",
     "output_type": "stream",
     "text": [
      "100%|██████████| 21/21 [03:55<00:00, 11.21s/it]\n",
      "100%|██████████| 6/6 [00:16<00:00,  2.68s/it]\n"
     ]
    },
    {
     "name": "stdout",
     "output_type": "stream",
     "text": [
      "Epoch [51], Train Loss : [0.90416]               Val Loss : [139.19640] Val ACC : [0.92840] Val Cor_Rate: [0.36713]\n"
     ]
    },
    {
     "name": "stderr",
     "output_type": "stream",
     "text": [
      "100%|██████████| 21/21 [04:04<00:00, 11.65s/it]\n",
      "100%|██████████| 6/6 [00:16<00:00,  2.74s/it]\n"
     ]
    },
    {
     "name": "stdout",
     "output_type": "stream",
     "text": [
      "Epoch [52], Train Loss : [0.86677]               Val Loss : [139.31740] Val ACC : [0.92817] Val Cor_Rate: [0.35937]\n"
     ]
    },
    {
     "name": "stderr",
     "output_type": "stream",
     "text": [
      "100%|██████████| 21/21 [03:47<00:00, 10.82s/it]\n",
      "100%|██████████| 6/6 [00:17<00:00,  2.96s/it]\n"
     ]
    },
    {
     "name": "stdout",
     "output_type": "stream",
     "text": [
      "Epoch [53], Train Loss : [0.84136]               Val Loss : [140.11675] Val ACC : [0.92720] Val Cor_Rate: [0.35573]\n"
     ]
    },
    {
     "name": "stderr",
     "output_type": "stream",
     "text": [
      "100%|██████████| 21/21 [03:56<00:00, 11.27s/it]\n",
      "100%|██████████| 6/6 [00:16<00:00,  2.72s/it]\n"
     ]
    },
    {
     "name": "stdout",
     "output_type": "stream",
     "text": [
      "Epoch [54], Train Loss : [0.81588]               Val Loss : [142.00612] Val ACC : [0.92853] Val Cor_Rate: [0.37037]\n"
     ]
    },
    {
     "name": "stderr",
     "output_type": "stream",
     "text": [
      "100%|██████████| 21/21 [03:46<00:00, 10.80s/it]\n",
      "100%|██████████| 6/6 [00:15<00:00,  2.64s/it]\n"
     ]
    },
    {
     "name": "stdout",
     "output_type": "stream",
     "text": [
      "Epoch [55], Train Loss : [0.75467]               Val Loss : [143.40561] Val ACC : [0.92868] Val Cor_Rate: [0.36710]\n"
     ]
    },
    {
     "name": "stderr",
     "output_type": "stream",
     "text": [
      "100%|██████████| 21/21 [03:15<00:00,  9.29s/it]\n",
      "100%|██████████| 6/6 [00:11<00:00,  1.95s/it]\n"
     ]
    },
    {
     "name": "stdout",
     "output_type": "stream",
     "text": [
      "Epoch [56], Train Loss : [0.67428]               Val Loss : [144.27311] Val ACC : [0.92714] Val Cor_Rate: [0.35640]\n"
     ]
    },
    {
     "name": "stderr",
     "output_type": "stream",
     "text": [
      "100%|██████████| 21/21 [03:51<00:00, 11.01s/it]\n",
      "100%|██████████| 6/6 [00:16<00:00,  2.80s/it]\n"
     ]
    },
    {
     "name": "stdout",
     "output_type": "stream",
     "text": [
      "Epoch [57], Train Loss : [0.72537]               Val Loss : [144.82131] Val ACC : [0.92713] Val Cor_Rate: [0.34932]\n"
     ]
    },
    {
     "name": "stderr",
     "output_type": "stream",
     "text": [
      "100%|██████████| 21/21 [03:56<00:00, 11.26s/it]\n",
      "100%|██████████| 6/6 [00:16<00:00,  2.72s/it]\n"
     ]
    },
    {
     "name": "stdout",
     "output_type": "stream",
     "text": [
      "Epoch [58], Train Loss : [0.64813]               Val Loss : [145.73194] Val ACC : [0.92849] Val Cor_Rate: [0.36953]\n"
     ]
    },
    {
     "name": "stderr",
     "output_type": "stream",
     "text": [
      "100%|██████████| 21/21 [03:43<00:00, 10.63s/it]\n",
      "100%|██████████| 6/6 [00:16<00:00,  2.71s/it]\n"
     ]
    },
    {
     "name": "stdout",
     "output_type": "stream",
     "text": [
      "Epoch [59], Train Loss : [0.60709]               Val Loss : [146.49336] Val ACC : [0.92924] Val Cor_Rate: [0.37420]\n"
     ]
    },
    {
     "name": "stderr",
     "output_type": "stream",
     "text": [
      "100%|██████████| 21/21 [03:43<00:00, 10.64s/it]\n",
      "100%|██████████| 6/6 [00:16<00:00,  2.73s/it]\n"
     ]
    },
    {
     "name": "stdout",
     "output_type": "stream",
     "text": [
      "Epoch [60], Train Loss : [0.57711]               Val Loss : [147.32929] Val ACC : [0.92973] Val Cor_Rate: [0.37465]\n"
     ]
    },
    {
     "name": "stderr",
     "output_type": "stream",
     "text": [
      "100%|██████████| 21/21 [03:44<00:00, 10.71s/it]\n",
      "100%|██████████| 6/6 [00:16<00:00,  2.78s/it]\n"
     ]
    },
    {
     "name": "stdout",
     "output_type": "stream",
     "text": [
      "Epoch [61], Train Loss : [0.57488]               Val Loss : [148.98224] Val ACC : [0.92693] Val Cor_Rate: [0.35477]\n"
     ]
    },
    {
     "name": "stderr",
     "output_type": "stream",
     "text": [
      "100%|██████████| 21/21 [03:46<00:00, 10.79s/it]\n",
      "100%|██████████| 6/6 [00:16<00:00,  2.77s/it]\n"
     ]
    },
    {
     "name": "stdout",
     "output_type": "stream",
     "text": [
      "Epoch [62], Train Loss : [0.52401]               Val Loss : [148.73535] Val ACC : [0.92938] Val Cor_Rate: [0.37210]\n"
     ]
    },
    {
     "name": "stderr",
     "output_type": "stream",
     "text": [
      "100%|██████████| 21/21 [03:48<00:00, 10.90s/it]\n",
      "100%|██████████| 6/6 [00:16<00:00,  2.76s/it]\n"
     ]
    },
    {
     "name": "stdout",
     "output_type": "stream",
     "text": [
      "Epoch [63], Train Loss : [0.49700]               Val Loss : [150.65739] Val ACC : [0.92664] Val Cor_Rate: [0.35087]\n"
     ]
    },
    {
     "name": "stderr",
     "output_type": "stream",
     "text": [
      "100%|██████████| 21/21 [03:40<00:00, 10.50s/it]\n",
      "100%|██████████| 6/6 [00:15<00:00,  2.61s/it]\n"
     ]
    },
    {
     "name": "stdout",
     "output_type": "stream",
     "text": [
      "Epoch [64], Train Loss : [0.47534]               Val Loss : [150.34948] Val ACC : [0.92837] Val Cor_Rate: [0.36788]\n"
     ]
    },
    {
     "name": "stderr",
     "output_type": "stream",
     "text": [
      "100%|██████████| 21/21 [03:36<00:00, 10.30s/it]\n",
      "100%|██████████| 6/6 [00:15<00:00,  2.63s/it]\n"
     ]
    },
    {
     "name": "stdout",
     "output_type": "stream",
     "text": [
      "Epoch [65], Train Loss : [0.51402]               Val Loss : [151.36798] Val ACC : [0.92666] Val Cor_Rate: [0.35578]\n"
     ]
    },
    {
     "name": "stderr",
     "output_type": "stream",
     "text": [
      "100%|██████████| 21/21 [03:36<00:00, 10.29s/it]\n",
      "100%|██████████| 6/6 [00:15<00:00,  2.60s/it]\n"
     ]
    },
    {
     "name": "stdout",
     "output_type": "stream",
     "text": [
      "Epoch [66], Train Loss : [0.47537]               Val Loss : [152.16895] Val ACC : [0.92682] Val Cor_Rate: [0.35487]\n"
     ]
    },
    {
     "name": "stderr",
     "output_type": "stream",
     "text": [
      "100%|██████████| 21/21 [03:36<00:00, 10.29s/it]\n",
      "100%|██████████| 6/6 [00:15<00:00,  2.61s/it]\n"
     ]
    },
    {
     "name": "stdout",
     "output_type": "stream",
     "text": [
      "Epoch [67], Train Loss : [0.40421]               Val Loss : [152.33300] Val ACC : [0.92696] Val Cor_Rate: [0.35242]\n"
     ]
    },
    {
     "name": "stderr",
     "output_type": "stream",
     "text": [
      "100%|██████████| 21/21 [03:36<00:00, 10.31s/it]\n",
      "100%|██████████| 6/6 [00:15<00:00,  2.62s/it]\n"
     ]
    },
    {
     "name": "stdout",
     "output_type": "stream",
     "text": [
      "Epoch [68], Train Loss : [0.39792]               Val Loss : [153.79993] Val ACC : [0.92757] Val Cor_Rate: [0.36305]\n"
     ]
    },
    {
     "name": "stderr",
     "output_type": "stream",
     "text": [
      "100%|██████████| 21/21 [03:36<00:00, 10.29s/it]\n",
      "100%|██████████| 6/6 [00:15<00:00,  2.62s/it]\n"
     ]
    },
    {
     "name": "stdout",
     "output_type": "stream",
     "text": [
      "Epoch [69], Train Loss : [0.42813]               Val Loss : [154.48899] Val ACC : [0.92686] Val Cor_Rate: [0.35298]\n"
     ]
    },
    {
     "name": "stderr",
     "output_type": "stream",
     "text": [
      "100%|██████████| 21/21 [03:35<00:00, 10.28s/it]\n",
      "100%|██████████| 6/6 [00:15<00:00,  2.62s/it]\n"
     ]
    },
    {
     "name": "stdout",
     "output_type": "stream",
     "text": [
      "Epoch [70], Train Loss : [0.40929]               Val Loss : [154.75070] Val ACC : [0.92807] Val Cor_Rate: [0.36010]\n"
     ]
    },
    {
     "name": "stderr",
     "output_type": "stream",
     "text": [
      "100%|██████████| 21/21 [03:36<00:00, 10.31s/it]\n",
      "100%|██████████| 6/6 [00:15<00:00,  2.63s/it]\n"
     ]
    },
    {
     "name": "stdout",
     "output_type": "stream",
     "text": [
      "Epoch [71], Train Loss : [0.39407]               Val Loss : [155.65490] Val ACC : [0.92800] Val Cor_Rate: [0.35973]\n"
     ]
    },
    {
     "name": "stderr",
     "output_type": "stream",
     "text": [
      "100%|██████████| 21/21 [03:36<00:00, 10.30s/it]\n",
      "100%|██████████| 6/6 [00:15<00:00,  2.62s/it]\n"
     ]
    },
    {
     "name": "stdout",
     "output_type": "stream",
     "text": [
      "Epoch [72], Train Loss : [0.35221]               Val Loss : [156.27035] Val ACC : [0.92842] Val Cor_Rate: [0.36685]\n"
     ]
    },
    {
     "name": "stderr",
     "output_type": "stream",
     "text": [
      "100%|██████████| 21/21 [03:36<00:00, 10.30s/it]\n",
      "100%|██████████| 6/6 [00:15<00:00,  2.61s/it]\n"
     ]
    },
    {
     "name": "stdout",
     "output_type": "stream",
     "text": [
      "Epoch [73], Train Loss : [0.40366]               Val Loss : [158.13402] Val ACC : [0.92681] Val Cor_Rate: [0.35535]\n"
     ]
    },
    {
     "name": "stderr",
     "output_type": "stream",
     "text": [
      "100%|██████████| 21/21 [03:36<00:00, 10.30s/it]\n",
      "100%|██████████| 6/6 [00:15<00:00,  2.63s/it]\n"
     ]
    },
    {
     "name": "stdout",
     "output_type": "stream",
     "text": [
      "Epoch [74], Train Loss : [0.32652]               Val Loss : [157.59405] Val ACC : [0.92697] Val Cor_Rate: [0.35108]\n"
     ]
    },
    {
     "name": "stderr",
     "output_type": "stream",
     "text": [
      "100%|██████████| 21/21 [03:36<00:00, 10.31s/it]\n",
      "100%|██████████| 6/6 [00:15<00:00,  2.61s/it]\n"
     ]
    },
    {
     "name": "stdout",
     "output_type": "stream",
     "text": [
      "Epoch [75], Train Loss : [0.30392]               Val Loss : [157.43521] Val ACC : [0.92773] Val Cor_Rate: [0.35747]\n"
     ]
    },
    {
     "name": "stderr",
     "output_type": "stream",
     "text": [
      "100%|██████████| 21/21 [03:36<00:00, 10.32s/it]\n",
      "100%|██████████| 6/6 [00:15<00:00,  2.60s/it]\n"
     ]
    },
    {
     "name": "stdout",
     "output_type": "stream",
     "text": [
      "Epoch [76], Train Loss : [0.45683]               Val Loss : [158.87882] Val ACC : [0.92643] Val Cor_Rate: [0.34550]\n"
     ]
    },
    {
     "name": "stderr",
     "output_type": "stream",
     "text": [
      "100%|██████████| 21/21 [03:35<00:00, 10.28s/it]\n",
      "100%|██████████| 6/6 [00:15<00:00,  2.60s/it]\n"
     ]
    },
    {
     "name": "stdout",
     "output_type": "stream",
     "text": [
      "Epoch [77], Train Loss : [0.37255]               Val Loss : [159.66801] Val ACC : [0.92660] Val Cor_Rate: [0.34600]\n"
     ]
    },
    {
     "name": "stderr",
     "output_type": "stream",
     "text": [
      "100%|██████████| 21/21 [03:36<00:00, 10.30s/it]\n",
      "100%|██████████| 6/6 [00:15<00:00,  2.62s/it]\n"
     ]
    },
    {
     "name": "stdout",
     "output_type": "stream",
     "text": [
      "Epoch [78], Train Loss : [0.33697]               Val Loss : [159.28962] Val ACC : [0.92649] Val Cor_Rate: [0.34270]\n"
     ]
    },
    {
     "name": "stderr",
     "output_type": "stream",
     "text": [
      "100%|██████████| 21/21 [03:36<00:00, 10.30s/it]\n",
      "100%|██████████| 6/6 [00:15<00:00,  2.61s/it]\n"
     ]
    },
    {
     "name": "stdout",
     "output_type": "stream",
     "text": [
      "Epoch [79], Train Loss : [0.31347]               Val Loss : [160.14106] Val ACC : [0.92841] Val Cor_Rate: [0.36085]\n"
     ]
    },
    {
     "name": "stderr",
     "output_type": "stream",
     "text": [
      "100%|██████████| 21/21 [03:35<00:00, 10.28s/it]\n",
      "100%|██████████| 6/6 [00:15<00:00,  2.61s/it]\n"
     ]
    },
    {
     "name": "stdout",
     "output_type": "stream",
     "text": [
      "Epoch [80], Train Loss : [0.28762]               Val Loss : [160.66343] Val ACC : [0.92694] Val Cor_Rate: [0.34873]\n"
     ]
    },
    {
     "name": "stderr",
     "output_type": "stream",
     "text": [
      "100%|██████████| 21/21 [03:35<00:00, 10.27s/it]\n",
      "100%|██████████| 6/6 [00:15<00:00,  2.58s/it]\n"
     ]
    },
    {
     "name": "stdout",
     "output_type": "stream",
     "text": [
      "Epoch [81], Train Loss : [0.31482]               Val Loss : [161.58960] Val ACC : [0.92797] Val Cor_Rate: [0.35928]\n"
     ]
    },
    {
     "name": "stderr",
     "output_type": "stream",
     "text": [
      "100%|██████████| 21/21 [03:36<00:00, 10.29s/it]\n",
      "100%|██████████| 6/6 [00:15<00:00,  2.61s/it]\n"
     ]
    },
    {
     "name": "stdout",
     "output_type": "stream",
     "text": [
      "Epoch [82], Train Loss : [0.35815]               Val Loss : [162.97681] Val ACC : [0.92663] Val Cor_Rate: [0.34747]\n"
     ]
    },
    {
     "name": "stderr",
     "output_type": "stream",
     "text": [
      "100%|██████████| 21/21 [03:36<00:00, 10.30s/it]\n",
      "100%|██████████| 6/6 [00:15<00:00,  2.60s/it]\n"
     ]
    },
    {
     "name": "stdout",
     "output_type": "stream",
     "text": [
      "Epoch [83], Train Loss : [0.26405]               Val Loss : [162.57605] Val ACC : [0.92632] Val Cor_Rate: [0.34535]\n"
     ]
    },
    {
     "name": "stderr",
     "output_type": "stream",
     "text": [
      "100%|██████████| 21/21 [03:36<00:00, 10.31s/it]\n",
      "100%|██████████| 6/6 [00:15<00:00,  2.60s/it]\n"
     ]
    },
    {
     "name": "stdout",
     "output_type": "stream",
     "text": [
      "Epoch [84], Train Loss : [0.26528]               Val Loss : [163.17845] Val ACC : [0.92747] Val Cor_Rate: [0.35585]\n"
     ]
    },
    {
     "name": "stderr",
     "output_type": "stream",
     "text": [
      "100%|██████████| 21/21 [03:36<00:00, 10.32s/it]\n",
      "100%|██████████| 6/6 [00:15<00:00,  2.62s/it]\n"
     ]
    },
    {
     "name": "stdout",
     "output_type": "stream",
     "text": [
      "Epoch [85], Train Loss : [0.27269]               Val Loss : [164.39512] Val ACC : [0.92592] Val Cor_Rate: [0.34505]\n"
     ]
    },
    {
     "name": "stderr",
     "output_type": "stream",
     "text": [
      "100%|██████████| 21/21 [03:36<00:00, 10.31s/it]\n",
      "100%|██████████| 6/6 [00:15<00:00,  2.62s/it]\n"
     ]
    },
    {
     "name": "stdout",
     "output_type": "stream",
     "text": [
      "Epoch [86], Train Loss : [0.23317]               Val Loss : [165.41325] Val ACC : [0.92741] Val Cor_Rate: [0.35603]\n"
     ]
    },
    {
     "name": "stderr",
     "output_type": "stream",
     "text": [
      "100%|██████████| 21/21 [03:36<00:00, 10.30s/it]\n",
      "100%|██████████| 6/6 [00:15<00:00,  2.61s/it]\n"
     ]
    },
    {
     "name": "stdout",
     "output_type": "stream",
     "text": [
      "Epoch [87], Train Loss : [0.24345]               Val Loss : [166.23368] Val ACC : [0.92498] Val Cor_Rate: [0.33723]\n"
     ]
    },
    {
     "name": "stderr",
     "output_type": "stream",
     "text": [
      "100%|██████████| 21/21 [03:36<00:00, 10.30s/it]\n",
      "100%|██████████| 6/6 [00:15<00:00,  2.59s/it]\n"
     ]
    },
    {
     "name": "stdout",
     "output_type": "stream",
     "text": [
      "Epoch [88], Train Loss : [0.35428]               Val Loss : [167.32647] Val ACC : [0.92823] Val Cor_Rate: [0.36022]\n"
     ]
    },
    {
     "name": "stderr",
     "output_type": "stream",
     "text": [
      "100%|██████████| 21/21 [03:50<00:00, 10.98s/it]\n",
      "100%|██████████| 6/6 [00:15<00:00,  2.60s/it]\n"
     ]
    },
    {
     "name": "stdout",
     "output_type": "stream",
     "text": [
      "Epoch [89], Train Loss : [0.32121]               Val Loss : [166.88226] Val ACC : [0.92883] Val Cor_Rate: [0.37275]\n"
     ]
    },
    {
     "name": "stderr",
     "output_type": "stream",
     "text": [
      "100%|██████████| 21/21 [03:35<00:00, 10.26s/it]\n",
      "100%|██████████| 6/6 [00:16<00:00,  2.71s/it]\n"
     ]
    },
    {
     "name": "stdout",
     "output_type": "stream",
     "text": [
      "Epoch [90], Train Loss : [0.26315]               Val Loss : [167.29372] Val ACC : [0.92834] Val Cor_Rate: [0.36612]\n"
     ]
    },
    {
     "name": "stderr",
     "output_type": "stream",
     "text": [
      "100%|██████████| 21/21 [03:33<00:00, 10.18s/it]\n",
      "100%|██████████| 6/6 [00:16<00:00,  2.68s/it]\n"
     ]
    },
    {
     "name": "stdout",
     "output_type": "stream",
     "text": [
      "Epoch [91], Train Loss : [0.27336]               Val Loss : [167.53618] Val ACC : [0.92808] Val Cor_Rate: [0.36238]\n"
     ]
    },
    {
     "name": "stderr",
     "output_type": "stream",
     "text": [
      "100%|██████████| 21/21 [03:41<00:00, 10.56s/it]\n",
      "100%|██████████| 6/6 [00:15<00:00,  2.66s/it]\n"
     ]
    },
    {
     "name": "stdout",
     "output_type": "stream",
     "text": [
      "Epoch [92], Train Loss : [0.23353]               Val Loss : [166.00118] Val ACC : [0.92582] Val Cor_Rate: [0.34110]\n"
     ]
    },
    {
     "name": "stderr",
     "output_type": "stream",
     "text": [
      "100%|██████████| 21/21 [03:43<00:00, 10.62s/it]\n",
      "100%|██████████| 6/6 [00:17<00:00,  2.92s/it]\n"
     ]
    },
    {
     "name": "stdout",
     "output_type": "stream",
     "text": [
      "Epoch [93], Train Loss : [0.25855]               Val Loss : [169.77695] Val ACC : [0.92737] Val Cor_Rate: [0.35715]\n"
     ]
    },
    {
     "name": "stderr",
     "output_type": "stream",
     "text": [
      "100%|██████████| 21/21 [03:36<00:00, 10.31s/it]\n",
      "100%|██████████| 6/6 [00:17<00:00,  2.98s/it]\n"
     ]
    },
    {
     "name": "stdout",
     "output_type": "stream",
     "text": [
      "Epoch [94], Train Loss : [0.21612]               Val Loss : [168.63457] Val ACC : [0.92691] Val Cor_Rate: [0.34713]\n"
     ]
    },
    {
     "name": "stderr",
     "output_type": "stream",
     "text": [
      "100%|██████████| 21/21 [03:41<00:00, 10.54s/it]\n",
      "100%|██████████| 6/6 [00:17<00:00,  2.85s/it]\n"
     ]
    },
    {
     "name": "stdout",
     "output_type": "stream",
     "text": [
      "Epoch [95], Train Loss : [0.32368]               Val Loss : [168.58200] Val ACC : [0.92830] Val Cor_Rate: [0.36490]\n"
     ]
    },
    {
     "name": "stderr",
     "output_type": "stream",
     "text": [
      "100%|██████████| 21/21 [03:35<00:00, 10.25s/it]\n",
      "100%|██████████| 6/6 [00:16<00:00,  2.76s/it]\n"
     ]
    },
    {
     "name": "stdout",
     "output_type": "stream",
     "text": [
      "Epoch [96], Train Loss : [0.63233]               Val Loss : [173.22559] Val ACC : [0.92638] Val Cor_Rate: [0.33885]\n"
     ]
    },
    {
     "name": "stderr",
     "output_type": "stream",
     "text": [
      "100%|██████████| 21/21 [03:29<00:00,  9.99s/it]\n",
      "100%|██████████| 6/6 [00:15<00:00,  2.60s/it]\n"
     ]
    },
    {
     "name": "stdout",
     "output_type": "stream",
     "text": [
      "Epoch [97], Train Loss : [0.47507]               Val Loss : [167.39827] Val ACC : [0.92716] Val Cor_Rate: [0.35593]\n"
     ]
    },
    {
     "name": "stderr",
     "output_type": "stream",
     "text": [
      "100%|██████████| 21/21 [03:25<00:00,  9.77s/it]\n",
      "100%|██████████| 6/6 [00:15<00:00,  2.57s/it]\n"
     ]
    },
    {
     "name": "stdout",
     "output_type": "stream",
     "text": [
      "Epoch [98], Train Loss : [0.32470]               Val Loss : [167.34786] Val ACC : [0.92857] Val Cor_Rate: [0.36358]\n"
     ]
    },
    {
     "name": "stderr",
     "output_type": "stream",
     "text": [
      "100%|██████████| 21/21 [03:24<00:00,  9.75s/it]\n",
      "100%|██████████| 6/6 [00:15<00:00,  2.53s/it]\n"
     ]
    },
    {
     "name": "stdout",
     "output_type": "stream",
     "text": [
      "Epoch [99], Train Loss : [0.30511]               Val Loss : [168.20912] Val ACC : [0.92848] Val Cor_Rate: [0.36460]\n"
     ]
    },
    {
     "name": "stderr",
     "output_type": "stream",
     "text": [
      "100%|██████████| 21/21 [03:25<00:00,  9.79s/it]\n",
      "100%|██████████| 6/6 [00:15<00:00,  2.54s/it]"
     ]
    },
    {
     "name": "stdout",
     "output_type": "stream",
     "text": [
      "Epoch [100], Train Loss : [0.28149]               Val Loss : [169.24706] Val ACC : [0.92850] Val Cor_Rate: [0.36835]\n"
     ]
    },
    {
     "name": "stderr",
     "output_type": "stream",
     "text": [
      "\n"
     ]
    }
   ],
   "source": [
    "final_model, epoch, best_cor_model, best_cor_epoch, best_loss_model, best_loss_epoch \\\n",
    "= train(model, optimizer, train_loader, val_loader, \n",
    "        scheduler, \n",
    "        device, logger=logger)"
   ]
  },
  {
   "cell_type": "code",
   "execution_count": 24,
   "metadata": {},
   "outputs": [
    {
     "name": "stdout",
     "output_type": "stream",
     "text": [
      "./checkpoints/test21\n"
     ]
    }
   ],
   "source": [
    "print(save_path)"
   ]
  },
  {
   "cell_type": "code",
   "execution_count": 22,
   "metadata": {},
   "outputs": [
    {
     "name": "stdout",
     "output_type": "stream",
     "text": [
      "saved checkpoint: ./checkpoints/test19\\checkpoint-000100.pth\n"
     ]
    }
   ],
   "source": [
    "checkpoint_save(model, save_path, epoch)"
   ]
  },
  {
   "cell_type": "code",
   "execution_count": 26,
   "metadata": {},
   "outputs": [
    {
     "name": "stdout",
     "output_type": "stream",
     "text": [
      "saved checkpoint: ./checkpoints/test21\\checkpoint-000100.pth\n",
      "saved checkpoint: ./checkpoints/test21\\checkpoint-000011.pth\n"
     ]
    }
   ],
   "source": [
    "checkpoint_save(final_model, save_path, epoch)\n",
    "checkpoint_save(best_cor_model, save_path, best_cor_epoch)\n",
    "#checkpoint_save(best_loss_model, save_path, best_loss_epoch)"
   ]
  },
  {
   "cell_type": "code",
   "execution_count": 25,
   "metadata": {},
   "outputs": [
    {
     "name": "stderr",
     "output_type": "stream",
     "text": [
      "c:\\Users\\NGN\\anaconda3\\envs\\auto_tagging\\lib\\site-packages\\torchvision\\models\\_utils.py:209: UserWarning: The parameter 'pretrained' is deprecated since 0.13 and may be removed in the future, please use 'weights' instead.\n",
      "  f\"The parameter '{pretrained_param}' is deprecated since 0.13 and may be removed in the future, \"\n",
      "c:\\Users\\NGN\\anaconda3\\envs\\auto_tagging\\lib\\site-packages\\torchvision\\models\\_utils.py:223: UserWarning: Arguments other than a weight enum or `None` for 'weights' are deprecated since 0.13 and may be removed in the future. The current behavior is equivalent to passing `weights=ResNet50_Weights.IMAGENET1K_V1`. You can also use `weights=ResNet50_Weights.DEFAULT` to get the most up-to-date weights.\n",
      "  warnings.warn(msg)\n"
     ]
    },
    {
     "data": {
      "text/plain": [
       "Resnet50(\n",
       "  (base_model): ResNet(\n",
       "    (conv1): Conv2d(3, 64, kernel_size=(7, 7), stride=(2, 2), padding=(3, 3), bias=False)\n",
       "    (bn1): BatchNorm2d(64, eps=1e-05, momentum=0.1, affine=True, track_running_stats=True)\n",
       "    (relu): ReLU(inplace=True)\n",
       "    (maxpool): MaxPool2d(kernel_size=3, stride=2, padding=1, dilation=1, ceil_mode=False)\n",
       "    (layer1): Sequential(\n",
       "      (0): Bottleneck(\n",
       "        (conv1): Conv2d(64, 64, kernel_size=(1, 1), stride=(1, 1), bias=False)\n",
       "        (bn1): BatchNorm2d(64, eps=1e-05, momentum=0.1, affine=True, track_running_stats=True)\n",
       "        (conv2): Conv2d(64, 64, kernel_size=(3, 3), stride=(1, 1), padding=(1, 1), bias=False)\n",
       "        (bn2): BatchNorm2d(64, eps=1e-05, momentum=0.1, affine=True, track_running_stats=True)\n",
       "        (conv3): Conv2d(64, 256, kernel_size=(1, 1), stride=(1, 1), bias=False)\n",
       "        (bn3): BatchNorm2d(256, eps=1e-05, momentum=0.1, affine=True, track_running_stats=True)\n",
       "        (relu): ReLU(inplace=True)\n",
       "        (downsample): Sequential(\n",
       "          (0): Conv2d(64, 256, kernel_size=(1, 1), stride=(1, 1), bias=False)\n",
       "          (1): BatchNorm2d(256, eps=1e-05, momentum=0.1, affine=True, track_running_stats=True)\n",
       "        )\n",
       "      )\n",
       "      (1): Bottleneck(\n",
       "        (conv1): Conv2d(256, 64, kernel_size=(1, 1), stride=(1, 1), bias=False)\n",
       "        (bn1): BatchNorm2d(64, eps=1e-05, momentum=0.1, affine=True, track_running_stats=True)\n",
       "        (conv2): Conv2d(64, 64, kernel_size=(3, 3), stride=(1, 1), padding=(1, 1), bias=False)\n",
       "        (bn2): BatchNorm2d(64, eps=1e-05, momentum=0.1, affine=True, track_running_stats=True)\n",
       "        (conv3): Conv2d(64, 256, kernel_size=(1, 1), stride=(1, 1), bias=False)\n",
       "        (bn3): BatchNorm2d(256, eps=1e-05, momentum=0.1, affine=True, track_running_stats=True)\n",
       "        (relu): ReLU(inplace=True)\n",
       "      )\n",
       "      (2): Bottleneck(\n",
       "        (conv1): Conv2d(256, 64, kernel_size=(1, 1), stride=(1, 1), bias=False)\n",
       "        (bn1): BatchNorm2d(64, eps=1e-05, momentum=0.1, affine=True, track_running_stats=True)\n",
       "        (conv2): Conv2d(64, 64, kernel_size=(3, 3), stride=(1, 1), padding=(1, 1), bias=False)\n",
       "        (bn2): BatchNorm2d(64, eps=1e-05, momentum=0.1, affine=True, track_running_stats=True)\n",
       "        (conv3): Conv2d(64, 256, kernel_size=(1, 1), stride=(1, 1), bias=False)\n",
       "        (bn3): BatchNorm2d(256, eps=1e-05, momentum=0.1, affine=True, track_running_stats=True)\n",
       "        (relu): ReLU(inplace=True)\n",
       "      )\n",
       "    )\n",
       "    (layer2): Sequential(\n",
       "      (0): Bottleneck(\n",
       "        (conv1): Conv2d(256, 128, kernel_size=(1, 1), stride=(1, 1), bias=False)\n",
       "        (bn1): BatchNorm2d(128, eps=1e-05, momentum=0.1, affine=True, track_running_stats=True)\n",
       "        (conv2): Conv2d(128, 128, kernel_size=(3, 3), stride=(2, 2), padding=(1, 1), bias=False)\n",
       "        (bn2): BatchNorm2d(128, eps=1e-05, momentum=0.1, affine=True, track_running_stats=True)\n",
       "        (conv3): Conv2d(128, 512, kernel_size=(1, 1), stride=(1, 1), bias=False)\n",
       "        (bn3): BatchNorm2d(512, eps=1e-05, momentum=0.1, affine=True, track_running_stats=True)\n",
       "        (relu): ReLU(inplace=True)\n",
       "        (downsample): Sequential(\n",
       "          (0): Conv2d(256, 512, kernel_size=(1, 1), stride=(2, 2), bias=False)\n",
       "          (1): BatchNorm2d(512, eps=1e-05, momentum=0.1, affine=True, track_running_stats=True)\n",
       "        )\n",
       "      )\n",
       "      (1): Bottleneck(\n",
       "        (conv1): Conv2d(512, 128, kernel_size=(1, 1), stride=(1, 1), bias=False)\n",
       "        (bn1): BatchNorm2d(128, eps=1e-05, momentum=0.1, affine=True, track_running_stats=True)\n",
       "        (conv2): Conv2d(128, 128, kernel_size=(3, 3), stride=(1, 1), padding=(1, 1), bias=False)\n",
       "        (bn2): BatchNorm2d(128, eps=1e-05, momentum=0.1, affine=True, track_running_stats=True)\n",
       "        (conv3): Conv2d(128, 512, kernel_size=(1, 1), stride=(1, 1), bias=False)\n",
       "        (bn3): BatchNorm2d(512, eps=1e-05, momentum=0.1, affine=True, track_running_stats=True)\n",
       "        (relu): ReLU(inplace=True)\n",
       "      )\n",
       "      (2): Bottleneck(\n",
       "        (conv1): Conv2d(512, 128, kernel_size=(1, 1), stride=(1, 1), bias=False)\n",
       "        (bn1): BatchNorm2d(128, eps=1e-05, momentum=0.1, affine=True, track_running_stats=True)\n",
       "        (conv2): Conv2d(128, 128, kernel_size=(3, 3), stride=(1, 1), padding=(1, 1), bias=False)\n",
       "        (bn2): BatchNorm2d(128, eps=1e-05, momentum=0.1, affine=True, track_running_stats=True)\n",
       "        (conv3): Conv2d(128, 512, kernel_size=(1, 1), stride=(1, 1), bias=False)\n",
       "        (bn3): BatchNorm2d(512, eps=1e-05, momentum=0.1, affine=True, track_running_stats=True)\n",
       "        (relu): ReLU(inplace=True)\n",
       "      )\n",
       "      (3): Bottleneck(\n",
       "        (conv1): Conv2d(512, 128, kernel_size=(1, 1), stride=(1, 1), bias=False)\n",
       "        (bn1): BatchNorm2d(128, eps=1e-05, momentum=0.1, affine=True, track_running_stats=True)\n",
       "        (conv2): Conv2d(128, 128, kernel_size=(3, 3), stride=(1, 1), padding=(1, 1), bias=False)\n",
       "        (bn2): BatchNorm2d(128, eps=1e-05, momentum=0.1, affine=True, track_running_stats=True)\n",
       "        (conv3): Conv2d(128, 512, kernel_size=(1, 1), stride=(1, 1), bias=False)\n",
       "        (bn3): BatchNorm2d(512, eps=1e-05, momentum=0.1, affine=True, track_running_stats=True)\n",
       "        (relu): ReLU(inplace=True)\n",
       "      )\n",
       "    )\n",
       "    (layer3): Sequential(\n",
       "      (0): Bottleneck(\n",
       "        (conv1): Conv2d(512, 256, kernel_size=(1, 1), stride=(1, 1), bias=False)\n",
       "        (bn1): BatchNorm2d(256, eps=1e-05, momentum=0.1, affine=True, track_running_stats=True)\n",
       "        (conv2): Conv2d(256, 256, kernel_size=(3, 3), stride=(2, 2), padding=(1, 1), bias=False)\n",
       "        (bn2): BatchNorm2d(256, eps=1e-05, momentum=0.1, affine=True, track_running_stats=True)\n",
       "        (conv3): Conv2d(256, 1024, kernel_size=(1, 1), stride=(1, 1), bias=False)\n",
       "        (bn3): BatchNorm2d(1024, eps=1e-05, momentum=0.1, affine=True, track_running_stats=True)\n",
       "        (relu): ReLU(inplace=True)\n",
       "        (downsample): Sequential(\n",
       "          (0): Conv2d(512, 1024, kernel_size=(1, 1), stride=(2, 2), bias=False)\n",
       "          (1): BatchNorm2d(1024, eps=1e-05, momentum=0.1, affine=True, track_running_stats=True)\n",
       "        )\n",
       "      )\n",
       "      (1): Bottleneck(\n",
       "        (conv1): Conv2d(1024, 256, kernel_size=(1, 1), stride=(1, 1), bias=False)\n",
       "        (bn1): BatchNorm2d(256, eps=1e-05, momentum=0.1, affine=True, track_running_stats=True)\n",
       "        (conv2): Conv2d(256, 256, kernel_size=(3, 3), stride=(1, 1), padding=(1, 1), bias=False)\n",
       "        (bn2): BatchNorm2d(256, eps=1e-05, momentum=0.1, affine=True, track_running_stats=True)\n",
       "        (conv3): Conv2d(256, 1024, kernel_size=(1, 1), stride=(1, 1), bias=False)\n",
       "        (bn3): BatchNorm2d(1024, eps=1e-05, momentum=0.1, affine=True, track_running_stats=True)\n",
       "        (relu): ReLU(inplace=True)\n",
       "      )\n",
       "      (2): Bottleneck(\n",
       "        (conv1): Conv2d(1024, 256, kernel_size=(1, 1), stride=(1, 1), bias=False)\n",
       "        (bn1): BatchNorm2d(256, eps=1e-05, momentum=0.1, affine=True, track_running_stats=True)\n",
       "        (conv2): Conv2d(256, 256, kernel_size=(3, 3), stride=(1, 1), padding=(1, 1), bias=False)\n",
       "        (bn2): BatchNorm2d(256, eps=1e-05, momentum=0.1, affine=True, track_running_stats=True)\n",
       "        (conv3): Conv2d(256, 1024, kernel_size=(1, 1), stride=(1, 1), bias=False)\n",
       "        (bn3): BatchNorm2d(1024, eps=1e-05, momentum=0.1, affine=True, track_running_stats=True)\n",
       "        (relu): ReLU(inplace=True)\n",
       "      )\n",
       "      (3): Bottleneck(\n",
       "        (conv1): Conv2d(1024, 256, kernel_size=(1, 1), stride=(1, 1), bias=False)\n",
       "        (bn1): BatchNorm2d(256, eps=1e-05, momentum=0.1, affine=True, track_running_stats=True)\n",
       "        (conv2): Conv2d(256, 256, kernel_size=(3, 3), stride=(1, 1), padding=(1, 1), bias=False)\n",
       "        (bn2): BatchNorm2d(256, eps=1e-05, momentum=0.1, affine=True, track_running_stats=True)\n",
       "        (conv3): Conv2d(256, 1024, kernel_size=(1, 1), stride=(1, 1), bias=False)\n",
       "        (bn3): BatchNorm2d(1024, eps=1e-05, momentum=0.1, affine=True, track_running_stats=True)\n",
       "        (relu): ReLU(inplace=True)\n",
       "      )\n",
       "      (4): Bottleneck(\n",
       "        (conv1): Conv2d(1024, 256, kernel_size=(1, 1), stride=(1, 1), bias=False)\n",
       "        (bn1): BatchNorm2d(256, eps=1e-05, momentum=0.1, affine=True, track_running_stats=True)\n",
       "        (conv2): Conv2d(256, 256, kernel_size=(3, 3), stride=(1, 1), padding=(1, 1), bias=False)\n",
       "        (bn2): BatchNorm2d(256, eps=1e-05, momentum=0.1, affine=True, track_running_stats=True)\n",
       "        (conv3): Conv2d(256, 1024, kernel_size=(1, 1), stride=(1, 1), bias=False)\n",
       "        (bn3): BatchNorm2d(1024, eps=1e-05, momentum=0.1, affine=True, track_running_stats=True)\n",
       "        (relu): ReLU(inplace=True)\n",
       "      )\n",
       "      (5): Bottleneck(\n",
       "        (conv1): Conv2d(1024, 256, kernel_size=(1, 1), stride=(1, 1), bias=False)\n",
       "        (bn1): BatchNorm2d(256, eps=1e-05, momentum=0.1, affine=True, track_running_stats=True)\n",
       "        (conv2): Conv2d(256, 256, kernel_size=(3, 3), stride=(1, 1), padding=(1, 1), bias=False)\n",
       "        (bn2): BatchNorm2d(256, eps=1e-05, momentum=0.1, affine=True, track_running_stats=True)\n",
       "        (conv3): Conv2d(256, 1024, kernel_size=(1, 1), stride=(1, 1), bias=False)\n",
       "        (bn3): BatchNorm2d(1024, eps=1e-05, momentum=0.1, affine=True, track_running_stats=True)\n",
       "        (relu): ReLU(inplace=True)\n",
       "      )\n",
       "    )\n",
       "    (layer4): Sequential(\n",
       "      (0): Bottleneck(\n",
       "        (conv1): Conv2d(1024, 512, kernel_size=(1, 1), stride=(1, 1), bias=False)\n",
       "        (bn1): BatchNorm2d(512, eps=1e-05, momentum=0.1, affine=True, track_running_stats=True)\n",
       "        (conv2): Conv2d(512, 512, kernel_size=(3, 3), stride=(2, 2), padding=(1, 1), bias=False)\n",
       "        (bn2): BatchNorm2d(512, eps=1e-05, momentum=0.1, affine=True, track_running_stats=True)\n",
       "        (conv3): Conv2d(512, 2048, kernel_size=(1, 1), stride=(1, 1), bias=False)\n",
       "        (bn3): BatchNorm2d(2048, eps=1e-05, momentum=0.1, affine=True, track_running_stats=True)\n",
       "        (relu): ReLU(inplace=True)\n",
       "        (downsample): Sequential(\n",
       "          (0): Conv2d(1024, 2048, kernel_size=(1, 1), stride=(2, 2), bias=False)\n",
       "          (1): BatchNorm2d(2048, eps=1e-05, momentum=0.1, affine=True, track_running_stats=True)\n",
       "        )\n",
       "      )\n",
       "      (1): Bottleneck(\n",
       "        (conv1): Conv2d(2048, 512, kernel_size=(1, 1), stride=(1, 1), bias=False)\n",
       "        (bn1): BatchNorm2d(512, eps=1e-05, momentum=0.1, affine=True, track_running_stats=True)\n",
       "        (conv2): Conv2d(512, 512, kernel_size=(3, 3), stride=(1, 1), padding=(1, 1), bias=False)\n",
       "        (bn2): BatchNorm2d(512, eps=1e-05, momentum=0.1, affine=True, track_running_stats=True)\n",
       "        (conv3): Conv2d(512, 2048, kernel_size=(1, 1), stride=(1, 1), bias=False)\n",
       "        (bn3): BatchNorm2d(2048, eps=1e-05, momentum=0.1, affine=True, track_running_stats=True)\n",
       "        (relu): ReLU(inplace=True)\n",
       "      )\n",
       "      (2): Bottleneck(\n",
       "        (conv1): Conv2d(2048, 512, kernel_size=(1, 1), stride=(1, 1), bias=False)\n",
       "        (bn1): BatchNorm2d(512, eps=1e-05, momentum=0.1, affine=True, track_running_stats=True)\n",
       "        (conv2): Conv2d(512, 512, kernel_size=(3, 3), stride=(1, 1), padding=(1, 1), bias=False)\n",
       "        (bn2): BatchNorm2d(512, eps=1e-05, momentum=0.1, affine=True, track_running_stats=True)\n",
       "        (conv3): Conv2d(512, 2048, kernel_size=(1, 1), stride=(1, 1), bias=False)\n",
       "        (bn3): BatchNorm2d(2048, eps=1e-05, momentum=0.1, affine=True, track_running_stats=True)\n",
       "        (relu): ReLU(inplace=True)\n",
       "      )\n",
       "    )\n",
       "    (avgpool): AdaptiveAvgPool2d(output_size=(1, 1))\n",
       "    (fc): Sequential(\n",
       "      (0): Linear(in_features=2048, out_features=71, bias=True)\n",
       "    )\n",
       "  )\n",
       ")"
      ]
     },
     "execution_count": 25,
     "metadata": {},
     "output_type": "execute_result"
    }
   ],
   "source": [
    "# test_model = final_model\n",
    "# 저장된 ckpt를 불러와서 inference를 수행하는 경우\n",
    "test_model = Resnet50(len(train_dataset.classes))\n",
    "test_model = test_model.to(device)\n",
    "test_model.load_state_dict( torch.load('./checkpoints/test19/checkpoint-000100.pth'))\n",
    "# test_model = torch.load('./checkpoints/test12/checkpoint-000100.pth')\n",
    "\n",
    "test_model.eval()\n"
   ]
  },
  {
   "cell_type": "code",
   "execution_count": 26,
   "metadata": {},
   "outputs": [
    {
     "name": "stdout",
     "output_type": "stream",
     "text": [
      "loading E:\\NRF_2022\\MDPI\\Extracted_Data\\new_stft_935_split\\test\\test.json\n"
     ]
    }
   ],
   "source": [
    "# Run inference on the test data\n",
    "# test preprocessing\n",
    "from torchvision import transforms\n",
    "import os\n",
    "\n",
    "test_transform = transforms.Compose([\n",
    "    transforms.Resize((256, 256)),\n",
    "    transforms.ToTensor(),\n",
    "    transforms.Normalize(mean, std)\n",
    "])\n",
    "split_test='test'\n",
    "\n",
    "img_folder='E:\\\\NRF_2022\\\\MDPI\\\\Extracted_Data\\\\new_stft_935_split'\n",
    "# img_folder='E:\\\\NRF_2022\\\\MDPI\\\\Extracted_Data\\\\new_stft_2024'\n",
    "test_annotations = os.path.join(img_folder, 'test', 'test.json')\n",
    "test_dataset = MpstDataset(img_folder, test_annotations, test_transform, split_test)\n",
    "test_dataloader = DataLoader(test_dataset, batch_size=batch_size, \n",
    "                                num_workers=num_workers)\n",
    "\n",
    "\n"
   ]
  },
  {
   "cell_type": "code",
   "execution_count": 27,
   "metadata": {},
   "outputs": [
    {
     "name": "stdout",
     "output_type": "stream",
     "text": [
      "Label distribution (count, class name): [(0, 'storytelling'), (0, 'sentimental'), (0, 'philosophical'), (0, 'bleak'), (0, 'haunting'), (0, 'historical fiction'), (0, 'adult comedy'), (0, 'thought-provoking'), (0, 'brainwashing'), (0, 'blaxploitation'), (0, 'western'), (0, 'grindhouse film'), (0, 'autobiographical'), (0, 'christian film'), (0, 'non fiction'), (1, 'paranormal'), (1, 'melodrama'), (1, 'dark'), (1, 'absurd'), (1, 'avant garde'), (1, 'alternate reality'), (1, 'depressing'), (1, 'intrigue'), (1, 'allegory'), (1, 'inspiring'), (1, 'anti war'), (1, 'alternate history'), (1, 'claustrophobic'), (1, 'whimsical'), (1, 'magical realism'), (2, 'horror'), (2, 'cruelty'), (2, 'gothic'), (2, 'dramatic'), (2, 'sci-fi'), (2, 'plot twist'), (2, 'realism'), (2, 'cute'), (2, 'pornographic'), (2, 'home movie'), (2, 'comic'), (2, 'clever'), (2, 'suicidal'), (3, 'atmospheric'), (3, 'psychological'), (3, 'stupid'), (3, 'queer'), (3, 'feel-good'), (4, 'prank'), (5, 'fantasy'), (5, 'historical'), (6, 'boring'), (7, 'sadist'), (7, 'insanity'), (8, 'satire'), (8, 'entertaining'), (8, 'tragedy'), (9, 'good versus evil'), (9, 'mystery'), (10, 'action'), (12, 'humor'), (14, 'psychedelic'), (14, 'neo noir'), (16, 'suspenseful'), (18, 'flashback'), (21, 'romantic'), (25, 'revenge'), (30, 'comedy'), (33, 'murder'), (35, 'violence'), (40, 'cult')]\n"
     ]
    },
    {
     "data": {
      "image/png": "[encoded data removed]",
      "text/plain": [
       "<Figure size 640x480 with 1 Axes>"
      ]
     },
     "metadata": {},
     "output_type": "display_data"
    }
   ],
   "source": [
    "# Calculate label distribution for the entire dataset (train + val)\n",
    "samples = test_dataset.annos\n",
    "samples = np.array(samples)\n",
    "with printoptions(precision=3, suppress=True):\n",
    "    class_counts = np.sum(samples, axis=0)\n",
    "    # Sort labels according to their frequency in the dataset.\n",
    "    sorted_ids = np.array([i[0] for i in sorted(enumerate(class_counts), key=lambda x: x[1])], dtype=int)\n",
    "    print('Label distribution (count, class name):', list(zip(class_counts[sorted_ids].astype(int), np.array(test_dataset.classes)[sorted_ids])))\n",
    "    # plt.barh(range(len(dataset_val.classes)), width=class_counts[sorted_ids])\n",
    "    plt.barh(range(len(test_dataset.classes)), width=class_counts[sorted_ids])\n",
    "    plt.yticks(range(len(test_dataset.classes)), np.array(test_dataset.classes)[sorted_ids])\n",
    "    plt.gca().margins(y=0)\n",
    "    plt.grid()\n",
    "    plt.title('Label distribution')\n",
    "    plt.show()"
   ]
  },
  {
   "cell_type": "code",
   "execution_count": null,
   "metadata": {},
   "outputs": [],
   "source": [
    "# def inference(model, test_loader, device):\n",
    "#     model.to(device)\n",
    "#     model.eval()\n",
    "#     predictions=[]\n",
    "#     with torch.no_grad():\n",
    "#         for imgs, labels in tqdm(iter(test_loader)):\n",
    "#             imgs=imgs.float().to(device)\n",
    "            \n",
    "#             probs=model(imgs)\n",
    "#             # print(f\"probs:{probs}\")\n",
    "#             # print(f\"probs len:{len(probs)}\")\n",
    "#             # print(f\"probs shape:{(probs.shape)}\")\n",
    "#             # print(f\"probs[0] :{(probs[0])}\")\n",
    "#             # print(f\"probs[0] len :{len(probs[0])}\")\n",
    "            \n",
    "#             probs=probs.cpu().detach().numpy()\n",
    "#             preds=probs>0.5\n",
    "#             preds=preds.astype(int)\n",
    "#             predictions+=preds.tolist()\n",
    "#     return predictions\n",
    "            "
   ]
  },
  {
   "cell_type": "code",
   "execution_count": null,
   "metadata": {},
   "outputs": [],
   "source": [
    "print(len(test_dataset))"
   ]
  },
  {
   "cell_type": "code",
   "execution_count": 28,
   "metadata": {},
   "outputs": [
    {
     "name": "stdout",
     "output_type": "stream",
     "text": [
      "0\n"
     ]
    }
   ],
   "source": [
    "print(best_loss_epoch)"
   ]
  },
  {
   "cell_type": "code",
   "execution_count": null,
   "metadata": {},
   "outputs": [],
   "source": [
    "test_model=best_loss_model"
   ]
  },
  {
   "cell_type": "code",
   "execution_count": null,
   "metadata": {},
   "outputs": [],
   "source": [
    "# preds=inference(test_model, test_dataloader, device)"
   ]
  },
  {
   "cell_type": "code",
   "execution_count": null,
   "metadata": {},
   "outputs": [],
   "source": [
    "# print(preds)\n",
    "# print(len(preds))\n",
    "# print(preds[0])"
   ]
  },
  {
   "cell_type": "code",
   "execution_count": null,
   "metadata": {},
   "outputs": [],
   "source": [
    "# import pandas as pd\n",
    "# submit=pd.read_csv('./result_sample/test6/test6.csv')\n",
    "# submit.iloc[:,1:] = preds\n",
    "# submit.head()"
   ]
  },
  {
   "cell_type": "code",
   "execution_count": 29,
   "metadata": {},
   "outputs": [
    {
     "name": "stderr",
     "output_type": "stream",
     "text": [
      "c:\\Users\\NGN\\anaconda3\\envs\\auto_tagging\\lib\\site-packages\\sklearn\\metrics\\_classification.py:1318: UndefinedMetricWarning: Precision is ill-defined and being set to 0.0 in labels with no predicted samples. Use `zero_division` parameter to control this behavior.\n",
      "  _warn_prf(average, modifier, msg_start, len(result))\n",
      "c:\\Users\\NGN\\anaconda3\\envs\\auto_tagging\\lib\\site-packages\\sklearn\\metrics\\_classification.py:1318: UndefinedMetricWarning: Precision is ill-defined and being set to 0.0 in labels with no predicted samples. Use `zero_division` parameter to control this behavior.\n",
      "  _warn_prf(average, modifier, msg_start, len(result))\n",
      "c:\\Users\\NGN\\anaconda3\\envs\\auto_tagging\\lib\\site-packages\\sklearn\\metrics\\_classification.py:1318: UndefinedMetricWarning: Precision is ill-defined and being set to 0.0 in labels with no predicted samples. Use `zero_division` parameter to control this behavior.\n",
      "  _warn_prf(average, modifier, msg_start, len(result))\n",
      "c:\\Users\\NGN\\anaconda3\\envs\\auto_tagging\\lib\\site-packages\\sklearn\\metrics\\_classification.py:1318: UndefinedMetricWarning: Precision is ill-defined and being set to 0.0 in labels with no predicted samples. Use `zero_division` parameter to control this behavior.\n",
      "  _warn_prf(average, modifier, msg_start, len(result))\n",
      "c:\\Users\\NGN\\anaconda3\\envs\\auto_tagging\\lib\\site-packages\\sklearn\\metrics\\_classification.py:1318: UndefinedMetricWarning: Precision is ill-defined and being set to 0.0 in labels with no predicted samples. Use `zero_division` parameter to control this behavior.\n",
      "  _warn_prf(average, modifier, msg_start, len(result))\n",
      "c:\\Users\\NGN\\anaconda3\\envs\\auto_tagging\\lib\\site-packages\\sklearn\\metrics\\_classification.py:1318: UndefinedMetricWarning: Precision is ill-defined and being set to 0.0 in labels with no predicted samples. Use `zero_division` parameter to control this behavior.\n",
      "  _warn_prf(average, modifier, msg_start, len(result))\n",
      "c:\\Users\\NGN\\anaconda3\\envs\\auto_tagging\\lib\\site-packages\\sklearn\\metrics\\_classification.py:1318: UndefinedMetricWarning: Precision is ill-defined and being set to 0.0 in labels with no predicted samples. Use `zero_division` parameter to control this behavior.\n",
      "  _warn_prf(average, modifier, msg_start, len(result))\n",
      "c:\\Users\\NGN\\anaconda3\\envs\\auto_tagging\\lib\\site-packages\\sklearn\\metrics\\_classification.py:1318: UndefinedMetricWarning: Precision is ill-defined and being set to 0.0 in labels with no predicted samples. Use `zero_division` parameter to control this behavior.\n",
      "  _warn_prf(average, modifier, msg_start, len(result))\n"
     ]
    }
   ],
   "source": [
    "import json\n",
    "\n",
    "item_list=[]\n",
    "result_metric_list=[]    \n",
    "test_acc=[]\n",
    "for sample_id in range(len(test_dataset)):\n",
    "    test_img, test_labels = test_dataset[sample_id]\n",
    "    test_img_path = os.path.join(img_folder, 'test', test_dataset.imgs[sample_id])\n",
    "    test_img_path+='.png'\n",
    "    with torch.no_grad():\n",
    "        raw_pred = test_model(test_img.unsqueeze(0).to(device)).cpu().numpy()[0]\n",
    "        raw_pred = np.array(raw_pred > 0.5, dtype=float)\n",
    "        \n",
    "    acc=(raw_pred==test_labels).mean()\n",
    "    test_acc.append(acc)\n",
    "    # print(sample_id)\n",
    "    # 평가지표 확인\n",
    "    # print(classification_report(test_labels, raw_pred, digits=3))\n",
    "    \n",
    "    metrics={'imdb_id':test_dataset.imgs[sample_id]}\n",
    "    result = calculate_metrics(raw_pred, test_labels)\n",
    "    metrics.update(result)\n",
    "    result_metric_list.append(metrics)\n",
    "    \n",
    "    predicted_labels = np.array(test_dataset.classes)[np.argwhere(raw_pred > 0)[:, 0]]\n",
    "    if not len(predicted_labels):\n",
    "        predicted_labels = np.array(['no pred']) # ['no predictions']\n",
    "    img_labels = np.array(test_dataset.classes)[np.argwhere(test_labels > 0)[:, 0]]\n",
    "\n",
    "    # 결과 가시화    \n",
    "    # plt.imshow(Image.open(test_img_path).convert('RGB'))\n",
    "    # plt.title(\"movie: {} \\nPredicted labels: {} \\nGT labels: {}\".format(test_dataset.imgs[sample_id],', '.join(predicted_labels), ', '.join(img_labels)))\n",
    "    # plt.axis('off')\n",
    "    # plt.show()\n",
    "    \n",
    "    # json 파일 저장할 gt_labels, predicted_labels 딕셔너리\n",
    "    item={'imdb_id': test_dataset.imgs[sample_id],\n",
    "          'gt_labels': img_labels.tolist(),\n",
    "          'predicted_labels': predicted_labels.tolist()\n",
    "          }\n",
    "    item_list.append(item)"
   ]
  },
  {
   "cell_type": "code",
   "execution_count": 30,
   "metadata": {},
   "outputs": [
    {
     "name": "stdout",
     "output_type": "stream",
     "text": [
      "      imdb_id                                          gt_labels  \\\n",
      "0   tt0105699          [murder, suspenseful, neo noir, insanity]   \n",
      "1   tt0105793                              [cult, comedy, humor]   \n",
      "2   tt0105812                [cult, comedy, humor, entertaining]   \n",
      "3   tt0106273                       [tragedy, historical, queer]   \n",
      "4   tt0106364  [murder, violence, flashback, romantic, cult, ...   \n",
      "..        ...                                                ...   \n",
      "90  tt0116493                                        [flashback]   \n",
      "91  tt0116508                      [murder, revenge, plot twist]   \n",
      "92  tt0116683               [cult, psychedelic, sadist, fantasy]   \n",
      "93  tt0116705                                            [comic]   \n",
      "94  tt0116722                                          [tragedy]   \n",
      "\n",
      "                                     predicted_labels  \n",
      "0   [murder, violence, romantic, cult, revenge, co...  \n",
      "1                [cult, comedy, satire, entertaining]  \n",
      "2   [violence, romantic, cult, psychedelic, comedy...  \n",
      "3                                          [romantic]  \n",
      "4   [romantic, cult, psychedelic, comedy, good ver...  \n",
      "..                                                ...  \n",
      "90                          [violence, comedy, humor]  \n",
      "91  [violence, flashback, comedy, good versus evil...  \n",
      "92  [romantic, cult, comedy, suspenseful, humor, a...  \n",
      "93                   [violence, cult, comedy, action]  \n",
      "94                                         [neo noir]  \n",
      "\n",
      "[95 rows x 3 columns]\n"
     ]
    }
   ],
   "source": [
    "import pandas as pd\n",
    "df_dict = pd.DataFrame(item_list)\n",
    "print(df_dict)"
   ]
  },
  {
   "cell_type": "code",
   "execution_count": 27,
   "metadata": {},
   "outputs": [],
   "source": [
    "df_dict.to_csv(\"./result/result_t19_1.csv\")"
   ]
  },
  {
   "cell_type": "code",
   "execution_count": 31,
   "metadata": {},
   "outputs": [],
   "source": [
    "with open('./result_sample/test19/test19.json', 'w') as f:\n",
    "    json.dump(item_list, f, indent=3)"
   ]
  },
  {
   "cell_type": "code",
   "execution_count": 32,
   "metadata": {},
   "outputs": [],
   "source": [
    "import json\n",
    "with open('./result_sample/test19/test19_metric.json', 'w') as f:\n",
    "    json.dump(result_metric_list, f, indent=3)"
   ]
  },
  {
   "cell_type": "code",
   "execution_count": null,
   "metadata": {},
   "outputs": [],
   "source": [
    "# print(result_metric_list)    \n",
    "# print(test_acc)"
   ]
  },
  {
   "cell_type": "code",
   "execution_count": null,
   "metadata": {},
   "outputs": [],
   "source": [
    "import numpy as np\n",
    "micro_precision_list=[]\n",
    "micro_recall_list=[]\n",
    "micro_f1_list=[]\n",
    "weighted_precision_list=[]\n",
    "weighted_recall_list=[]\n",
    "weighted_f1_list=[]\n",
    "\n",
    "for i in range(len(result_metric_list)):\n",
    "    micro_precision_list.append(result_metric_list[i]['micro/precision'])\n",
    "    micro_recall_list.append(result_metric_list[i]['micro/recall'])\n",
    "    micro_f1_list.append(result_metric_list[i]['micro/f1'])\n",
    "    weighted_precision_list.append(result_metric_list[i]['weighted/precision'])\n",
    "    weighted_recall_list.append(result_metric_list[i]['weighted/recall'])\n",
    "    weighted_f1_list.append(result_metric_list[i]['weighted/f1'])\n",
    "\n",
    "print(f\"micro_precision mean:{round(np.mean(micro_precision_list),5)}\")\n",
    "print(f\"micro_recall mean:{round(np.mean(micro_recall_list),5)}\")\n",
    "print(f\"micro_f1 mean:{round(np.mean(micro_f1_list),5)}\")\n",
    "print(f\"weighted_precision mean: {round(np.mean(weighted_precision_list),5)}\")\n",
    "print(f\"weighted_recall mean: {round(np.mean(weighted_recall_list),5)}\")\n",
    "print(f\"weighted_f1 mean: {round(np.mean(weighted_f1_list),5)}\")"
   ]
  },
  {
   "cell_type": "code",
   "execution_count": 33,
   "metadata": {},
   "outputs": [
    {
     "name": "stdout",
     "output_type": "stream",
     "text": [
      "Total pd_tag count:466\n",
      "Included in gt_tag count:111\n",
      "Correct rate: 23.8197 \n"
     ]
    }
   ],
   "source": [
    "correct_num=0\n",
    "total_pt_num=0\n",
    "for i in range(len(item_list)):\n",
    "    for tag in item_list[i]['predicted_labels']:\n",
    "        total_pt_num+=1\n",
    "        if(tag in item_list[i]['gt_labels']):\n",
    "            correct_num+=1\n",
    "            \n",
    "print(f\"Total pd_tag count:{total_pt_num}\\nIncluded in gt_tag count:{correct_num}\")\n",
    "print(f\"Correct rate: {round(correct_num/total_pt_num*100,4)} \")"
   ]
  },
  {
   "cell_type": "code",
   "execution_count": 34,
   "metadata": {},
   "outputs": [
    {
     "name": "stdout",
     "output_type": "stream",
     "text": [
      "Accuracy_mean:0.90511\n"
     ]
    }
   ],
   "source": [
    "_test_acc=np.mean(test_acc)\n",
    "print(f\"Accuracy_mean:{round(_test_acc, 5)}\")"
   ]
  },
  {
   "cell_type": "code",
   "execution_count": null,
   "metadata": {},
   "outputs": [],
   "source": [
    "# print(result_metric_list[0]['micro/precision'])    \n",
    "# print(result_metric_list[0]['micro/recall'])    \n",
    "# print(result_metric_list[0]['micro/f1']) \n",
    "# print(result_metric_list[0]['weighted/precision'])   \n",
    "# print(result_metric_list[0]['weighted/recall'])   \n",
    "# print(result_metric_list[0]['weighted/f1'])  "
   ]
  }
 ],
 "metadata": {
  "kernelspec": {
   "display_name": "Movie_Tagging",
   "language": "python",
   "name": "python3"
  },
  "language_info": {
   "codemirror_mode": {
    "name": "ipython",
    "version": 3
   },
   "file_extension": ".py",
   "mimetype": "text/x-python",
   "name": "python",
   "nbconvert_exporter": "python",
   "pygments_lexer": "ipython3",
   "version": "3.7.16"
  }
 },
 "nbformat": 4,
 "nbformat_minor": 2
}
