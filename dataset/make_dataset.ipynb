{
 "cells": [
  {
   "cell_type": "code",
   "execution_count": 16,
   "metadata": {},
   "outputs": [
    {
     "name": "stdout",
     "output_type": "stream",
     "text": [
      "E:\\NRF_2022\\MDPI\\Extracted_Data\\new_stft_2024\\test\n"
     ]
    }
   ],
   "source": [
    "# 추출된 STFT 파일의 목록 받아오기\n",
    "import os\n",
    "stft_dir='E:\\\\NRF_2022\\\\MDPI\\\\Extracted_Data\\\\new_stft_2024'\n",
    "split_type=['train', 'val', 'test']\n",
    "sel_type=split_type[2]\n",
    "stft_dir_path=stft_dir+'\\\\'+sel_type\n",
    "print(stft_dir_path)\n"
   ]
  },
  {
   "cell_type": "code",
   "execution_count": 17,
   "metadata": {},
   "outputs": [
    {
     "name": "stdout",
     "output_type": "stream",
     "text": [
      "['tt0023427.png', 'tt0029583.png', 'tt0031381.png', 'tt0032910.png', 'tt0034492.png', 'tt0035896.png', 'tt0040746.png', 'tt0041716.png', 'tt0043274.png', 'tt0043379.png', 'tt0044926.png', 'tt0045125.png', 'tt0045152.png', 'tt0045810.png', 'tt0045888.png', 'tt0045963.png', 'tt0046183.png', 'tt0046303.png', 'tt0046672.png', 'tt0046912.png', 'tt0047396.png', 'tt0047472.png', 'tt0047673.png', 'tt0047834.png', 'tt0047849.png', 'tt0048545.png', 'tt0048728.png', 'tt0049223.png', 'tt0049261.png', 'tt0049966.png', 'tt0050419.png', 'tt0051459.png', 'tt0051554.png', 'tt0051658.png', 'tt0052357.png', 'tt0052905.png', 'tt0052918.png', 'tt0052948.png', 'tt0053172.png', 'tt0053221.png', 'tt0054047.png', 'tt0054195.png', 'tt0054331.png', 'tt0054494.png', 'tt0054698.png', 'tt0054847.png', 'tt0055257.png', 'tt0055304.png', 'tt0055471.png', 'tt0055614.png', 'tt0055928.png', 'tt0056172.png', 'tt0056264.png', 'tt0056923.png', 'tt0057076.png', 'tt0057197.png', 'tt0058150.png', 'tt0058329.png', 'tt0058385.png', 'tt0058571.png', 'tt0058672.png', 'tt0058777.png', 'tt0059017.png', 'tt0059113.png', 'tt0059125.png', 'tt0059800.png', 'tt0060345.png', 'tt0063442.png', 'tt0063518.png', 'tt0063522.png', 'tt0064276.png', 'tt0064603.png', 'tt0064665.png', 'tt0064782.png', 'tt0065054.png', 'tt0065063.png', 'tt0065088.png', 'tt0065112.png', 'tt0065134.png', 'tt0065207.png', 'tt0065377.png', 'tt0065462.png', 'tt0065724.png', 'tt0065738.png', 'tt0066206.png', 'tt0066214.png', 'tt0066434.png', 'tt0066808.png', 'tt0066995.png', 'tt0066999.png', 'tt0067023.png', 'tt0067065.png', 'tt0067093.png', 'tt0067185.png', 'tt0067309.png', 'tt0067741.png', 'tt0067756.png', 'tt0067800.png', 'tt0067959.png', 'tt0067992.png', 'tt0068240.png', 'tt0068327.png', 'tt0068473.png', 'tt0068555.png', 'tt0068611.png', 'tt0068699.png', 'tt0068762.png', 'tt0069097.png', 'tt0069280.png', 'tt0069281.png', 'tt0069704.png', 'tt0069762.png', 'tt0069865.png', 'tt0069995.png', 'tt0070016.png', 'tt0070034.png', 'tt0070239.png', 'tt0070328.png', 'tt0070355.png', 'tt0070379.png', 'tt0070511.png', 'tt0070608.png', 'tt0070666.png', 'tt0070698.png', 'tt0071110.png', 'tt0071129.png', 'tt0071230.png', 'tt0071315.png', 'tt0071402.png', 'tt0071455.png', 'tt0071569.png', 'tt0071853.png', 'tt0071994.png', 'tt0072288.png', 'tt0072684.png', 'tt0072890.png', 'tt0073018.png', 'tt0073195.png', 'tt0073440.png', 'tt0073486.png', 'tt0073540.png', 'tt0073812.png', 'tt0074119.png', 'tt0074256.png', 'tt0074285.png', 'tt0074455.png', 'tt0074512.png', 'tt0074860.png', 'tt0074937.png', 'tt0074958.png', 'tt0074991.png', 'tt0075222.png', 'tt0075223.png', 'tt0075261.png', 'tt0075314.png', 'tt0075648.png', 'tt0075860.png', 'tt0076009.png', 'tt0076141.png', 'tt0076451.png', 'tt0076538.png', 'tt0076578.png', 'tt0076636.png', 'tt0076716.png', 'tt0076929.png', 'tt0077235.png', 'tt0077394.png', 'tt0077402.png', 'tt0077405.png', 'tt0077413.png', 'tt0077523.png', 'tt0077572.png', 'tt0077578.png', 'tt0077663.png', 'tt0077742.png', 'tt0077745.png', 'tt0077975.png', 'tt0078087.png', 'tt0078158.png', 'tt0078480.png', 'tt0078721.png', 'tt0078723.png', 'tt0078748.png', 'tt0078754.png', 'tt0078788.png', 'tt0078902.png', 'tt0079116.png']\n",
      "187\n",
      "['tt0023427', 'tt0029583', 'tt0031381', 'tt0032910', 'tt0034492', 'tt0035896', 'tt0040746', 'tt0041716', 'tt0043274', 'tt0043379', 'tt0044926', 'tt0045125', 'tt0045152', 'tt0045810', 'tt0045888', 'tt0045963', 'tt0046183', 'tt0046303', 'tt0046672', 'tt0046912', 'tt0047396', 'tt0047472', 'tt0047673', 'tt0047834', 'tt0047849', 'tt0048545', 'tt0048728', 'tt0049223', 'tt0049261', 'tt0049966', 'tt0050419', 'tt0051459', 'tt0051554', 'tt0051658', 'tt0052357', 'tt0052905', 'tt0052918', 'tt0052948', 'tt0053172', 'tt0053221', 'tt0054047', 'tt0054195', 'tt0054331', 'tt0054494', 'tt0054698', 'tt0054847', 'tt0055257', 'tt0055304', 'tt0055471', 'tt0055614', 'tt0055928', 'tt0056172', 'tt0056264', 'tt0056923', 'tt0057076', 'tt0057197', 'tt0058150', 'tt0058329', 'tt0058385', 'tt0058571', 'tt0058672', 'tt0058777', 'tt0059017', 'tt0059113', 'tt0059125', 'tt0059800', 'tt0060345', 'tt0063442', 'tt0063518', 'tt0063522', 'tt0064276', 'tt0064603', 'tt0064665', 'tt0064782', 'tt0065054', 'tt0065063', 'tt0065088', 'tt0065112', 'tt0065134', 'tt0065207', 'tt0065377', 'tt0065462', 'tt0065724', 'tt0065738', 'tt0066206', 'tt0066214', 'tt0066434', 'tt0066808', 'tt0066995', 'tt0066999', 'tt0067023', 'tt0067065', 'tt0067093', 'tt0067185', 'tt0067309', 'tt0067741', 'tt0067756', 'tt0067800', 'tt0067959', 'tt0067992', 'tt0068240', 'tt0068327', 'tt0068473', 'tt0068555', 'tt0068611', 'tt0068699', 'tt0068762', 'tt0069097', 'tt0069280', 'tt0069281', 'tt0069704', 'tt0069762', 'tt0069865', 'tt0069995', 'tt0070016', 'tt0070034', 'tt0070239', 'tt0070328', 'tt0070355', 'tt0070379', 'tt0070511', 'tt0070608', 'tt0070666', 'tt0070698', 'tt0071110', 'tt0071129', 'tt0071230', 'tt0071315', 'tt0071402', 'tt0071455', 'tt0071569', 'tt0071853', 'tt0071994', 'tt0072288', 'tt0072684', 'tt0072890', 'tt0073018', 'tt0073195', 'tt0073440', 'tt0073486', 'tt0073540', 'tt0073812', 'tt0074119', 'tt0074256', 'tt0074285', 'tt0074455', 'tt0074512', 'tt0074860', 'tt0074937', 'tt0074958', 'tt0074991', 'tt0075222', 'tt0075223', 'tt0075261', 'tt0075314', 'tt0075648', 'tt0075860', 'tt0076009', 'tt0076141', 'tt0076451', 'tt0076538', 'tt0076578', 'tt0076636', 'tt0076716', 'tt0076929', 'tt0077235', 'tt0077394', 'tt0077402', 'tt0077405', 'tt0077413', 'tt0077523', 'tt0077572', 'tt0077578', 'tt0077663', 'tt0077742', 'tt0077745', 'tt0077975', 'tt0078087', 'tt0078158', 'tt0078480', 'tt0078721', 'tt0078723', 'tt0078748', 'tt0078754', 'tt0078788', 'tt0078902', 'tt0079116']\n",
      "187\n"
     ]
    }
   ],
   "source": [
    "stft_files=os.listdir(stft_dir_path)\n",
    "title_list=[]\n",
    "for i in range(len(stft_files)):\n",
    "    title_list.append(os.path.splitext(stft_files[i])[0])\n",
    "print(stft_files)\n",
    "print(len(stft_files))\n",
    "print(title_list)\n",
    "print(len(title_list))"
   ]
  },
  {
   "cell_type": "code",
   "execution_count": 18,
   "metadata": {},
   "outputs": [],
   "source": [
    "# s1_tag_idx.csv 불러오기\n",
    "\n",
    "import pandas as pd\n",
    "df = pd.read_csv('./s1_tag_idx_kor.csv')"
   ]
  },
  {
   "cell_type": "code",
   "execution_count": 19,
   "metadata": {},
   "outputs": [
    {
     "data": {
      "text/plain": [
       "0       tt0023427\n",
       "1       tt0029583\n",
       "2       tt0031381\n",
       "3       tt0032910\n",
       "4       tt0033563\n",
       "          ...    \n",
       "1195    tt0116629\n",
       "1196    tt0116683\n",
       "1197    tt0116695\n",
       "1198    tt0116705\n",
       "1199    tt0116722\n",
       "Name: imdb_id, Length: 1200, dtype: object"
      ]
     },
     "execution_count": 19,
     "metadata": {},
     "output_type": "execute_result"
    }
   ],
   "source": [
    "df['imdb_id']"
   ]
  },
  {
   "cell_type": "code",
   "execution_count": 20,
   "metadata": {},
   "outputs": [],
   "source": [
    "# s1_tag_idx에서 stft로 추출된 파일 목록 행을 추출\n",
    "stft_tag=df.loc[df['imdb_id'].isin(title_list)]"
   ]
  },
  {
   "cell_type": "code",
   "execution_count": 21,
   "metadata": {},
   "outputs": [
    {
     "name": "stdout",
     "output_type": "stream",
     "text": [
      "['tt0023427', 'tt0029583', 'tt0031381', 'tt0032910', 'tt0034492', 'tt0035896', 'tt0040746', 'tt0041716', 'tt0043274', 'tt0043379', 'tt0044926', 'tt0045125', 'tt0045152', 'tt0045810', 'tt0045888', 'tt0045963', 'tt0046183', 'tt0046303', 'tt0046672', 'tt0046912', 'tt0047396', 'tt0047472', 'tt0047673', 'tt0047834', 'tt0047849', 'tt0048545', 'tt0048728', 'tt0049223', 'tt0049261', 'tt0049966', 'tt0050419', 'tt0051459', 'tt0051554', 'tt0051658', 'tt0052357', 'tt0052905', 'tt0052918', 'tt0052948', 'tt0053172', 'tt0053221', 'tt0054047', 'tt0054195', 'tt0054331', 'tt0054494', 'tt0054698', 'tt0054847', 'tt0055257', 'tt0055304', 'tt0055471', 'tt0055614', 'tt0055928', 'tt0056172', 'tt0056264', 'tt0056923', 'tt0057076', 'tt0057197', 'tt0058150', 'tt0058329', 'tt0058385', 'tt0058571', 'tt0058672', 'tt0058777', 'tt0059017', 'tt0059113', 'tt0059125', 'tt0059800', 'tt0060345', 'tt0063442', 'tt0063518', 'tt0063522', 'tt0064276', 'tt0064603', 'tt0064665', 'tt0064782', 'tt0065054', 'tt0065063', 'tt0065088', 'tt0065112', 'tt0065134', 'tt0065207', 'tt0065377', 'tt0065462', 'tt0065724', 'tt0065738', 'tt0066206', 'tt0066214', 'tt0066434', 'tt0066808', 'tt0066995', 'tt0066999', 'tt0067023', 'tt0067065', 'tt0067093', 'tt0067185', 'tt0067309', 'tt0067741', 'tt0067756', 'tt0067800', 'tt0067959', 'tt0067992', 'tt0068240', 'tt0068327', 'tt0068473', 'tt0068555', 'tt0068611', 'tt0068699', 'tt0068762', 'tt0069097', 'tt0069280', 'tt0069281', 'tt0069704', 'tt0069762', 'tt0069865', 'tt0069995', 'tt0070016', 'tt0070034', 'tt0070239', 'tt0070328', 'tt0070355', 'tt0070379', 'tt0070511', 'tt0070608', 'tt0070666', 'tt0070698', 'tt0071110', 'tt0071129', 'tt0071230', 'tt0071315', 'tt0071402', 'tt0071455', 'tt0071569', 'tt0071853', 'tt0071994', 'tt0072288', 'tt0072684', 'tt0072890', 'tt0073018', 'tt0073195', 'tt0073440', 'tt0073486', 'tt0073540', 'tt0073812', 'tt0074119', 'tt0074256', 'tt0074285', 'tt0074455', 'tt0074512', 'tt0074860', 'tt0074937', 'tt0074958', 'tt0074991', 'tt0075222', 'tt0075223', 'tt0075261', 'tt0075314', 'tt0075648', 'tt0075860', 'tt0076009', 'tt0076141', 'tt0076451', 'tt0076538', 'tt0076578', 'tt0076636', 'tt0076716', 'tt0076929', 'tt0077235', 'tt0077394', 'tt0077402', 'tt0077405', 'tt0077413', 'tt0077523', 'tt0077572', 'tt0077578', 'tt0077663', 'tt0077742', 'tt0077745', 'tt0077975', 'tt0078087', 'tt0078158', 'tt0078480', 'tt0078721', 'tt0078723', 'tt0078748', 'tt0078754', 'tt0078788', 'tt0078902', 'tt0079116']\n",
      "[['violence', 'murder'], ['fantasy', 'murder', 'cute', 'good versus evil', 'romantic', 'entertaining'], ['romantic', 'boring', 'historical', 'murder', 'melodrama'], ['cute', 'fantasy', 'entertaining'], ['cute'], ['violence', 'murder'], ['murder', 'cult', 'atmospheric', 'philosophical', 'suspenseful', 'storytelling'], ['romantic'], ['fantasy', 'whimsical', 'cute', 'alternate reality', 'psychedelic', 'entertaining'], ['violence', 'action', 'historical fiction'], ['romantic'], ['revenge', 'action', 'murder'], ['comedy', 'boring', 'flashback', 'satire', 'romantic', 'historical'], ['romantic', 'satire'], ['revenge', 'murder'], ['romantic'], ['good versus evil', 'psychedelic', 'fantasy', 'action', 'entertaining'], ['revenge', 'murder', 'violence', 'melodrama'], ['sci-fi'], ['suspenseful', 'murder', 'claustrophobic'], ['mystery', 'suspenseful', 'horror', 'murder', 'claustrophobic'], ['romantic'], ['romantic'], ['allegory', 'psychedelic', 'satire', 'murder'], ['cult', 'murder'], ['cult', 'violence', 'romantic'], ['murder', 'atmospheric'], ['comedy', 'psychological', 'murder', 'cult', 'psychedelic', 'suspenseful', 'sci-fi'], ['romantic', 'depressing', 'realism', 'melodrama'], ['melodrama', 'revenge', 'psychedelic', 'romantic', 'flashback'], ['philosophical'], ['sentimental'], ['gothic', 'paranormal', 'cult', 'violence', 'good versus evil', 'suspenseful'], ['romantic'], ['mystery', 'murder', 'cult', 'atmospheric', 'flashback', 'psychedelic', 'romantic', 'plot twist'], ['gothic', 'murder', 'atmospheric'], ['melodrama'], ['murder'], ['romantic', 'comedy'], ['good versus evil', 'cult', 'suspenseful', 'psychedelic', 'humor'], ['revenge', 'cult', 'murder', 'violence'], ['romantic'], ['tragedy', 'romantic', 'historical', 'murder', 'violence'], ['absurd', 'psychedelic'], ['cult', 'psychedelic', 'humor', 'satire', 'melodrama', 'romantic', 'sentimental'], ['violence'], ['revenge', 'cult'], ['insanity', 'cult', 'gothic', 'murder', 'flashback'], ['romantic', 'melodrama'], ['tragedy', 'revenge', 'murder', 'romantic', 'entertaining'], ['good versus evil', 'cult', 'murder'], ['murder', 'cult', 'violence', 'atmospheric', 'flashback', 'insanity', 'historical'], ['action'], ['romantic', 'humor', 'murder'], ['cult', 'murder'], ['cult', 'murder'], ['suspenseful', 'murder', 'cult', 'action', 'humor', 'revenge'], ['melodrama', 'romantic', 'psychological', 'murder', 'flashback'], ['romantic', 'entertaining', 'clever'], ['romantic'], ['suspenseful', 'intrigue'], ['cult', 'historical'], ['revenge'], ['avant garde', 'murder', 'atmospheric', 'romantic', 'revenge', 'historical'], ['revenge'], ['cult', 'humor', 'murder', 'suspenseful'], ['cult', 'fantasy', 'psychedelic', 'entertaining', 'humor'], ['murder', 'allegory', 'dramatic', 'cult', 'violence', 'satire', 'suspenseful'], ['murder', 'cult', 'action', 'romantic', 'tragedy', 'revenge'], ['murder', 'horror', 'atmospheric', 'good versus evil', 'psychedelic', 'suspenseful'], ['comedy', 'avant garde', 'dark', 'murder', 'realism', 'cult', 'atmospheric', 'psychedelic', 'humor', 'satire'], ['cult'], ['tragedy', 'psychedelic', 'humor', 'realism', 'flashback'], ['cult', 'comedy'], ['tragedy'], ['comedy', 'satire', 'entertaining'], ['depressing', 'flashback'], ['suspenseful', 'intrigue', 'murder'], ['cult', 'avant garde', 'murder', 'violence'], ['plot twist', 'violence', 'romantic', 'flashback'], ['cult', 'suspenseful', 'melodrama'], ['murder', 'allegory', 'anti war', 'violence', 'cult', 'flashback', 'good versus evil', 'action', 'satire', 'suspenseful'], ['cult', 'romantic'], ['insanity', 'gothic', 'murder'], ['violence', 'boring', 'historical'], ['mystery', 'murder', 'cult', 'violence', 'atmospheric', 'psychedelic'], ['avant garde', 'suspenseful', 'murder', 'neo noir', 'psychological', 'cult', 'psychedelic', 'romantic', 'sci-fi'], ['cult', 'comedy', 'satire'], ['cult', 'revenge', 'murder'], ['dark', 'suspenseful', 'cruelty', 'murder', 'neo noir', 'realism', 'cult', 'violence', 'good versus evil', 'revenge', 'sadist'], ['mystery', 'cult', 'comedy', 'suspenseful'], ['alternate history', 'murder', 'flashback'], ['avant garde', 'flashback'], ['comedy', 'dark', 'cute', 'cult', 'psychedelic', 'humor'], ['murder', 'mystery', 'neo noir', 'storytelling', 'sadist'], ['grindhouse film', 'murder', 'cult', 'violence', 'atmospheric', 'suspenseful', 'blaxploitation'], ['comedy', 'murder', 'cult', 'atmospheric', 'flashback', 'psychedelic', 'claustrophobic', 'inspiring'], ['suspenseful', 'cruelty', 'murder', 'cult', 'violence', 'flashback', 'revenge', 'sadist'], ['insanity', 'mystery', 'storytelling', 'flashback'], ['boring', 'fantasy', 'whimsical', 'cute', 'cult', 'psychedelic', 'entertaining'], ['murder'], ['romantic', 'depressing', 'historical', 'queer'], ['mystery', 'psychological', 'realism', 'murder', 'cult', 'violence', 'suspenseful'], ['pornographic', 'psychedelic', 'humor', 'satire'], ['murder', 'cult', 'revenge', 'horror', 'flashback', 'suspenseful', 'sadist'], ['dark', 'suspenseful', 'mystery', 'murder', 'bleak', 'western', 'violence', 'cult', 'flashback', 'psychedelic', 'revenge'], ['bleak', 'realism', 'revenge', 'murder', 'atmospheric'], ['psychedelic', 'satire', 'romantic'], ['boring', 'murder', 'flashback', 'insanity', 'absurd', 'psychedelic', 'revenge', 'storytelling'], ['mystery', 'psychological', 'murder', 'cult', 'revenge', 'suspenseful'], ['cult', 'romantic', 'prank'], ['bleak', 'atmospheric', 'cult', 'murder', 'violence'], ['realism', 'cult', 'suspenseful', 'neo noir', 'murder'], ['gothic', 'paranormal', 'cult', 'atmospheric', 'flashback', 'psychedelic', 'suspenseful'], ['romantic', 'cute', 'sentimental'], ['suspenseful', 'murder', 'cult', 'violence', 'flashback', 'good versus evil', 'revenge'], ['psychedelic', 'boring'], ['paranormal', 'blaxploitation', 'cult', 'murder', 'violence'], ['cult', 'murder', 'violence'], ['cult', 'comedy', 'neo noir', 'murder', 'violence'], ['violence', 'cult', 'boring', 'romantic'], ['good versus evil', 'action'], ['dark', 'neo noir', 'violence', 'atmospheric', 'flashback', 'romantic'], ['avant garde', 'murder', 'paranormal', 'cult', 'good versus evil', 'insanity', 'satire', 'claustrophobic'], ['suspenseful'], ['cult', 'flashback', 'psychedelic', 'humor', 'satire', 'prank'], ['comedy', 'cult', 'flashback', 'good versus evil', 'absurd', 'satire', 'comic', 'entertaining'], ['comedy', 'dark', 'depressing', 'murder', 'neo noir', 'mystery', 'bleak', 'cult', 'violence', 'plot twist', 'atmospheric', 'humor', 'suspenseful'], ['revenge', 'cult', 'neo noir', 'murder', 'violence'], ['comedy', 'suspenseful', 'murder', 'cult', 'melodrama', 'revenge'], ['good versus evil', 'cult', 'action'], ['comedy', 'murder', 'cult', 'violence', 'psychedelic', 'absurd', 'satire', 'humor', 'entertaining'], ['dark', 'comedy', 'cruelty', 'gothic', 'murder', 'cult', 'violence', 'tragedy', 'revenge'], ['violence', 'comedy'], ['boring', 'cruelty', 'atmospheric', 'melodrama'], ['comedy', 'atmospheric'], ['neo noir'], ['horror', 'cult', 'suspenseful', 'violence', 'prank'], ['tragedy', 'humor', 'satire', 'atmospheric'], ['psychological', 'depressing', 'dramatic', 'cult', 'violence', 'insanity', 'satire', 'claustrophobic', 'sadist', 'sentimental'], ['mystery', 'historical', 'boring', 'flashback'], ['cult', 'humor', 'psychedelic', 'murder', 'boring'], ['inspiring', 'suspenseful', 'mystery', 'historical', 'dramatic'], ['depressing', 'comic', 'flashback'], ['comedy', 'fantasy', 'cruelty', 'suspenseful', 'gothic', 'murder', 'paranormal', 'dark', 'cult', 'violence', 'horror', 'atmospheric', 'insanity', 'romantic', 'tragedy', 'revenge', 'sadist', 'prank'], ['grindhouse film', 'murder', 'cult', 'horror', 'violence', 'insanity'], ['paranormal', 'suspenseful', 'murder'], ['suspenseful', 'murder', 'violence', 'horror', 'flashback', 'revenge'], ['mystery', 'murder'], ['comedy', 'avant garde', 'murder', 'dramatic', 'suicidal', 'atmospheric', 'insanity', 'humor', 'satire', 'brainwashing'], ['violence', 'neo noir', 'flashback'], ['comedy'], ['cult', 'comedy', 'murder', 'violence'], ['murder'], ['dark', 'psychological', 'neo noir', 'murder', 'boring', 'cult', 'violence', 'atmospheric', 'insanity', 'romantic', 'revenge'], ['suspenseful', 'murder'], ['mystery', 'dramatic', 'humor'], ['cult'], ['paranormal', 'murder'], ['romantic'], ['action', 'entertaining', 'boring'], ['boring', 'entertaining'], ['suspenseful', 'comedy', 'murder'], ['good versus evil', 'revenge', 'cult'], ['fantasy', 'violence', 'cult', 'good versus evil', 'psychedelic', 'absurd', 'satire', 'romantic'], ['cult', 'philosophical'], ['good versus evil', 'violence', 'gothic', 'murder'], ['comedy', 'suspenseful', 'grindhouse film', 'murder', 'cult', 'horror', 'violence', 'good versus evil', 'absurd', 'action', 'satire', 'claustrophobic', 'revenge', 'entertaining', 'sadist'], ['tragedy', 'boring', 'murder', 'atmospheric'], ['mystery', 'murder'], ['comedy', 'violence', 'prank'], ['psychedelic'], ['murder'], ['murder'], ['depressing'], ['horror', 'violence', 'humor', 'murder', 'flashback'], ['comedy', 'cult', 'satire', 'revenge', 'entertaining', 'prank'], ['tragedy', 'cult', 'comedy', 'violence'], ['paranormal', 'brainwashing'], ['allegory', 'violence', 'cult', 'atmospheric', 'psychedelic', 'romantic'], ['romantic'], ['absurd', 'cult', 'psychedelic', 'satire'], ['dark', 'boring', 'gothic', 'murder', 'mystery', 'cult', 'violence', 'horror', 'atmospheric', 'action', 'claustrophobic', 'suspenseful', 'sci-fi'], ['tragedy', 'comedy', 'flashback'], ['dark', 'boring', 'psychological', 'allegory', 'cult', 'violence', 'anti war', 'dramatic', 'insanity', 'psychedelic', 'action', 'suspenseful'], ['inspiring', 'prank'], ['suspenseful', 'violence']]\n"
     ]
    }
   ],
   "source": [
    "stft_title_list=stft_tag['imdb_id'].to_list()\n",
    "print(stft_title_list)\n",
    "tag_list=[]\n",
    "for i in range(len(stft_title_list)):\n",
    "    tag_list.append(stft_tag['tags_idx'].to_list()[i].split(';'))\n",
    "\n",
    "print(tag_list)\n"
   ]
  },
  {
   "cell_type": "code",
   "execution_count": 22,
   "metadata": {},
   "outputs": [
    {
     "name": "stdout",
     "output_type": "stream",
     "text": [
      "[{'image_name': 'tt0023427', 'image_labels': ['violence', 'murder']}, {'image_name': 'tt0029583', 'image_labels': ['fantasy', 'murder', 'cute', 'good versus evil', 'romantic', 'entertaining']}, {'image_name': 'tt0031381', 'image_labels': ['romantic', 'boring', 'historical', 'murder', 'melodrama']}, {'image_name': 'tt0032910', 'image_labels': ['cute', 'fantasy', 'entertaining']}, {'image_name': 'tt0034492', 'image_labels': ['cute']}, {'image_name': 'tt0035896', 'image_labels': ['violence', 'murder']}, {'image_name': 'tt0040746', 'image_labels': ['murder', 'cult', 'atmospheric', 'philosophical', 'suspenseful', 'storytelling']}, {'image_name': 'tt0041716', 'image_labels': ['romantic']}, {'image_name': 'tt0043274', 'image_labels': ['fantasy', 'whimsical', 'cute', 'alternate reality', 'psychedelic', 'entertaining']}, {'image_name': 'tt0043379', 'image_labels': ['violence', 'action', 'historical fiction']}, {'image_name': 'tt0044926', 'image_labels': ['romantic']}, {'image_name': 'tt0045125', 'image_labels': ['revenge', 'action', 'murder']}, {'image_name': 'tt0045152', 'image_labels': ['comedy', 'boring', 'flashback', 'satire', 'romantic', 'historical']}, {'image_name': 'tt0045810', 'image_labels': ['romantic', 'satire']}, {'image_name': 'tt0045888', 'image_labels': ['revenge', 'murder']}, {'image_name': 'tt0045963', 'image_labels': ['romantic']}, {'image_name': 'tt0046183', 'image_labels': ['good versus evil', 'psychedelic', 'fantasy', 'action', 'entertaining']}, {'image_name': 'tt0046303', 'image_labels': ['revenge', 'murder', 'violence', 'melodrama']}, {'image_name': 'tt0046672', 'image_labels': ['sci-fi']}, {'image_name': 'tt0046912', 'image_labels': ['suspenseful', 'murder', 'claustrophobic']}, {'image_name': 'tt0047396', 'image_labels': ['mystery', 'suspenseful', 'horror', 'murder', 'claustrophobic']}, {'image_name': 'tt0047472', 'image_labels': ['romantic']}, {'image_name': 'tt0047673', 'image_labels': ['romantic']}, {'image_name': 'tt0047834', 'image_labels': ['allegory', 'psychedelic', 'satire', 'murder']}, {'image_name': 'tt0047849', 'image_labels': ['cult', 'murder']}, {'image_name': 'tt0048545', 'image_labels': ['cult', 'violence', 'romantic']}, {'image_name': 'tt0048728', 'image_labels': ['murder', 'atmospheric']}, {'image_name': 'tt0049223', 'image_labels': ['comedy', 'psychological', 'murder', 'cult', 'psychedelic', 'suspenseful', 'sci-fi']}, {'image_name': 'tt0049261', 'image_labels': ['romantic', 'depressing', 'realism', 'melodrama']}, {'image_name': 'tt0049966', 'image_labels': ['melodrama', 'revenge', 'psychedelic', 'romantic', 'flashback']}, {'image_name': 'tt0050419', 'image_labels': ['philosophical']}, {'image_name': 'tt0051459', 'image_labels': ['sentimental']}, {'image_name': 'tt0051554', 'image_labels': ['gothic', 'paranormal', 'cult', 'violence', 'good versus evil', 'suspenseful']}, {'image_name': 'tt0051658', 'image_labels': ['romantic']}, {'image_name': 'tt0052357', 'image_labels': ['mystery', 'murder', 'cult', 'atmospheric', 'flashback', 'psychedelic', 'romantic', 'plot twist']}, {'image_name': 'tt0052905', 'image_labels': ['gothic', 'murder', 'atmospheric']}, {'image_name': 'tt0052918', 'image_labels': ['melodrama']}, {'image_name': 'tt0052948', 'image_labels': ['murder']}, {'image_name': 'tt0053172', 'image_labels': ['romantic', 'comedy']}, {'image_name': 'tt0053221', 'image_labels': ['good versus evil', 'cult', 'suspenseful', 'psychedelic', 'humor']}, {'image_name': 'tt0054047', 'image_labels': ['revenge', 'cult', 'murder', 'violence']}, {'image_name': 'tt0054195', 'image_labels': ['romantic']}, {'image_name': 'tt0054331', 'image_labels': ['tragedy', 'romantic', 'historical', 'murder', 'violence']}, {'image_name': 'tt0054494', 'image_labels': ['absurd', 'psychedelic']}, {'image_name': 'tt0054698', 'image_labels': ['cult', 'psychedelic', 'humor', 'satire', 'melodrama', 'romantic', 'sentimental']}, {'image_name': 'tt0054847', 'image_labels': ['violence']}, {'image_name': 'tt0055257', 'image_labels': ['revenge', 'cult']}, {'image_name': 'tt0055304', 'image_labels': ['insanity', 'cult', 'gothic', 'murder', 'flashback']}, {'image_name': 'tt0055471', 'image_labels': ['romantic', 'melodrama']}, {'image_name': 'tt0055614', 'image_labels': ['tragedy', 'revenge', 'murder', 'romantic', 'entertaining']}, {'image_name': 'tt0055928', 'image_labels': ['good versus evil', 'cult', 'murder']}, {'image_name': 'tt0056172', 'image_labels': ['murder', 'cult', 'violence', 'atmospheric', 'flashback', 'insanity', 'historical']}, {'image_name': 'tt0056264', 'image_labels': ['action']}, {'image_name': 'tt0056923', 'image_labels': ['romantic', 'humor', 'murder']}, {'image_name': 'tt0057076', 'image_labels': ['cult', 'murder']}, {'image_name': 'tt0057197', 'image_labels': ['cult', 'murder']}, {'image_name': 'tt0058150', 'image_labels': ['suspenseful', 'murder', 'cult', 'action', 'humor', 'revenge']}, {'image_name': 'tt0058329', 'image_labels': ['melodrama', 'romantic', 'psychological', 'murder', 'flashback']}, {'image_name': 'tt0058385', 'image_labels': ['romantic', 'entertaining', 'clever']}, {'image_name': 'tt0058571', 'image_labels': ['romantic']}, {'image_name': 'tt0058672', 'image_labels': ['suspenseful', 'intrigue']}, {'image_name': 'tt0058777', 'image_labels': ['cult', 'historical']}, {'image_name': 'tt0059017', 'image_labels': ['revenge']}, {'image_name': 'tt0059113', 'image_labels': ['avant garde', 'murder', 'atmospheric', 'romantic', 'revenge', 'historical']}, {'image_name': 'tt0059125', 'image_labels': ['revenge']}, {'image_name': 'tt0059800', 'image_labels': ['cult', 'humor', 'murder', 'suspenseful']}, {'image_name': 'tt0060345', 'image_labels': ['cult', 'fantasy', 'psychedelic', 'entertaining', 'humor']}, {'image_name': 'tt0063442', 'image_labels': ['murder', 'allegory', 'dramatic', 'cult', 'violence', 'satire', 'suspenseful']}, {'image_name': 'tt0063518', 'image_labels': ['murder', 'cult', 'action', 'romantic', 'tragedy', 'revenge']}, {'image_name': 'tt0063522', 'image_labels': ['murder', 'horror', 'atmospheric', 'good versus evil', 'psychedelic', 'suspenseful']}, {'image_name': 'tt0064276', 'image_labels': ['comedy', 'avant garde', 'dark', 'murder', 'realism', 'cult', 'atmospheric', 'psychedelic', 'humor', 'satire']}, {'image_name': 'tt0064603', 'image_labels': ['cult']}, {'image_name': 'tt0064665', 'image_labels': ['tragedy', 'psychedelic', 'humor', 'realism', 'flashback']}, {'image_name': 'tt0064782', 'image_labels': ['cult', 'comedy']}, {'image_name': 'tt0065054', 'image_labels': ['tragedy']}, {'image_name': 'tt0065063', 'image_labels': ['comedy', 'satire', 'entertaining']}, {'image_name': 'tt0065088', 'image_labels': ['depressing', 'flashback']}, {'image_name': 'tt0065112', 'image_labels': ['suspenseful', 'intrigue', 'murder']}, {'image_name': 'tt0065134', 'image_labels': ['cult', 'avant garde', 'murder', 'violence']}, {'image_name': 'tt0065207', 'image_labels': ['plot twist', 'violence', 'romantic', 'flashback']}, {'image_name': 'tt0065377', 'image_labels': ['cult', 'suspenseful', 'melodrama']}, {'image_name': 'tt0065462', 'image_labels': ['murder', 'allegory', 'anti war', 'violence', 'cult', 'flashback', 'good versus evil', 'action', 'satire', 'suspenseful']}, {'image_name': 'tt0065724', 'image_labels': ['cult', 'romantic']}, {'image_name': 'tt0065738', 'image_labels': ['insanity', 'gothic', 'murder']}, {'image_name': 'tt0066206', 'image_labels': ['violence', 'boring', 'historical']}, {'image_name': 'tt0066214', 'image_labels': ['mystery', 'murder', 'cult', 'violence', 'atmospheric', 'psychedelic']}, {'image_name': 'tt0066434', 'image_labels': ['avant garde', 'suspenseful', 'murder', 'neo noir', 'psychological', 'cult', 'psychedelic', 'romantic', 'sci-fi']}, {'image_name': 'tt0066808', 'image_labels': ['cult', 'comedy', 'satire']}, {'image_name': 'tt0066995', 'image_labels': ['cult', 'revenge', 'murder']}, {'image_name': 'tt0066999', 'image_labels': ['dark', 'suspenseful', 'cruelty', 'murder', 'neo noir', 'realism', 'cult', 'violence', 'good versus evil', 'revenge', 'sadist']}, {'image_name': 'tt0067023', 'image_labels': ['mystery', 'cult', 'comedy', 'suspenseful']}, {'image_name': 'tt0067065', 'image_labels': ['alternate history', 'murder', 'flashback']}, {'image_name': 'tt0067093', 'image_labels': ['avant garde', 'flashback']}, {'image_name': 'tt0067185', 'image_labels': ['comedy', 'dark', 'cute', 'cult', 'psychedelic', 'humor']}, {'image_name': 'tt0067309', 'image_labels': ['murder', 'mystery', 'neo noir', 'storytelling', 'sadist']}, {'image_name': 'tt0067741', 'image_labels': ['grindhouse film', 'murder', 'cult', 'violence', 'atmospheric', 'suspenseful', 'blaxploitation']}, {'image_name': 'tt0067756', 'image_labels': ['comedy', 'murder', 'cult', 'atmospheric', 'flashback', 'psychedelic', 'claustrophobic', 'inspiring']}, {'image_name': 'tt0067800', 'image_labels': ['suspenseful', 'cruelty', 'murder', 'cult', 'violence', 'flashback', 'revenge', 'sadist']}, {'image_name': 'tt0067959', 'image_labels': ['insanity', 'mystery', 'storytelling', 'flashback']}, {'image_name': 'tt0067992', 'image_labels': ['boring', 'fantasy', 'whimsical', 'cute', 'cult', 'psychedelic', 'entertaining']}, {'image_name': 'tt0068240', 'image_labels': ['murder']}, {'image_name': 'tt0068327', 'image_labels': ['romantic', 'depressing', 'historical', 'queer']}, {'image_name': 'tt0068473', 'image_labels': ['mystery', 'psychological', 'realism', 'murder', 'cult', 'violence', 'suspenseful']}, {'image_name': 'tt0068555', 'image_labels': ['pornographic', 'psychedelic', 'humor', 'satire']}, {'image_name': 'tt0068611', 'image_labels': ['murder', 'cult', 'revenge', 'horror', 'flashback', 'suspenseful', 'sadist']}, {'image_name': 'tt0068699', 'image_labels': ['dark', 'suspenseful', 'mystery', 'murder', 'bleak', 'western', 'violence', 'cult', 'flashback', 'psychedelic', 'revenge']}, {'image_name': 'tt0068762', 'image_labels': ['bleak', 'realism', 'revenge', 'murder', 'atmospheric']}, {'image_name': 'tt0069097', 'image_labels': ['psychedelic', 'satire', 'romantic']}, {'image_name': 'tt0069280', 'image_labels': ['boring', 'murder', 'flashback', 'insanity', 'absurd', 'psychedelic', 'revenge', 'storytelling']}, {'image_name': 'tt0069281', 'image_labels': ['mystery', 'psychological', 'murder', 'cult', 'revenge', 'suspenseful']}, {'image_name': 'tt0069704', 'image_labels': ['cult', 'romantic', 'prank']}, {'image_name': 'tt0069762', 'image_labels': ['bleak', 'atmospheric', 'cult', 'murder', 'violence']}, {'image_name': 'tt0069865', 'image_labels': ['realism', 'cult', 'suspenseful', 'neo noir', 'murder']}, {'image_name': 'tt0069995', 'image_labels': ['gothic', 'paranormal', 'cult', 'atmospheric', 'flashback', 'psychedelic', 'suspenseful']}, {'image_name': 'tt0070016', 'image_labels': ['romantic', 'cute', 'sentimental']}, {'image_name': 'tt0070034', 'image_labels': ['suspenseful', 'murder', 'cult', 'violence', 'flashback', 'good versus evil', 'revenge']}, {'image_name': 'tt0070239', 'image_labels': ['psychedelic', 'boring']}, {'image_name': 'tt0070328', 'image_labels': ['paranormal', 'blaxploitation', 'cult', 'murder', 'violence']}, {'image_name': 'tt0070355', 'image_labels': ['cult', 'murder', 'violence']}, {'image_name': 'tt0070379', 'image_labels': ['cult', 'comedy', 'neo noir', 'murder', 'violence']}, {'image_name': 'tt0070511', 'image_labels': ['violence', 'cult', 'boring', 'romantic']}, {'image_name': 'tt0070608', 'image_labels': ['good versus evil', 'action']}, {'image_name': 'tt0070666', 'image_labels': ['dark', 'neo noir', 'violence', 'atmospheric', 'flashback', 'romantic']}, {'image_name': 'tt0070698', 'image_labels': ['avant garde', 'murder', 'paranormal', 'cult', 'good versus evil', 'insanity', 'satire', 'claustrophobic']}, {'image_name': 'tt0071110', 'image_labels': ['suspenseful']}, {'image_name': 'tt0071129', 'image_labels': ['cult', 'flashback', 'psychedelic', 'humor', 'satire', 'prank']}, {'image_name': 'tt0071230', 'image_labels': ['comedy', 'cult', 'flashback', 'good versus evil', 'absurd', 'satire', 'comic', 'entertaining']}, {'image_name': 'tt0071315', 'image_labels': ['comedy', 'dark', 'depressing', 'murder', 'neo noir', 'mystery', 'bleak', 'cult', 'violence', 'plot twist', 'atmospheric', 'humor', 'suspenseful']}, {'image_name': 'tt0071402', 'image_labels': ['revenge', 'cult', 'neo noir', 'murder', 'violence']}, {'image_name': 'tt0071455', 'image_labels': ['comedy', 'suspenseful', 'murder', 'cult', 'melodrama', 'revenge']}, {'image_name': 'tt0071569', 'image_labels': ['good versus evil', 'cult', 'action']}, {'image_name': 'tt0071853', 'image_labels': ['comedy', 'murder', 'cult', 'violence', 'psychedelic', 'absurd', 'satire', 'humor', 'entertaining']}, {'image_name': 'tt0071994', 'image_labels': ['dark', 'comedy', 'cruelty', 'gothic', 'murder', 'cult', 'violence', 'tragedy', 'revenge']}, {'image_name': 'tt0072288', 'image_labels': ['violence', 'comedy']}, {'image_name': 'tt0072684', 'image_labels': ['boring', 'cruelty', 'atmospheric', 'melodrama']}, {'image_name': 'tt0072890', 'image_labels': ['comedy', 'atmospheric']}, {'image_name': 'tt0073018', 'image_labels': ['neo noir']}, {'image_name': 'tt0073195', 'image_labels': ['horror', 'cult', 'suspenseful', 'violence', 'prank']}, {'image_name': 'tt0073440', 'image_labels': ['tragedy', 'humor', 'satire', 'atmospheric']}, {'image_name': 'tt0073486', 'image_labels': ['psychological', 'depressing', 'dramatic', 'cult', 'violence', 'insanity', 'satire', 'claustrophobic', 'sadist', 'sentimental']}, {'image_name': 'tt0073540', 'image_labels': ['mystery', 'historical', 'boring', 'flashback']}, {'image_name': 'tt0073812', 'image_labels': ['cult', 'humor', 'psychedelic', 'murder', 'boring']}, {'image_name': 'tt0074119', 'image_labels': ['inspiring', 'suspenseful', 'mystery', 'historical', 'dramatic']}, {'image_name': 'tt0074256', 'image_labels': ['depressing', 'comic', 'flashback']}, {'image_name': 'tt0074285', 'image_labels': ['comedy', 'fantasy', 'cruelty', 'suspenseful', 'gothic', 'murder', 'paranormal', 'dark', 'cult', 'violence', 'horror', 'atmospheric', 'insanity', 'romantic', 'tragedy', 'revenge', 'sadist', 'prank']}, {'image_name': 'tt0074455', 'image_labels': ['grindhouse film', 'murder', 'cult', 'horror', 'violence', 'insanity']}, {'image_name': 'tt0074512', 'image_labels': ['paranormal', 'suspenseful', 'murder']}, {'image_name': 'tt0074860', 'image_labels': ['suspenseful', 'murder', 'violence', 'horror', 'flashback', 'revenge']}, {'image_name': 'tt0074937', 'image_labels': ['mystery', 'murder']}, {'image_name': 'tt0074958', 'image_labels': ['comedy', 'avant garde', 'murder', 'dramatic', 'suicidal', 'atmospheric', 'insanity', 'humor', 'satire', 'brainwashing']}, {'image_name': 'tt0074991', 'image_labels': ['violence', 'neo noir', 'flashback']}, {'image_name': 'tt0075222', 'image_labels': ['comedy']}, {'image_name': 'tt0075223', 'image_labels': ['cult', 'comedy', 'murder', 'violence']}, {'image_name': 'tt0075261', 'image_labels': ['murder']}, {'image_name': 'tt0075314', 'image_labels': ['dark', 'psychological', 'neo noir', 'murder', 'boring', 'cult', 'violence', 'atmospheric', 'insanity', 'romantic', 'revenge']}, {'image_name': 'tt0075648', 'image_labels': ['suspenseful', 'murder']}, {'image_name': 'tt0075860', 'image_labels': ['mystery', 'dramatic', 'humor']}, {'image_name': 'tt0076009', 'image_labels': ['cult']}, {'image_name': 'tt0076141', 'image_labels': ['paranormal', 'murder']}, {'image_name': 'tt0076451', 'image_labels': ['romantic']}, {'image_name': 'tt0076538', 'image_labels': ['action', 'entertaining', 'boring']}, {'image_name': 'tt0076578', 'image_labels': ['boring', 'entertaining']}, {'image_name': 'tt0076636', 'image_labels': ['suspenseful', 'comedy', 'murder']}, {'image_name': 'tt0076716', 'image_labels': ['good versus evil', 'revenge', 'cult']}, {'image_name': 'tt0076929', 'image_labels': ['fantasy', 'violence', 'cult', 'good versus evil', 'psychedelic', 'absurd', 'satire', 'romantic']}, {'image_name': 'tt0077235', 'image_labels': ['cult', 'philosophical']}, {'image_name': 'tt0077394', 'image_labels': ['good versus evil', 'violence', 'gothic', 'murder']}, {'image_name': 'tt0077402', 'image_labels': ['comedy', 'suspenseful', 'grindhouse film', 'murder', 'cult', 'horror', 'violence', 'good versus evil', 'absurd', 'action', 'satire', 'claustrophobic', 'revenge', 'entertaining', 'sadist']}, {'image_name': 'tt0077405', 'image_labels': ['tragedy', 'boring', 'murder', 'atmospheric']}, {'image_name': 'tt0077413', 'image_labels': ['mystery', 'murder']}, {'image_name': 'tt0077523', 'image_labels': ['comedy', 'violence', 'prank']}, {'image_name': 'tt0077572', 'image_labels': ['psychedelic']}, {'image_name': 'tt0077578', 'image_labels': ['murder']}, {'image_name': 'tt0077663', 'image_labels': ['murder']}, {'image_name': 'tt0077742', 'image_labels': ['depressing']}, {'image_name': 'tt0077745', 'image_labels': ['horror', 'violence', 'humor', 'murder', 'flashback']}, {'image_name': 'tt0077975', 'image_labels': ['comedy', 'cult', 'satire', 'revenge', 'entertaining', 'prank']}, {'image_name': 'tt0078087', 'image_labels': ['tragedy', 'cult', 'comedy', 'violence']}, {'image_name': 'tt0078158', 'image_labels': ['paranormal', 'brainwashing']}, {'image_name': 'tt0078480', 'image_labels': ['allegory', 'violence', 'cult', 'atmospheric', 'psychedelic', 'romantic']}, {'image_name': 'tt0078721', 'image_labels': ['romantic']}, {'image_name': 'tt0078723', 'image_labels': ['absurd', 'cult', 'psychedelic', 'satire']}, {'image_name': 'tt0078748', 'image_labels': ['dark', 'boring', 'gothic', 'murder', 'mystery', 'cult', 'violence', 'horror', 'atmospheric', 'action', 'claustrophobic', 'suspenseful', 'sci-fi']}, {'image_name': 'tt0078754', 'image_labels': ['tragedy', 'comedy', 'flashback']}, {'image_name': 'tt0078788', 'image_labels': ['dark', 'boring', 'psychological', 'allegory', 'cult', 'violence', 'anti war', 'dramatic', 'insanity', 'psychedelic', 'action', 'suspenseful']}, {'image_name': 'tt0078902', 'image_labels': ['inspiring', 'prank']}, {'image_name': 'tt0079116', 'image_labels': ['suspenseful', 'violence']}]\n",
      "187\n"
     ]
    }
   ],
   "source": [
    "item_list=[]\n",
    "for i in range(len(tag_list)):\n",
    "      item={'image_name': stft_title_list[i],\n",
    "            'image_labels': tag_list[i]}\n",
    "      item_list.append(item)\n",
    "print(item_list)\n",
    "print(len(item_list))"
   ]
  },
  {
   "cell_type": "code",
   "execution_count": 23,
   "metadata": {},
   "outputs": [
    {
     "name": "stdout",
     "output_type": "stream",
     "text": [
      "                 Tag\n",
      "0             murder\n",
      "1           violence\n",
      "2          flashback\n",
      "3           romantic\n",
      "4               cult\n",
      "..               ...\n",
      "66   magical realism\n",
      "67          suicidal\n",
      "68  autobiographical\n",
      "69    christian film\n",
      "70       non fiction\n",
      "\n",
      "[71 rows x 1 columns]\n",
      "['murder', 'violence', 'flashback', 'romantic', 'cult', 'revenge', 'psychedelic', 'comedy', 'suspenseful', 'good versus evil', 'humor', 'satire', 'entertaining', 'neo noir', 'action', 'sadist', 'insanity', 'tragedy', 'fantasy', 'paranormal', 'boring', 'mystery', 'horror', 'melodrama', 'cruelty', 'gothic', 'dramatic', 'dark', 'atmospheric', 'storytelling', 'sci-fi', 'psychological', 'historical', 'absurd', 'prank', 'sentimental', 'philosophical', 'avant garde', 'bleak', 'alternate reality', 'depressing', 'plot twist', 'realism', 'cute', 'stupid', 'intrigue', 'pornographic', 'home movie', 'haunting', 'historical fiction', 'allegory', 'adult comedy', 'thought-provoking', 'inspiring', 'anti war', 'comic', 'brainwashing', 'alternate history', 'queer', 'clever', 'claustrophobic', 'whimsical', 'feel-good', 'blaxploitation', 'western', 'grindhouse film', 'magical realism', 'suicidal', 'autobiographical', 'christian film', 'non fiction']\n"
     ]
    }
   ],
   "source": [
    "df2 = pd.read_csv('./tag_list.csv')\n",
    "print(df2)\n",
    "tag_list=df2['Tag'].to_list()\n",
    "print(tag_list)"
   ]
  },
  {
   "cell_type": "code",
   "execution_count": 24,
   "metadata": {},
   "outputs": [],
   "source": [
    "img_path=r'C:\\Users\\NGN\\dev\\automatic_movie_tagging\\dataset'"
   ]
  },
  {
   "cell_type": "code",
   "execution_count": 25,
   "metadata": {},
   "outputs": [],
   "source": [
    "import json\n",
    "with open(os.path.join(img_path, sel_type+'.json'), 'w') as fp:\n",
    "    json.dump({'samples': item_list, 'labels': tag_list}, fp, indent=3)"
   ]
  },
  {
   "cell_type": "code",
   "execution_count": null,
   "metadata": {},
   "outputs": [],
   "source": []
  }
 ],
 "metadata": {
  "kernelspec": {
   "display_name": "Movie_Tagging",
   "language": "python",
   "name": "python3"
  },
  "language_info": {
   "codemirror_mode": {
    "name": "ipython",
    "version": 3
   },
   "file_extension": ".py",
   "mimetype": "text/x-python",
   "name": "python",
   "nbconvert_exporter": "python",
   "pygments_lexer": "ipython3",
   "version": "3.7.16"
  }
 },
 "nbformat": 4,
 "nbformat_minor": 2
}
