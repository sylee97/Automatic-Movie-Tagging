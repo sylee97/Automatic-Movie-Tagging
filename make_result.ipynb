{
 "cells": [
  {
   "cell_type": "code",
   "execution_count": 2,
   "metadata": {},
   "outputs": [],
   "source": [
    "# load all_data.csv \n",
    "import pandas as pd\n",
    "rt_genre = pd.read_csv('./result_gr/test1.csv')"
   ]
  },
  {
   "cell_type": "code",
   "execution_count": 17,
   "metadata": {},
   "outputs": [],
   "source": [
    "rt_tag = pd.read_csv('./result_mt/result_t31_e03.csv')"
   ]
  },
  {
   "cell_type": "code",
   "execution_count": 22,
   "metadata": {},
   "outputs": [
    {
     "name": "stdout",
     "output_type": "stream",
     "text": [
      "['tt0111438', 'tt0111503', 'tt0111732', 'tt0111742', 'tt0111756', 'tt0112281', 'tt0112302', 'tt0112362', 'tt0112365', 'tt0112384', 'tt0112401', 'tt0112443', 'tt0112462', 'tt0112471', 'tt0112508', 'tt0112536', 'tt0112537', 'tt0112573', 'tt0112641', 'tt0112642', 'tt0112681', 'tt0112688', 'tt0112697', 'tt0112722', 'tt0112740', 'tt0112792', 'tt0112851', 'tt0112857', 'tt0112896', 'tt0113071', 'tt0113097', 'tt0113114', 'tt0113161', 'tt0113189', 'tt0113228', 'tt0113243', 'tt0113253', 'tt0113277', 'tt0113303', 'tt0113305', 'tt0113321', 'tt0113347', 'tt0113409', 'tt0113481', 'tt0113492', 'tt0113540', 'tt0113552', 'tt0113617', 'tt0113627', 'tt0113677', 'tt0113690', 'tt0113729', 'tt0113749', 'tt0113820', 'tt0113862', 'tt0113967', 'tt0113986', 'tt0113987', 'tt0114069', 'tt0114148', 'tt0114168', 'tt0114287', 'tt0114319', 'tt0114367', 'tt0114436', 'tt0114550', 'tt0114558', 'tt0114576', 'tt0114594', 'tt0114609', 'tt0114614', 'tt0114660', 'tt0114694', 'tt0114702', 'tt0114709', 'tt0114746', 'tt0114781', 'tt0114787', 'tt0114852', 'tt0114857', 'tt0114906', 'tt0114924', 'tt0115438', 'tt0115639', 'tt0115640', 'tt0115641', 'tt0115644', 'tt0115710', 'tt0115714', 'tt0115734', 'tt0115744', 'tt0115886', 'tt0115906', 'tt0115956', 'tt0115964', 'tt0116126', 'tt0116147', 'tt0116213', 'tt0116225', 'tt0116253', 'tt0116282', 'tt0116287', 'tt0116289', 'tt0116311', 'tt0116329', 'tt0116361', 'tt0116367', 'tt0116483', 'tt0116488', 'tt0116514', 'tt0116531', 'tt0116571', 'tt0116607', 'tt0116629', 'tt0116683', 'tt0116695', 'tt0116705']\n",
      "117\n"
     ]
    }
   ],
   "source": [
    "tag_id_list = rt_tag['imdb_id'].tolist()\n",
    "print(tag_id_list)\n",
    "print(len(tag_id_list))"
   ]
  },
  {
   "cell_type": "code",
   "execution_count": 19,
   "metadata": {},
   "outputs": [],
   "source": [
    "# s1_tag_idx에서 stft로 추출된 파일 목록 행을 추출\n",
    "ext_row=rt_genre.loc[rt_genre['title'].isin(tag_id_list)]"
   ]
  },
  {
   "cell_type": "code",
   "execution_count": 20,
   "metadata": {},
   "outputs": [
    {
     "name": "stdout",
     "output_type": "stream",
     "text": [
      "     Unnamed: 0      title Prediction Genre Real Genre\n",
      "5             5  tt0111438            Crime      Crime\n",
      "7             7  tt0111503           Action     Action\n",
      "8             8  tt0111732           Comedy      Drama\n",
      "9             9  tt0111742           Horror      Drama\n",
      "10           10  tt0111756            Crime     Action\n",
      "..          ...        ...              ...        ...\n",
      "140         140  tt0116607            Drama      Drama\n",
      "141         141  tt0116629            Drama     Action\n",
      "142         142  tt0116683           Action     Action\n",
      "143         143  tt0116695            Drama    Romance\n",
      "144         144  tt0116705           Action     Comedy\n",
      "\n",
      "[117 rows x 4 columns]\n"
     ]
    }
   ],
   "source": [
    "print(ext_row)"
   ]
  },
  {
   "cell_type": "code",
   "execution_count": 23,
   "metadata": {},
   "outputs": [],
   "source": [
    "ext_row.to_csv('./result_gr/test1_ext.csv')"
   ]
  }
 ],
 "metadata": {
  "kernelspec": {
   "display_name": "auto_tagging",
   "language": "python",
   "name": "python3"
  },
  "language_info": {
   "codemirror_mode": {
    "name": "ipython",
    "version": 3
   },
   "file_extension": ".py",
   "mimetype": "text/x-python",
   "name": "python",
   "nbconvert_exporter": "python",
   "pygments_lexer": "ipython3",
   "version": "3.7.16"
  }
 },
 "nbformat": 4,
 "nbformat_minor": 2
}
